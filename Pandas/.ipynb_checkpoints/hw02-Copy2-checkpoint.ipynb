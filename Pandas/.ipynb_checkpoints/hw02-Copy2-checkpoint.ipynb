{
 "cells": [
  {
   "cell_type": "markdown",
   "metadata": {},
   "source": [
    "Name: Kagen Lim\n",
    "\n",
    "Completed as HW02 of QMSS-G5072, Modern Data Structures, Fall 2020.\n",
    "\n",
    "Contact: [kagen.lim@columbia.edu](kagen.lim@columbia.edu)"
   ]
  },
  {
   "cell_type": "code",
   "execution_count": 1,
   "metadata": {},
   "outputs": [],
   "source": [
    "import numpy as np\n",
    "import pandas as pd\n",
    "import matplotlib.pyplot as plt\n",
    "peaks = pd.read_csv('data/peaks.csv')\n",
    "expeditions = pd.read_csv('data/expeditions.csv')\n",
    "members = pd.read_csv('data/members.csv')"
   ]
  },
  {
   "cell_type": "markdown",
   "metadata": {},
   "source": [
    "# Question 1: Peaks"
   ]
  },
  {
   "cell_type": "markdown",
   "metadata": {},
   "source": [
    "## Answer the following questions using the `peaks` data only:"
   ]
  },
  {
   "cell_type": "markdown",
   "metadata": {},
   "source": [
    "### What proportion of peaks is still unclimbed?"
   ]
  },
  {
   "cell_type": "code",
   "execution_count": 2,
   "metadata": {},
   "outputs": [
    {
     "name": "stdout",
     "output_type": "stream",
     "text": [
      "127\n",
      "468\n",
      "0.27136752136752135\n"
     ]
    }
   ],
   "source": [
    "#number of unclimbed peaks\n",
    "no_unclimbed_peaks = (peaks['climbing_status'] == 'Unclimbed').value_counts().loc[True]\n",
    "print(no_unclimbed_peaks)\n",
    "\n",
    "#total number of peaks\n",
    "total_no_peaks = peaks['climbing_status'].count()\n",
    "print(total_no_peaks)\n",
    "\n",
    "#proportion of unclimbed peaks\n",
    "print(no_unclimbed_peaks/total_no_peaks)"
   ]
  },
  {
   "cell_type": "markdown",
   "metadata": {},
   "source": [
    "### What is the average height of the climbed peaks vs. unclimbed peaks?"
   ]
  },
  {
   "cell_type": "code",
   "execution_count": 3,
   "metadata": {},
   "outputs": [
    {
     "name": "stdout",
     "output_type": "stream",
     "text": [
      "                 height_metres\n",
      "climbing_status               \n",
      "Climbed            6706.284457\n",
      "Unclimbed          6523.330709\n"
     ]
    }
   ],
   "source": [
    "#table which shows average height of climbed peaks vs unclimbed peaks\n",
    "print(peaks[['climbing_status','height_metres']].groupby('climbing_status').agg('mean'))"
   ]
  },
  {
   "cell_type": "markdown",
   "metadata": {},
   "source": [
    "# Question 2: Sherpas"
   ]
  },
  {
   "cell_type": "markdown",
   "metadata": {},
   "source": [
    "## Using the `members` data only, select a subset of all persons who have a Nepalese `citizenship`."
   ]
  },
  {
   "cell_type": "code",
   "execution_count": 4,
   "metadata": {},
   "outputs": [
    {
     "data": {
      "text/html": [
       "<div>\n",
       "<style scoped>\n",
       "    .dataframe tbody tr th:only-of-type {\n",
       "        vertical-align: middle;\n",
       "    }\n",
       "\n",
       "    .dataframe tbody tr th {\n",
       "        vertical-align: top;\n",
       "    }\n",
       "\n",
       "    .dataframe thead th {\n",
       "        text-align: right;\n",
       "    }\n",
       "</style>\n",
       "<table border=\"1\" class=\"dataframe\">\n",
       "  <thead>\n",
       "    <tr style=\"text-align: right;\">\n",
       "      <th></th>\n",
       "      <th>expedition_id</th>\n",
       "      <th>member_id</th>\n",
       "      <th>peak_id</th>\n",
       "      <th>peak_name</th>\n",
       "      <th>year</th>\n",
       "      <th>season</th>\n",
       "      <th>sex</th>\n",
       "      <th>age</th>\n",
       "      <th>citizenship</th>\n",
       "      <th>expedition_role</th>\n",
       "      <th>...</th>\n",
       "      <th>highpoint_metres</th>\n",
       "      <th>success</th>\n",
       "      <th>solo</th>\n",
       "      <th>oxygen_used</th>\n",
       "      <th>died</th>\n",
       "      <th>death_cause</th>\n",
       "      <th>death_height_metres</th>\n",
       "      <th>injured</th>\n",
       "      <th>injury_type</th>\n",
       "      <th>injury_height_metres</th>\n",
       "    </tr>\n",
       "  </thead>\n",
       "  <tbody>\n",
       "    <tr>\n",
       "      <th>24</th>\n",
       "      <td>AMAD79101</td>\n",
       "      <td>AMAD79101-18</td>\n",
       "      <td>AMAD</td>\n",
       "      <td>Ama Dablam</td>\n",
       "      <td>1979</td>\n",
       "      <td>Spring</td>\n",
       "      <td>M</td>\n",
       "      <td>23.0</td>\n",
       "      <td>Nepal</td>\n",
       "      <td>H-A Worker</td>\n",
       "      <td>...</td>\n",
       "      <td>6814.0</td>\n",
       "      <td>True</td>\n",
       "      <td>False</td>\n",
       "      <td>False</td>\n",
       "      <td>False</td>\n",
       "      <td>NaN</td>\n",
       "      <td>NaN</td>\n",
       "      <td>False</td>\n",
       "      <td>NaN</td>\n",
       "      <td>NaN</td>\n",
       "    </tr>\n",
       "    <tr>\n",
       "      <th>48</th>\n",
       "      <td>AMAD79301</td>\n",
       "      <td>AMAD79301-26</td>\n",
       "      <td>AMAD</td>\n",
       "      <td>Ama Dablam</td>\n",
       "      <td>1979</td>\n",
       "      <td>Autumn</td>\n",
       "      <td>M</td>\n",
       "      <td>NaN</td>\n",
       "      <td>Nepal</td>\n",
       "      <td>H-A Worker</td>\n",
       "      <td>...</td>\n",
       "      <td>6814.0</td>\n",
       "      <td>True</td>\n",
       "      <td>False</td>\n",
       "      <td>False</td>\n",
       "      <td>False</td>\n",
       "      <td>NaN</td>\n",
       "      <td>NaN</td>\n",
       "      <td>False</td>\n",
       "      <td>NaN</td>\n",
       "      <td>NaN</td>\n",
       "    </tr>\n",
       "    <tr>\n",
       "      <th>49</th>\n",
       "      <td>AMAD79301</td>\n",
       "      <td>AMAD79301-24</td>\n",
       "      <td>AMAD</td>\n",
       "      <td>Ama Dablam</td>\n",
       "      <td>1979</td>\n",
       "      <td>Autumn</td>\n",
       "      <td>M</td>\n",
       "      <td>NaN</td>\n",
       "      <td>Nepal</td>\n",
       "      <td>H-A Worker</td>\n",
       "      <td>...</td>\n",
       "      <td>6814.0</td>\n",
       "      <td>True</td>\n",
       "      <td>False</td>\n",
       "      <td>False</td>\n",
       "      <td>False</td>\n",
       "      <td>NaN</td>\n",
       "      <td>NaN</td>\n",
       "      <td>False</td>\n",
       "      <td>NaN</td>\n",
       "      <td>NaN</td>\n",
       "    </tr>\n",
       "    <tr>\n",
       "      <th>50</th>\n",
       "      <td>AMAD79301</td>\n",
       "      <td>AMAD79301-25</td>\n",
       "      <td>AMAD</td>\n",
       "      <td>Ama Dablam</td>\n",
       "      <td>1979</td>\n",
       "      <td>Autumn</td>\n",
       "      <td>M</td>\n",
       "      <td>NaN</td>\n",
       "      <td>Nepal</td>\n",
       "      <td>H-A Worker</td>\n",
       "      <td>...</td>\n",
       "      <td>6814.0</td>\n",
       "      <td>True</td>\n",
       "      <td>False</td>\n",
       "      <td>False</td>\n",
       "      <td>False</td>\n",
       "      <td>NaN</td>\n",
       "      <td>NaN</td>\n",
       "      <td>False</td>\n",
       "      <td>NaN</td>\n",
       "      <td>NaN</td>\n",
       "    </tr>\n",
       "    <tr>\n",
       "      <th>82</th>\n",
       "      <td>AMAD81101</td>\n",
       "      <td>AMAD81101-11</td>\n",
       "      <td>AMAD</td>\n",
       "      <td>Ama Dablam</td>\n",
       "      <td>1981</td>\n",
       "      <td>Spring</td>\n",
       "      <td>M</td>\n",
       "      <td>25.0</td>\n",
       "      <td>Nepal</td>\n",
       "      <td>H-A Worker</td>\n",
       "      <td>...</td>\n",
       "      <td>6814.0</td>\n",
       "      <td>True</td>\n",
       "      <td>False</td>\n",
       "      <td>False</td>\n",
       "      <td>False</td>\n",
       "      <td>NaN</td>\n",
       "      <td>NaN</td>\n",
       "      <td>False</td>\n",
       "      <td>NaN</td>\n",
       "      <td>NaN</td>\n",
       "    </tr>\n",
       "  </tbody>\n",
       "</table>\n",
       "<p>5 rows × 21 columns</p>\n",
       "</div>"
      ],
      "text/plain": [
       "   expedition_id     member_id peak_id   peak_name  year  season sex   age  \\\n",
       "24     AMAD79101  AMAD79101-18    AMAD  Ama Dablam  1979  Spring   M  23.0   \n",
       "48     AMAD79301  AMAD79301-26    AMAD  Ama Dablam  1979  Autumn   M   NaN   \n",
       "49     AMAD79301  AMAD79301-24    AMAD  Ama Dablam  1979  Autumn   M   NaN   \n",
       "50     AMAD79301  AMAD79301-25    AMAD  Ama Dablam  1979  Autumn   M   NaN   \n",
       "82     AMAD81101  AMAD81101-11    AMAD  Ama Dablam  1981  Spring   M  25.0   \n",
       "\n",
       "   citizenship expedition_role  ...  highpoint_metres  success   solo  \\\n",
       "24       Nepal      H-A Worker  ...            6814.0     True  False   \n",
       "48       Nepal      H-A Worker  ...            6814.0     True  False   \n",
       "49       Nepal      H-A Worker  ...            6814.0     True  False   \n",
       "50       Nepal      H-A Worker  ...            6814.0     True  False   \n",
       "82       Nepal      H-A Worker  ...            6814.0     True  False   \n",
       "\n",
       "    oxygen_used   died  death_cause death_height_metres  injured  injury_type  \\\n",
       "24        False  False          NaN                 NaN    False          NaN   \n",
       "48        False  False          NaN                 NaN    False          NaN   \n",
       "49        False  False          NaN                 NaN    False          NaN   \n",
       "50        False  False          NaN                 NaN    False          NaN   \n",
       "82        False  False          NaN                 NaN    False          NaN   \n",
       "\n",
       "   injury_height_metres  \n",
       "24                  NaN  \n",
       "48                  NaN  \n",
       "49                  NaN  \n",
       "50                  NaN  \n",
       "82                  NaN  \n",
       "\n",
       "[5 rows x 21 columns]"
      ]
     },
     "execution_count": 4,
     "metadata": {},
     "output_type": "execute_result"
    }
   ],
   "source": [
    "nepalese = members[members['citizenship'] == 'Nepal']\n",
    "nepalese.head()"
   ]
  },
  {
   "cell_type": "markdown",
   "metadata": {},
   "source": [
    "### a) What proportion of them was hired for the expedition? "
   ]
  },
  {
   "cell_type": "code",
   "execution_count": 5,
   "metadata": {},
   "outputs": [
    {
     "name": "stdout",
     "output_type": "stream",
     "text": [
      "15071\n",
      "16135\n"
     ]
    }
   ],
   "source": [
    "print(nepalese.loc[nepalese['hired'] == True, 'hired'].count())\n",
    "\n",
    "print(len(nepalese))"
   ]
  },
  {
   "cell_type": "markdown",
   "metadata": {},
   "source": [
    "### b) What are their minimum, maximum, and average ages?"
   ]
  },
  {
   "cell_type": "code",
   "execution_count": 6,
   "metadata": {},
   "outputs": [
    {
     "data": {
      "text/html": [
       "<div>\n",
       "<style scoped>\n",
       "    .dataframe tbody tr th:only-of-type {\n",
       "        vertical-align: middle;\n",
       "    }\n",
       "\n",
       "    .dataframe tbody tr th {\n",
       "        vertical-align: top;\n",
       "    }\n",
       "\n",
       "    .dataframe thead th {\n",
       "        text-align: right;\n",
       "    }\n",
       "</style>\n",
       "<table border=\"1\" class=\"dataframe\">\n",
       "  <thead>\n",
       "    <tr style=\"text-align: right;\">\n",
       "      <th></th>\n",
       "      <th>age</th>\n",
       "    </tr>\n",
       "  </thead>\n",
       "  <tbody>\n",
       "    <tr>\n",
       "      <th>min</th>\n",
       "      <td>12.000000</td>\n",
       "    </tr>\n",
       "    <tr>\n",
       "      <th>max</th>\n",
       "      <td>85.000000</td>\n",
       "    </tr>\n",
       "    <tr>\n",
       "      <th>mean</th>\n",
       "      <td>32.885062</td>\n",
       "    </tr>\n",
       "  </tbody>\n",
       "</table>\n",
       "</div>"
      ],
      "text/plain": [
       "            age\n",
       "min   12.000000\n",
       "max   85.000000\n",
       "mean  32.885062"
      ]
     },
     "execution_count": 6,
     "metadata": {},
     "output_type": "execute_result"
    }
   ],
   "source": [
    "nepalese[['age']].agg(['min', 'max', 'mean'])"
   ]
  },
  {
   "cell_type": "markdown",
   "metadata": {},
   "source": [
    "# Question 3: Gender"
   ]
  },
  {
   "cell_type": "markdown",
   "metadata": {},
   "source": [
    "## Now use all three data sets and join them on the provided ID variables. For this question, limit yourself to the subset of non-`hired` participants."
   ]
  },
  {
   "cell_type": "code",
   "execution_count": 7,
   "metadata": {},
   "outputs": [],
   "source": [
    "all_three = members.merge(peaks,how='inner', on = 'peak_id').merge(expeditions, how='inner', on='expedition_id')"
   ]
  },
  {
   "cell_type": "code",
   "execution_count": 8,
   "metadata": {
    "scrolled": true
   },
   "outputs": [
    {
     "name": "stdout",
     "output_type": "stream",
     "text": [
      "  expedition_id     member_id peak_id_x peak_name_x  year_x season_x sex  \\\n",
      "0     AMAD78301  AMAD78301-01      AMAD  Ama Dablam    1978   Autumn   M   \n",
      "1     AMAD78301  AMAD78301-02      AMAD  Ama Dablam    1978   Autumn   M   \n",
      "2     AMAD78301  AMAD78301-03      AMAD  Ama Dablam    1978   Autumn   M   \n",
      "3     AMAD78301  AMAD78301-04      AMAD  Ama Dablam    1978   Autumn   M   \n",
      "4     AMAD78301  AMAD78301-05      AMAD  Ama Dablam    1978   Autumn   M   \n",
      "\n",
      "    age citizenship expedition_role  ...  highpoint_date  termination_date  \\\n",
      "0  40.0      France          Leader  ...      1978-10-20        1978-10-23   \n",
      "1  41.0      France   Deputy Leader  ...      1978-10-20        1978-10-23   \n",
      "2  27.0      France         Climber  ...      1978-10-20        1978-10-23   \n",
      "3  40.0      France      Exp Doctor  ...      1978-10-20        1978-10-23   \n",
      "4  34.0      France         Climber  ...      1978-10-20        1978-10-23   \n",
      "\n",
      "                                  termination_reason  highpoint_metres_y  \\\n",
      "0  Bad conditions (deep snow, avalanching, fallin...              6000.0   \n",
      "1  Bad conditions (deep snow, avalanching, fallin...              6000.0   \n",
      "2  Bad conditions (deep snow, avalanching, fallin...              6000.0   \n",
      "3  Bad conditions (deep snow, avalanching, fallin...              6000.0   \n",
      "4  Bad conditions (deep snow, avalanching, fallin...              6000.0   \n",
      "\n",
      "   members  member_deaths hired_staff  hired_staff_deaths  oxygen_used_y  \\\n",
      "0        8              0           5                   0          False   \n",
      "1        8              0           5                   0          False   \n",
      "2        8              0           5                   0          False   \n",
      "3        8              0           5                   0          False   \n",
      "4        8              0           5                   0          False   \n",
      "\n",
      "  trekking_agency  \n",
      "0             NaN  \n",
      "1             NaN  \n",
      "2             NaN  \n",
      "3             NaN  \n",
      "4             NaN  \n",
      "\n",
      "[5 rows x 43 columns]\n",
      "['expedition_id', 'member_id', 'peak_id_x', 'peak_name_x', 'year_x', 'season_x', 'sex', 'age', 'citizenship', 'expedition_role', 'hired', 'highpoint_metres_x', 'success', 'solo', 'oxygen_used_x', 'died', 'death_cause', 'death_height_metres', 'injured', 'injury_type', 'injury_height_metres', 'peak_name_y', 'peak_alternative_name', 'height_metres', 'climbing_status', 'first_ascent_year', 'first_ascent_country', 'first_ascent_expedition_id', 'peak_id_y', 'peak_name', 'year_y', 'season_y', 'basecamp_date', 'highpoint_date', 'termination_date', 'termination_reason', 'highpoint_metres_y', 'members', 'member_deaths', 'hired_staff', 'hired_staff_deaths', 'oxygen_used_y', 'trekking_agency']\n"
     ]
    }
   ],
   "source": [
    "non_hired_all = all_three.loc[all_three['hired'] == False, :]\n",
    "print(non_hired_all.head())\n",
    "print(list(non_hired_all.columns))"
   ]
  },
  {
   "cell_type": "markdown",
   "metadata": {},
   "source": [
    "### a) What is the first record of a woman summitting a peak? Which peak (name and height in meters) was that?"
   ]
  },
  {
   "cell_type": "code",
   "execution_count": 9,
   "metadata": {},
   "outputs": [
    {
     "data": {
      "text/html": [
       "<div>\n",
       "<style scoped>\n",
       "    .dataframe tbody tr th:only-of-type {\n",
       "        vertical-align: middle;\n",
       "    }\n",
       "\n",
       "    .dataframe tbody tr th {\n",
       "        vertical-align: top;\n",
       "    }\n",
       "\n",
       "    .dataframe thead th {\n",
       "        text-align: right;\n",
       "    }\n",
       "</style>\n",
       "<table border=\"1\" class=\"dataframe\">\n",
       "  <thead>\n",
       "    <tr style=\"text-align: right;\">\n",
       "      <th></th>\n",
       "      <th>expedition_id</th>\n",
       "      <th>member_id</th>\n",
       "      <th>peak_id_x</th>\n",
       "      <th>peak_name_x</th>\n",
       "      <th>year_x</th>\n",
       "      <th>season_x</th>\n",
       "      <th>sex</th>\n",
       "      <th>age</th>\n",
       "      <th>citizenship</th>\n",
       "      <th>expedition_role</th>\n",
       "      <th>...</th>\n",
       "      <th>highpoint_date</th>\n",
       "      <th>termination_date</th>\n",
       "      <th>termination_reason</th>\n",
       "      <th>highpoint_metres_y</th>\n",
       "      <th>members</th>\n",
       "      <th>member_deaths</th>\n",
       "      <th>hired_staff</th>\n",
       "      <th>hired_staff_deaths</th>\n",
       "      <th>oxygen_used_y</th>\n",
       "      <th>trekking_agency</th>\n",
       "    </tr>\n",
       "  </thead>\n",
       "  <tbody>\n",
       "    <tr>\n",
       "      <th>73087</th>\n",
       "      <td>TENG49101</td>\n",
       "      <td>TENG49101-03</td>\n",
       "      <td>TENG</td>\n",
       "      <td>Tengkoma</td>\n",
       "      <td>1949</td>\n",
       "      <td>Spring</td>\n",
       "      <td>F</td>\n",
       "      <td>NaN</td>\n",
       "      <td>Switzerland</td>\n",
       "      <td>Climber</td>\n",
       "      <td>...</td>\n",
       "      <td>1949-06-17</td>\n",
       "      <td>1949-07-18</td>\n",
       "      <td>Success (main peak)</td>\n",
       "      <td>6215.0</td>\n",
       "      <td>5</td>\n",
       "      <td>0</td>\n",
       "      <td>1</td>\n",
       "      <td>0</td>\n",
       "      <td>False</td>\n",
       "      <td>NaN</td>\n",
       "    </tr>\n",
       "  </tbody>\n",
       "</table>\n",
       "<p>1 rows × 43 columns</p>\n",
       "</div>"
      ],
      "text/plain": [
       "      expedition_id     member_id peak_id_x peak_name_x  year_x season_x sex  \\\n",
       "73087     TENG49101  TENG49101-03      TENG    Tengkoma    1949   Spring   F   \n",
       "\n",
       "       age  citizenship expedition_role  ...  highpoint_date  \\\n",
       "73087  NaN  Switzerland         Climber  ...      1949-06-17   \n",
       "\n",
       "       termination_date   termination_reason  highpoint_metres_y  members  \\\n",
       "73087        1949-07-18  Success (main peak)              6215.0        5   \n",
       "\n",
       "       member_deaths hired_staff  hired_staff_deaths  oxygen_used_y  \\\n",
       "73087              0           1                   0          False   \n",
       "\n",
       "      trekking_agency  \n",
       "73087             NaN  \n",
       "\n",
       "[1 rows x 43 columns]"
      ]
     },
     "execution_count": 9,
     "metadata": {},
     "output_type": "execute_result"
    }
   ],
   "source": [
    "#first record of woman, TENG49101-03, summitting a peak within this dataset.\n",
    "first_woman = non_hired_all.query('sex == \"F\" & success == True').sort_values(by='highpoint_date').head(1)\n",
    "first_woman"
   ]
  },
  {
   "cell_type": "code",
   "execution_count": 10,
   "metadata": {},
   "outputs": [
    {
     "name": "stdout",
     "output_type": "stream",
     "text": [
      "      peak_name_x  height_metres\n",
      "73087    Tengkoma           6215\n"
     ]
    }
   ],
   "source": [
    "#peak(name) and height in metres that first woman summitted, within this dataset.\n",
    "print(first_woman[['peak_name_x', 'height_metres']])"
   ]
  },
  {
   "cell_type": "markdown",
   "metadata": {},
   "source": [
    "### b) Provide a single cross-tab table of the `sex` of an expedition participant and \n",
    "- the proportion of `success` in summitting a main peak or sub-peak\n",
    "- the proportion of participants using `oxygen` support \n",
    "- the proportion of participants who died."
   ]
  },
  {
   "cell_type": "code",
   "execution_count": 11,
   "metadata": {},
   "outputs": [
    {
     "data": {
      "text/html": [
       "<div>\n",
       "<style scoped>\n",
       "    .dataframe tbody tr th:only-of-type {\n",
       "        vertical-align: middle;\n",
       "    }\n",
       "\n",
       "    .dataframe tbody tr th {\n",
       "        vertical-align: top;\n",
       "    }\n",
       "\n",
       "    .dataframe thead tr th {\n",
       "        text-align: left;\n",
       "    }\n",
       "\n",
       "    .dataframe thead tr:last-of-type th {\n",
       "        text-align: right;\n",
       "    }\n",
       "</style>\n",
       "<table border=\"1\" class=\"dataframe\">\n",
       "  <thead>\n",
       "    <tr>\n",
       "      <th>success</th>\n",
       "      <th colspan=\"4\" halign=\"left\">False</th>\n",
       "      <th colspan=\"4\" halign=\"left\">True</th>\n",
       "      <th>All</th>\n",
       "    </tr>\n",
       "    <tr>\n",
       "      <th>oxygen_used_x</th>\n",
       "      <th colspan=\"2\" halign=\"left\">False</th>\n",
       "      <th colspan=\"2\" halign=\"left\">True</th>\n",
       "      <th colspan=\"2\" halign=\"left\">False</th>\n",
       "      <th colspan=\"2\" halign=\"left\">True</th>\n",
       "      <th></th>\n",
       "    </tr>\n",
       "    <tr>\n",
       "      <th>died</th>\n",
       "      <th>False</th>\n",
       "      <th>True</th>\n",
       "      <th>False</th>\n",
       "      <th>True</th>\n",
       "      <th>False</th>\n",
       "      <th>True</th>\n",
       "      <th>False</th>\n",
       "      <th>True</th>\n",
       "      <th></th>\n",
       "    </tr>\n",
       "    <tr>\n",
       "      <th>sex</th>\n",
       "      <th></th>\n",
       "      <th></th>\n",
       "      <th></th>\n",
       "      <th></th>\n",
       "      <th></th>\n",
       "      <th></th>\n",
       "      <th></th>\n",
       "      <th></th>\n",
       "      <th></th>\n",
       "    </tr>\n",
       "  </thead>\n",
       "  <tbody>\n",
       "    <tr>\n",
       "      <th>F</th>\n",
       "      <td>4336</td>\n",
       "      <td>27</td>\n",
       "      <td>351</td>\n",
       "      <td>8</td>\n",
       "      <td>1129</td>\n",
       "      <td>7</td>\n",
       "      <td>1147</td>\n",
       "      <td>7</td>\n",
       "      <td>7012</td>\n",
       "    </tr>\n",
       "    <tr>\n",
       "      <th>M</th>\n",
       "      <td>33768</td>\n",
       "      <td>466</td>\n",
       "      <td>2647</td>\n",
       "      <td>78</td>\n",
       "      <td>10010</td>\n",
       "      <td>117</td>\n",
       "      <td>6604</td>\n",
       "      <td>78</td>\n",
       "      <td>53768</td>\n",
       "    </tr>\n",
       "    <tr>\n",
       "      <th>All</th>\n",
       "      <td>38104</td>\n",
       "      <td>493</td>\n",
       "      <td>2998</td>\n",
       "      <td>86</td>\n",
       "      <td>11139</td>\n",
       "      <td>124</td>\n",
       "      <td>7751</td>\n",
       "      <td>85</td>\n",
       "      <td>60780</td>\n",
       "    </tr>\n",
       "  </tbody>\n",
       "</table>\n",
       "</div>"
      ],
      "text/plain": [
       "success        False                   True                    All\n",
       "oxygen_used_x  False       True       False       True            \n",
       "died           False True False True  False True False True       \n",
       "sex                                                               \n",
       "F               4336   27   351    8   1129    7  1147    7   7012\n",
       "M              33768  466  2647   78  10010  117  6604   78  53768\n",
       "All            38104  493  2998   86  11139  124  7751   85  60780"
      ]
     },
     "execution_count": 11,
     "metadata": {},
     "output_type": "execute_result"
    }
   ],
   "source": [
    "success = non_hired_all.success\n",
    "oxygen = non_hired_all.oxygen_used_x\n",
    "died = non_hired_all.died\n",
    "\n",
    "pd.crosstab(index = non_hired_all.sex, columns = [success, oxygen, died], margins = True)"
   ]
  },
  {
   "cell_type": "markdown",
   "metadata": {},
   "source": [
    "# Question 4: Accidents"
   ]
  },
  {
   "cell_type": "markdown",
   "metadata": {},
   "source": [
    "## For this question, use the `expeditions` data only."
   ]
  },
  {
   "cell_type": "code",
   "execution_count": 16,
   "metadata": {
    "scrolled": true
   },
   "outputs": [
    {
     "name": "stdout",
     "output_type": "stream",
     "text": [
      "  expedition_id peak_id     peak_name  year  season basecamp_date  \\\n",
      "0     ANN260101    ANN2  Annapurna II  1960  Spring    1960-03-15   \n",
      "1     ANN269301    ANN2  Annapurna II  1969  Autumn    1969-09-25   \n",
      "2     ANN273101    ANN2  Annapurna II  1973  Spring    1973-03-16   \n",
      "3     ANN278301    ANN2  Annapurna II  1978  Autumn    1978-09-08   \n",
      "4     ANN279301    ANN2  Annapurna II  1979  Autumn           NaN   \n",
      "\n",
      "  highpoint_date termination_date                termination_reason  \\\n",
      "0     1960-05-17              NaN               Success (main peak)   \n",
      "1     1969-10-22       1969-10-26               Success (main peak)   \n",
      "2     1973-05-06              NaN               Success (main peak)   \n",
      "3     1978-10-02       1978-10-05  Bad weather (storms, high winds)   \n",
      "4     1979-10-18       1979-10-20  Bad weather (storms, high winds)   \n",
      "\n",
      "   highpoint_metres  members  member_deaths  hired_staff  hired_staff_deaths  \\\n",
      "0            7937.0       10              0            9                   0   \n",
      "1            7937.0       10              0            0                   0   \n",
      "2            7937.0        6              0            8                   0   \n",
      "3            7000.0        2              0            0                   0   \n",
      "4            7160.0        3              0            0                   0   \n",
      "\n",
      "   oxygen_used trekking_agency  \n",
      "0         True             NaN  \n",
      "1        False             NaN  \n",
      "2        False             NaN  \n",
      "3        False             NaN  \n",
      "4        False             NaN  \n",
      "['expedition_id', 'peak_id', 'peak_name', 'year', 'season', 'basecamp_date', 'highpoint_date', 'termination_date', 'termination_reason', 'highpoint_metres', 'members', 'member_deaths', 'hired_staff', 'hired_staff_deaths', 'oxygen_used', 'trekking_agency']\n",
      "1905\n",
      "2019\n"
     ]
    }
   ],
   "source": [
    "print(expeditions.head())\n",
    "print(list(expeditions.columns))\n",
    "print(expeditions.year.min())\n",
    "print(expeditions.year.max())"
   ]
  },
  {
   "cell_type": "markdown",
   "metadata": {},
   "source": [
    "### a) Aggregate the data by decade and count the number of expeditions, the total number of expedition members, and the average rates of death for members and hired staff. Briefly describe what you found."
   ]
  },
  {
   "cell_type": "code",
   "execution_count": null,
   "metadata": {},
   "outputs": [],
   "source": [
    "expeditions.groupby()"
   ]
  },
  {
   "cell_type": "markdown",
   "metadata": {},
   "source": [
    "### b) Calculate the length_of_expedition as the time between the basecamp_date and the termination_date in days. Now, standardize these length_of_expedition values to z-values grouped by each peak (that is you need to standardize with the mean and standard deviation of expeditions for the same peak only). Are longer expeditions more or less likely to be associated with death? (no statistical test necessary)"
   ]
  },
  {
   "cell_type": "code",
   "execution_count": null,
   "metadata": {},
   "outputs": [],
   "source": []
  },
  {
   "cell_type": "markdown",
   "metadata": {},
   "source": [
    "# Question 5: Everest - A trophy?"
   ]
  },
  {
   "cell_type": "code",
   "execution_count": null,
   "metadata": {},
   "outputs": [],
   "source": []
  }
 ],
 "metadata": {
  "kernelspec": {
   "display_name": "Python 3",
   "language": "python",
   "name": "python3"
  },
  "language_info": {
   "codemirror_mode": {
    "name": "ipython",
    "version": 3
   },
   "file_extension": ".py",
   "mimetype": "text/x-python",
   "name": "python",
   "nbconvert_exporter": "python",
   "pygments_lexer": "ipython3",
   "version": "3.7.6"
  }
 },
 "nbformat": 4,
 "nbformat_minor": 4
}
