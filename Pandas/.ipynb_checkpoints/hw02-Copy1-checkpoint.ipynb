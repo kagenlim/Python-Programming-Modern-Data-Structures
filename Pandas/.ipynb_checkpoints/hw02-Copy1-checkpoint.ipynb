{
 "cells": [
  {
   "cell_type": "markdown",
   "metadata": {},
   "source": [
    "Name: Kagen Lim\n",
    "\n",
    "Completed as HW02 of QMSS-G5072, Modern Data Structures, Fall 2020.\n",
    "\n",
    "Contact: [kagen.lim@columbia.edu](kagen.lim@columbia.edu)"
   ]
  },
  {
   "cell_type": "code",
   "execution_count": 7,
   "metadata": {},
   "outputs": [],
   "source": [
    "import numpy as np\n",
    "import pandas as pd\n",
    "import matplotlib.pyplot as plt\n",
    "peaks = pd.read_csv('data/peaks.csv')\n",
    "expeditions = pd.read_csv('data/expeditions.csv')\n",
    "members = pd.read_csv('data/members.csv')"
   ]
  },
  {
   "cell_type": "markdown",
   "metadata": {},
   "source": [
    "# Question 1: Peaks"
   ]
  },
  {
   "cell_type": "markdown",
   "metadata": {},
   "source": [
    "### What proportion of peaks is still unclimbed?"
   ]
  },
  {
   "cell_type": "code",
   "execution_count": 40,
   "metadata": {},
   "outputs": [
    {
     "name": "stdout",
     "output_type": "stream",
     "text": [
      "0.27136752136752135\n"
     ]
    }
   ],
   "source": [
    "no_unclimbed_peaks = (peaks['climbing_status'] == 'Unclimbed').value_counts().loc[True]\n",
    "\n",
    "total_no_peaks = peaks['climbing_status'].count()\n",
    "\n",
    "print(no_unclimbed_peaks/total_no_peaks)"
   ]
  },
  {
   "cell_type": "markdown",
   "metadata": {},
   "source": [
    "### What is the average height of the climbed peaks vs. unclimbed peaks?"
   ]
  },
  {
   "cell_type": "code",
   "execution_count": 43,
   "metadata": {},
   "outputs": [
    {
     "name": "stdout",
     "output_type": "stream",
     "text": [
      "6523.330708661418\n",
      "6706.284457478006\n"
     ]
    }
   ],
   "source": [
    "print(peaks.height_metres[peaks['climbing_status'] == 'Unclimbed'].mean())\n",
    "\n",
    "print(peaks.height_metres[peaks['climbing_status'] == 'Climbed'].mean())"
   ]
  },
  {
   "cell_type": "markdown",
   "metadata": {},
   "source": [
    "# Question 2: Sherpas"
   ]
  },
  {
   "cell_type": "code",
   "execution_count": null,
   "metadata": {},
   "outputs": [],
   "source": []
  },
  {
   "cell_type": "markdown",
   "metadata": {},
   "source": [
    "# Question 3: Gender"
   ]
  },
  {
   "cell_type": "markdown",
   "metadata": {},
   "source": [
    "# Question 4: Accidents"
   ]
  },
  {
   "cell_type": "markdown",
   "metadata": {},
   "source": [
    "# Question 5: Everest - A trophy?"
   ]
  },
  {
   "cell_type": "code",
   "execution_count": 8,
   "metadata": {},
   "outputs": [
    {
     "name": "stdout",
     "output_type": "stream",
     "text": [
      "  peak_id      peak_name peak_alternative_name  height_metres climbing_status  \\\n",
      "0    AMAD     Ama Dablam          Amai Dablang           6814         Climbed   \n",
      "1    AMPG  Amphu Gyabjen                   NaN           5630         Climbed   \n",
      "2    ANN1    Annapurna I                   NaN           8091         Climbed   \n",
      "3    ANN2   Annapurna II                   NaN           7937         Climbed   \n",
      "4    ANN3  Annapurna III                   NaN           7555         Climbed   \n",
      "\n",
      "   first_ascent_year  first_ascent_country first_ascent_expedition_id  \n",
      "0             1961.0  New Zealand, USA, UK                  AMAD61101  \n",
      "1             1953.0                    UK                  AMPG53101  \n",
      "2             1950.0                France                  ANN150101  \n",
      "3             1960.0             UK, Nepal                  ANN260101  \n",
      "4             1961.0                 India                  ANN361101  \n"
     ]
    }
   ],
   "source": [
    "print(peaks.head())"
   ]
  },
  {
   "cell_type": "code",
   "execution_count": 9,
   "metadata": {},
   "outputs": [
    {
     "name": "stdout",
     "output_type": "stream",
     "text": [
      "  expedition_id peak_id     peak_name  year  season basecamp_date  \\\n",
      "0     ANN260101    ANN2  Annapurna II  1960  Spring    1960-03-15   \n",
      "1     ANN269301    ANN2  Annapurna II  1969  Autumn    1969-09-25   \n",
      "2     ANN273101    ANN2  Annapurna II  1973  Spring    1973-03-16   \n",
      "3     ANN278301    ANN2  Annapurna II  1978  Autumn    1978-09-08   \n",
      "4     ANN279301    ANN2  Annapurna II  1979  Autumn           NaN   \n",
      "\n",
      "  highpoint_date termination_date                termination_reason  \\\n",
      "0     1960-05-17              NaN               Success (main peak)   \n",
      "1     1969-10-22       1969-10-26               Success (main peak)   \n",
      "2     1973-05-06              NaN               Success (main peak)   \n",
      "3     1978-10-02       1978-10-05  Bad weather (storms, high winds)   \n",
      "4     1979-10-18       1979-10-20  Bad weather (storms, high winds)   \n",
      "\n",
      "   highpoint_metres  members  member_deaths  hired_staff  hired_staff_deaths  \\\n",
      "0            7937.0       10              0            9                   0   \n",
      "1            7937.0       10              0            0                   0   \n",
      "2            7937.0        6              0            8                   0   \n",
      "3            7000.0        2              0            0                   0   \n",
      "4            7160.0        3              0            0                   0   \n",
      "\n",
      "   oxygen_used trekking_agency  \n",
      "0         True             NaN  \n",
      "1        False             NaN  \n",
      "2        False             NaN  \n",
      "3        False             NaN  \n",
      "4        False             NaN  \n"
     ]
    }
   ],
   "source": [
    "print(expeditions.head())"
   ]
  },
  {
   "cell_type": "code",
   "execution_count": 10,
   "metadata": {},
   "outputs": [
    {
     "name": "stdout",
     "output_type": "stream",
     "text": [
      "  expedition_id     member_id peak_id   peak_name  year  season sex   age  \\\n",
      "0     AMAD78301  AMAD78301-01    AMAD  Ama Dablam  1978  Autumn   M  40.0   \n",
      "1     AMAD78301  AMAD78301-02    AMAD  Ama Dablam  1978  Autumn   M  41.0   \n",
      "2     AMAD78301  AMAD78301-03    AMAD  Ama Dablam  1978  Autumn   M  27.0   \n",
      "3     AMAD78301  AMAD78301-04    AMAD  Ama Dablam  1978  Autumn   M  40.0   \n",
      "4     AMAD78301  AMAD78301-05    AMAD  Ama Dablam  1978  Autumn   M  34.0   \n",
      "\n",
      "  citizenship expedition_role  ...  highpoint_metres  success   solo  \\\n",
      "0      France          Leader  ...               NaN    False  False   \n",
      "1      France   Deputy Leader  ...            6000.0    False  False   \n",
      "2      France         Climber  ...               NaN    False  False   \n",
      "3      France      Exp Doctor  ...            6000.0    False  False   \n",
      "4      France         Climber  ...               NaN    False  False   \n",
      "\n",
      "   oxygen_used   died  death_cause death_height_metres  injured  injury_type  \\\n",
      "0        False  False          NaN                 NaN    False          NaN   \n",
      "1        False  False          NaN                 NaN    False          NaN   \n",
      "2        False  False          NaN                 NaN    False          NaN   \n",
      "3        False  False          NaN                 NaN    False          NaN   \n",
      "4        False  False          NaN                 NaN    False          NaN   \n",
      "\n",
      "  injury_height_metres  \n",
      "0                  NaN  \n",
      "1                  NaN  \n",
      "2                  NaN  \n",
      "3                  NaN  \n",
      "4                  NaN  \n",
      "\n",
      "[5 rows x 21 columns]\n"
     ]
    }
   ],
   "source": [
    "print(members.head())"
   ]
  },
  {
   "cell_type": "code",
   "execution_count": null,
   "metadata": {},
   "outputs": [],
   "source": []
  }
 ],
 "metadata": {
  "kernelspec": {
   "display_name": "Python 3",
   "language": "python",
   "name": "python3"
  },
  "language_info": {
   "codemirror_mode": {
    "name": "ipython",
    "version": 3
   },
   "file_extension": ".py",
   "mimetype": "text/x-python",
   "name": "python",
   "nbconvert_exporter": "python",
   "pygments_lexer": "ipython3",
   "version": "3.7.6"
  }
 },
 "nbformat": 4,
 "nbformat_minor": 4
}
