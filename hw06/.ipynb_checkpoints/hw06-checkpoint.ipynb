{
 "cells": [
  {
   "cell_type": "markdown",
   "metadata": {},
   "source": [
    "Name: Kagen Lim\n",
    "\n",
    "Completed as HW06 of QMSS-G5072, Modern Data Structures, Fall 2020.\n",
    "\n",
    "Contact: [kagen.lim@columbia.edu](kagen.lim@columbia.edu)"
   ]
  },
  {
   "cell_type": "code",
   "execution_count": 1,
   "metadata": {},
   "outputs": [],
   "source": [
    "#original cipher\n",
    "def cipher(text, shift, encrypt=True):\n",
    "    alphabet = 'abcdefghijklmnopqrstuvwyzABCDEFGHIJKLMNOPQRSTUVWYZ'\n",
    "    new_text = ''\n",
    "    for c in text:\n",
    "        index = alphabet.find(c)\n",
    "        if index == -1:\n",
    "            new_text += c\n",
    "        else:\n",
    "            new_index = index + shift if encrypt == True else index - shift \n",
    "            new_index %= len(alphabet)\n",
    "            new_text += alphabet[new_index:new_index+1] #if encrypt is False, shift will not happen\n",
    "    return new_text"
   ]
  },
  {
   "cell_type": "code",
   "execution_count": 2,
   "metadata": {},
   "outputs": [],
   "source": [
    "import pytest"
   ]
  },
  {
   "cell_type": "markdown",
   "metadata": {},
   "source": [
    "## 1. Test the `encrypt` function"
   ]
  },
  {
   "cell_type": "markdown",
   "metadata": {},
   "source": [
    "### a) Write a test function that checks whether the cipher function works using a single word as an example."
   ]
  },
  {
   "cell_type": "code",
   "execution_count": 3,
   "metadata": {},
   "outputs": [],
   "source": [
    "def test_cipher_with_single_word():\n",
    "    actual = cipher('bob', 1)\n",
    "    expected = 'cpc' #expected result, should the test pass\n",
    "    assert actual == expected\n",
    "    \n",
    "test_cipher_with_single_word()\n",
    "##AssertionError was not raised, test passes"
   ]
  },
  {
   "cell_type": "markdown",
   "metadata": {},
   "source": [
    "### b) Write a test function that checks a negative shift works (`shift < 0`)."
   ]
  },
  {
   "cell_type": "code",
   "execution_count": 4,
   "metadata": {},
   "outputs": [],
   "source": [
    "def test_ciper_negative_shift():\n",
    "    actual = cipher('fun', -1)\n",
    "    expected = 'etm'\n",
    "    assert actual == expected\n",
    "    \n",
    "test_ciper_negative_shift()\n",
    "##AssertionError was not raised, test passes, negative shift works"
   ]
  },
  {
   "cell_type": "markdown",
   "metadata": {},
   "source": [
    "### c) Write a test for the case when the text contains symbols which are not in the alphabet."
   ]
  },
  {
   "cell_type": "code",
   "execution_count": 5,
   "metadata": {},
   "outputs": [],
   "source": [
    "def test_cipher_non_alphabet():\n",
    "    actual = cipher('b%b', 1)\n",
    "    expected = 'c%c'\n",
    "    assert actual == expected\n",
    "    \n",
    "test_cipher_non_alphabet()\n",
    "##AssertionError was not raised, test passes, non-alphabetic symbols works; but function still processes alphabetic characterrs"
   ]
  },
  {
   "cell_type": "markdown",
   "metadata": {},
   "source": [
    "### d) Add an assertion to the original function that causes an exception when the shift parameter is set to a string (e.g. \"two\"). Now, add a test that checks for that exception occurring as expected when a string is passed to shift."
   ]
  },
  {
   "cell_type": "code",
   "execution_count": 6,
   "metadata": {},
   "outputs": [],
   "source": [
    "#modified cipher\n",
    "def cipher(text, shift, encrypt=True):\n",
    "    alphabet = 'abcdefghijklmnopqrstuvwyzABCDEFGHIJKLMNOPQRSTUVWYZ'\n",
    "    new_text = ''\n",
    "    for c in text:\n",
    "        index = alphabet.find(c)\n",
    "        if type(shift) == str: \n",
    "            raise Exception(\"Please enter an integer value for the shift argument.\") ##assertion added\n",
    "        if index == -1:\n",
    "            new_text += c\n",
    "        else:\n",
    "            new_index = index + shift if encrypt == True else index - shift \n",
    "            new_index %= len(alphabet)\n",
    "            new_text += alphabet[new_index:new_index+1] #if encrypt is False, shift will not happen\n",
    "    return new_text"
   ]
  },
  {
   "cell_type": "code",
   "execution_count": 7,
   "metadata": {},
   "outputs": [],
   "source": [
    "def test_string_string_shift(): #test that checks for whether shift parameter is string\n",
    "    with pytest.raises(Exception):\n",
    "        cipher('john', 'two') "
   ]
  },
  {
   "cell_type": "markdown",
   "metadata": {},
   "source": [
    "### e) Add the test from 1a, 1b, 1c, and 1d to a file called test_cipher.py in your folder. Run all the tests from your command line using pytest (and verbosity setting -vv) and add a screen shot of the command and the output to your homework solution."
   ]
  },
  {
   "cell_type": "markdown",
   "metadata": {},
   "source": [
    "![pytest_1](images/pytest_1.png)"
   ]
  },
  {
   "cell_type": "markdown",
   "metadata": {},
   "source": [
    "## 2. Fixtures"
   ]
  },
  {
   "cell_type": "markdown",
   "metadata": {},
   "source": [
    "### a) Now, expand the test in (1a) using several examples which include a single word, lower case only, upper case only, and a sentence with spaces. Use a fixture for this, so that this remains a single test function."
   ]
  },
  {
   "cell_type": "code",
   "execution_count": 8,
   "metadata": {},
   "outputs": [],
   "source": [
    "def cipher(text, shift, encrypt=True): #modified cipher\n",
    "    alphabet = 'abcdefghijklmnopqrstuvwyzABCDEFGHIJKLMNOPQRSTUVWYZ'\n",
    "    new_text = ''\n",
    "    for c in text:\n",
    "        index = alphabet.find(c)\n",
    "        if type(shift) == str: \n",
    "            raise Exception(\"Please enter an integer value for the shift argument.\")\n",
    "        if index == -1:\n",
    "            new_text += c\n",
    "        else:\n",
    "            new_index = index + shift if encrypt == True else index - shift \n",
    "            new_index %= len(alphabet)\n",
    "            new_text += alphabet[new_index:new_index+1] #if encrypt is False, shift will not happen\n",
    "    return new_text\n",
    "\n",
    "@pytest.fixture(name='cipher')\n",
    "def cipher_fixture():\n",
    "    return cipher()\n",
    "\n",
    "def test_single_word():\n",
    "    result = cipher('bob', 1)\n",
    "    expected = 'cpc' #expected result, should the test pass\n",
    "    assert result == expected\n",
    "    \n",
    "def test_lowercase_only():\n",
    "    result = cipher('prince', 1)\n",
    "    expected = 'qsjodf' #expected result, should the test pass\n",
    "    assert result == expected\n",
    "    \n",
    "def test_uppercase_only():\n",
    "    result = cipher('BOB', 1)\n",
    "    expected = 'CPC' #expected result, should the test pass\n",
    "    assert result == expected\n",
    "    \n",
    "def test_sentence_with_spaces(): \n",
    "    result = cipher('Bob hit the prince', 1)\n",
    "    expected = 'Cpc iju uif qsjodf'#expected result, should the test pass\n",
    "    assert result == expected"
   ]
  },
  {
   "cell_type": "markdown",
   "metadata": {},
   "source": [
    "### b) Add all test methods from Q1 to a test class. Now, parametrize your class, so that the same five test cases will be sent to all of the test functions in the class. [Note: I did not show this exact procedure in class but this is quite similar to the implementation in 2a]."
   ]
  },
  {
   "cell_type": "code",
   "execution_count": 9,
   "metadata": {},
   "outputs": [],
   "source": [
    "#defining test class\n",
    "class TestCipher: \n",
    "    def test_cipher_with_single_word(self, text, shift, expected):\n",
    "        actual = cipher(text, shift)\n",
    "        assert actual == expected\n",
    "    \n",
    "    def test_ciper_negative_shift(self, text, shift, expected):\n",
    "        actual = cipher(text, shift)\n",
    "        assert actual == expected\n",
    "    \n",
    "    def test_cipher_non_alphabet(self, text, shift, expected):\n",
    "        actual = cipher(text, shift)\n",
    "        assert actual == expected\n",
    "        \n",
    "    def test_uppercase_only(self, text, shift, expected):\n",
    "        actual = cipher(text, shift)\n",
    "        assert actual == expected\n",
    "        \n",
    "    def test_string_string_shift(self, text, shift, expected): \n",
    "        with pytest.raises(Exception):\n",
    "            cipher(text, shift)"
   ]
  },
  {
   "cell_type": "code",
   "execution_count": 10,
   "metadata": {},
   "outputs": [],
   "source": [
    "@pytest.mark.parametrize(\"text, shift, expected\", [\n",
    "    ('bob', 1,'cpc'),\n",
    "    ('fun', -1, 'etm'), \n",
    "    ('b%b', 1, 'c%c'),\n",
    "    ('BOB', 1, 'CPC'),\n",
    "    ('john', 'two', Exception)\n",
    "])\n",
    "\n",
    "class TestCipher: \n",
    "    def test_cipher_with_single_word(self, text, shift, expected):\n",
    "        actual = cipher(text, shift)\n",
    "        assert actual == expected\n",
    "    \n",
    "    def test_ciper_negative_shift(self, text, shift, expected):\n",
    "        actual = cipher(text, shift)\n",
    "        assert actual == expected\n",
    "    \n",
    "    def test_cipher_non_alphabet(self, text, shift, expected):\n",
    "        actual = cipher(text, shift)\n",
    "        assert actual == expected\n",
    "        \n",
    "    def test_uppercase_only():\n",
    "        actual = cipher(text, shift)\n",
    "        assert actual == expected\n",
    "        \n",
    "    def test_string_string_shift(self, text, shift, expected): \n",
    "        with pytest.raises(Exception):\n",
    "            cipher(text, shift)"
   ]
  },
  {
   "cell_type": "markdown",
   "metadata": {},
   "source": [
    "### c) Add the test from 2a and 2b to a file called `test_cipher_class.py` in your folder. Run all the tests in the test class from your command line using pytest (and verbosity setting -vv) and add a screen shot of the command and the output to your homework solution."
   ]
  },
  {
   "cell_type": "markdown",
   "metadata": {},
   "source": [
    "![pytest_2](images/pytest_2.png)"
   ]
  },
  {
   "cell_type": "markdown",
   "metadata": {},
   "source": [
    "![pytest_2a](images/pytest_2a.png)"
   ]
  },
  {
   "cell_type": "markdown",
   "metadata": {},
   "source": [
    "## 3. Integration"
   ]
  },
  {
   "cell_type": "markdown",
   "metadata": {},
   "source": [
    "### a) Write a simple integration-like test that relies on the fact that we can encrypt and decrypt a string using the function (using the `encrypt` parameter). That is, your test should start with a string, encrypt it, decrypt it, and then compare the result to the starting point. Set up a test that runs this for shift values from 1 to 10."
   ]
  },
  {
   "cell_type": "code",
   "execution_count": 11,
   "metadata": {},
   "outputs": [],
   "source": [
    "def test_cipher_encrypt_decrypt():\n",
    "    encrypted = cipher('tom', 1, encrypt = True)\n",
    "    decrypted = cipher(encrypted, -1, encrypt = True)\n",
    "    assert decrypted == 'tom'\n",
    "    \n",
    "test_cipher_encrypt_decrypt()"
   ]
  },
  {
   "cell_type": "code",
   "execution_count": 12,
   "metadata": {},
   "outputs": [],
   "source": [
    "@pytest.mark.parametrize(\"shift\", [\n",
    "    1, 2, 3, 4, 5, 6, 7, 8, 9, 10\n",
    "])\n",
    "\n",
    "def test_cipher_encrypt_decrypt(shift):\n",
    "    encrypted = cipher('tom', shift, encrypt = True)\n",
    "    decrypted = cipher(encrypted, -(shift), encrypt = True)\n",
    "    assert decrypted == 'tom'"
   ]
  },
  {
   "cell_type": "markdown",
   "metadata": {},
   "source": [
    "![pytest_3](images/pytest_3.png)"
   ]
  },
  {
   "cell_type": "markdown",
   "metadata": {},
   "source": [
    "### b) [OPTIONAL BONUS PART] I briefly discussed in class, that the hypothesis package is able to generate arbitrary inputs (of the required kind for a function) to test its limits. Use hypothesis to test a variety of string inputs and different integers for the shift value. Show your setup and pytest output. What did you find?"
   ]
  },
  {
   "cell_type": "code",
   "execution_count": 13,
   "metadata": {},
   "outputs": [],
   "source": [
    "from hypothesis import given\n",
    "from hypothesis.strategies import text, floats\n",
    "\n",
    "\n",
    "@given(s=text(),n=floats())\n",
    "def test_cipher_float_and_text(s,n):\n",
    "    encrypted = cipher(s, n, encrypt = True)\n",
    "    decrypted = cipher(encrypted, -(n), encrypt = True)\n",
    "    assert decrypted == s"
   ]
  },
  {
   "cell_type": "markdown",
   "metadata": {},
   "source": [
    "![pytest_4](images/pytest_4.png)"
   ]
  },
  {
   "cell_type": "markdown",
   "metadata": {},
   "source": [
    "The `cipher` function seems to be able be hold, against the various arbitrary inputs that were generated by the `hypothesis` package."
   ]
  }
 ],
 "metadata": {
  "kernelspec": {
   "display_name": "Python 3",
   "language": "python",
   "name": "python3"
  },
  "language_info": {
   "codemirror_mode": {
    "name": "ipython",
    "version": 3
   },
   "file_extension": ".py",
   "mimetype": "text/x-python",
   "name": "python",
   "nbconvert_exporter": "python",
   "pygments_lexer": "ipython3",
   "version": "3.7.6"
  }
 },
 "nbformat": 4,
 "nbformat_minor": 4
}
