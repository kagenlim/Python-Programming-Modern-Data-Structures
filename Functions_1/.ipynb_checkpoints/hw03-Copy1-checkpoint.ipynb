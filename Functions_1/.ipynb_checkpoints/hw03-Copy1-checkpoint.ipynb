{
 "cells": [
  {
   "cell_type": "markdown",
   "metadata": {},
   "source": [
    "Name: Kagen Lim\n",
    "\n",
    "Completed as HW03 of QMSS-G5072, Modern Data Structures, Fall 2020.\n",
    "\n",
    "Contact: [kagen.lim@columbia.edu](mailto:kagen.lim@columbia.edu)"
   ]
  },
  {
   "cell_type": "markdown",
   "metadata": {},
   "source": [
    "# Question 1: Cost of the event"
   ]
  },
  {
   "cell_type": "markdown",
   "metadata": {},
   "source": [
    "a) Provide a python function called `cost_of_event` that takes as parameters:\n",
    "\n",
    "- `num_of_people`: the number of people attending the event\n",
    "- `type`: type of the event could be `wedding`, `private` or `corporate`\n",
    "- `cost`: cost per person in USD."
   ]
  },
  {
   "cell_type": "code",
   "execution_count": 1,
   "metadata": {},
   "outputs": [],
   "source": [
    "def cost_of_event(num_of_people, cost=200, type='wedding') : \n",
    "    cost = num_of_people*cost\n",
    "    if type == 'wedding': \n",
    "        return cost*1.5\n",
    "    if type == 'private' or type == 'corporate':\n",
    "        return cost"
   ]
  },
  {
   "cell_type": "code",
   "execution_count": 2,
   "metadata": {},
   "outputs": [
    {
     "data": {
      "text/plain": [
       "101250.0"
      ]
     },
     "execution_count": 2,
     "metadata": {},
     "output_type": "execute_result"
    }
   ],
   "source": [
    "#if\n",
    "cost_of_event(150, cost=450, type = 'wedding')"
   ]
  },
  {
   "cell_type": "code",
   "execution_count": 3,
   "metadata": {},
   "outputs": [
    {
     "data": {
      "text/plain": [
       "67500"
      ]
     },
     "execution_count": 3,
     "metadata": {},
     "output_type": "execute_result"
    }
   ],
   "source": [
    "#check 1\n",
    "cost_of_event(150, cost=450, type = 'corporate')"
   ]
  },
  {
   "cell_type": "code",
   "execution_count": 4,
   "metadata": {},
   "outputs": [],
   "source": [
    "#check 2\n",
    "cost_of_event(150, cost=450, type = 'nonsense')"
   ]
  },
  {
   "cell_type": "markdown",
   "metadata": {},
   "source": [
    "b) We now want to provide information on the applicable sales tax as well. Write a separate function called `sales_tax` which takes in the value of an event and returns the total amount of sales tax. Make sure this function has a `tax_rate` parameter and set the default to 10 percent. Unfortunately, this particular state has an odd tax law that taxes some events progressively. Private events (including weddings) up to 1000 dollars total cost are tax free but for any event cost that exceeds 1000 dollars the sales tax applies. For example, a wedding costing 3000 dollars would have an added sales tax of (3000-1000) * 10% = 200 dollars, whereas the same corporate event would have a sales tax of 3000 * 10%=$300 applied.\n",
    "\n",
    "Print the result of your function for a private event and corporate event each costing 5000 dollars."
   ]
  },
  {
   "cell_type": "code",
   "execution_count": 5,
   "metadata": {},
   "outputs": [],
   "source": [
    "def sales_tax(cost_of_event, tax_rate=0.1, type='corporate'):\n",
    "    if type == 'corporate':\n",
    "        return cost_of_event * tax_rate \n",
    "    if cost_of_event <= 1000 and type == 'private':\n",
    "        return 0\n",
    "    if cost_of_event > 1000 and type == 'private':\n",
    "        return (cost_of_event - 1000) * tax_rate"
   ]
  },
  {
   "cell_type": "code",
   "execution_count": 6,
   "metadata": {},
   "outputs": [
    {
     "data": {
      "text/plain": [
       "500.0"
      ]
     },
     "execution_count": 6,
     "metadata": {},
     "output_type": "execute_result"
    }
   ],
   "source": [
    "sales_tax(5000)"
   ]
  },
  {
   "cell_type": "code",
   "execution_count": 7,
   "metadata": {},
   "outputs": [
    {
     "data": {
      "text/plain": [
       "400.0"
      ]
     },
     "execution_count": 7,
     "metadata": {},
     "output_type": "execute_result"
    }
   ],
   "source": [
    "sales_tax(5000, type='private')"
   ]
  },
  {
   "cell_type": "markdown",
   "metadata": {},
   "source": [
    "c) Now combine the functions `cost_of_event` and `sales_tax` into a third function called event_calculator. The function `event_calculator` only has one required input, `num_of_people`, but also allows for an optional set of additional keyword arguments that can be passed to the relevant two sub-functions. This function only prints to the console and should include the following printout:\n",
    "\n",
    "```\n",
    "Total number of guests: \n",
    "Type of event:\n",
    "Cost per person:\n",
    "---------------------------\n",
    "Cost of event:\n",
    "Sales tax:\n",
    "---------------------------\n",
    "Total cost: \n",
    "```\n",
    "\n",
    "Print the result of the function for a corporate event with 100 people at a cost of $75 per person and a sales tax rate of 8 percent."
   ]
  },
  {
   "cell_type": "code",
   "execution_count": 8,
   "metadata": {},
   "outputs": [],
   "source": [
    "def event_calculator(num_of_people, **kwargs):\n",
    "    print(f\"Total number of guests: {num_of_people}\")\n",
    "    print(f\"Type of event: {kwargs['type']}\")\n",
    "    print(f\"Cost per person: {kwargs['cost']}\")\n",
    "    print(f'---------------------------')\n",
    "    before_tax = cost_of_event(num_of_people, kwargs['cost'], kwargs['type'])\n",
    "    print(f\"Cost of event: {before_tax}\")\n",
    "    with_tax = sales_tax(before_tax, kwargs['tax_rate'])\n",
    "    print(f\"Sales tax: {with_tax}\")\n",
    "    print(f'---------------------------')\n",
    "    print(f\"Total cost: {before_tax + with_tax}\")"
   ]
  },
  {
   "cell_type": "code",
   "execution_count": 9,
   "metadata": {
    "scrolled": true
   },
   "outputs": [
    {
     "name": "stdout",
     "output_type": "stream",
     "text": [
      "Total number of guests: 100\n",
      "Type of event: corporate\n",
      "Cost per person: 75\n",
      "---------------------------\n",
      "Cost of event: 7500\n",
      "Sales tax: 600.0\n",
      "---------------------------\n",
      "Total cost: 8100.0\n"
     ]
    }
   ],
   "source": [
    "event_calculator(num_of_people = 100, type = 'corporate', cost = 75, tax_rate = 0.08)"
   ]
  },
  {
   "cell_type": "markdown",
   "metadata": {},
   "source": [
    "# Question 2: Error handling"
   ]
  },
  {
   "cell_type": "markdown",
   "metadata": {},
   "source": [
    "a) Your friend was happy about your work but recently noticed some issues. She asks you to make sure that the `event_calculator` function only accepts:\n",
    "\n",
    "- a non-negative cost per person\n",
    "- the types of events you planned for in your function\n",
    "\n",
    "Add **assertions (in any place you find appropriate)** that warn a user when either of these requirements are not fulfilled. Make sure the user knows what went wrong by **providing a description** of what input is incorrect.\n",
    "\n",
    "Print the result of the function for an event of type `bachelor party`.\n",
    "Print the result of the function for an event with `cost` = `free`."
   ]
  },
  {
   "cell_type": "code",
   "execution_count": 10,
   "metadata": {},
   "outputs": [],
   "source": [
    "def event_calculator_eh(num_of_people, **kwargs):\n",
    "    tuple_event_types = (\"wedding\", \"private\", \"corporate\")\n",
    "    assert isinstance(kwargs['cost'], int), f\"This function only works on integers but cost={kwargs['cost']}.\"\n",
    "    assert kwargs['cost'] >= 0, \"Cost per person must be a non-negative integer.\"\n",
    "    assert kwargs['type'] in tuple_event_types, \"Type of event must be wedding, corporate, or private.\"\n",
    "    print(f\"Total number of guests: {num_of_people}\")\n",
    "    print(f\"Type of event: {kwargs['type']}\")\n",
    "    print(f\"Cost per person: {kwargs['cost']}\")\n",
    "    print(f'---------------------------')\n",
    "    before_tax = cost_of_event(num_of_people, kwargs['cost'], kwargs['type'])\n",
    "    print(f\"Cost of event: {before_tax}\")\n",
    "    with_tax = sales_tax(before_tax, kwargs['tax_rate'])\n",
    "    print(f\"Sales tax: {with_tax}\")\n",
    "    print(f'---------------------------')\n",
    "    print(f\"Total cost: {before_tax + with_tax}\")"
   ]
  },
  {
   "cell_type": "code",
   "execution_count": 11,
   "metadata": {},
   "outputs": [
    {
     "ename": "AssertionError",
     "evalue": "This function only works on integers but cost=free.",
     "output_type": "error",
     "traceback": [
      "\u001b[0;31m---------------------------------------------------------------------------\u001b[0m",
      "\u001b[0;31mAssertionError\u001b[0m                            Traceback (most recent call last)",
      "\u001b[0;32m<ipython-input-11-726cbdba9137>\u001b[0m in \u001b[0;36m<module>\u001b[0;34m\u001b[0m\n\u001b[0;32m----> 1\u001b[0;31m \u001b[0mevent_calculator_eh\u001b[0m\u001b[0;34m(\u001b[0m\u001b[0;36m20\u001b[0m\u001b[0;34m,\u001b[0m \u001b[0mcost\u001b[0m \u001b[0;34m=\u001b[0m \u001b[0;34m'free'\u001b[0m\u001b[0;34m)\u001b[0m\u001b[0;34m\u001b[0m\u001b[0;34m\u001b[0m\u001b[0m\n\u001b[0m",
      "\u001b[0;32m<ipython-input-10-19d3eff4c8d2>\u001b[0m in \u001b[0;36mevent_calculator_eh\u001b[0;34m(num_of_people, **kwargs)\u001b[0m\n\u001b[1;32m      1\u001b[0m \u001b[0;32mdef\u001b[0m \u001b[0mevent_calculator_eh\u001b[0m\u001b[0;34m(\u001b[0m\u001b[0mnum_of_people\u001b[0m\u001b[0;34m,\u001b[0m \u001b[0;34m**\u001b[0m\u001b[0mkwargs\u001b[0m\u001b[0;34m)\u001b[0m\u001b[0;34m:\u001b[0m\u001b[0;34m\u001b[0m\u001b[0;34m\u001b[0m\u001b[0m\n\u001b[1;32m      2\u001b[0m     \u001b[0mtuple_event_types\u001b[0m \u001b[0;34m=\u001b[0m \u001b[0;34m(\u001b[0m\u001b[0;34m\"wedding\"\u001b[0m\u001b[0;34m,\u001b[0m \u001b[0;34m\"private\"\u001b[0m\u001b[0;34m,\u001b[0m \u001b[0;34m\"corporate\"\u001b[0m\u001b[0;34m)\u001b[0m\u001b[0;34m\u001b[0m\u001b[0;34m\u001b[0m\u001b[0m\n\u001b[0;32m----> 3\u001b[0;31m     \u001b[0;32massert\u001b[0m \u001b[0misinstance\u001b[0m\u001b[0;34m(\u001b[0m\u001b[0mkwargs\u001b[0m\u001b[0;34m[\u001b[0m\u001b[0;34m'cost'\u001b[0m\u001b[0;34m]\u001b[0m\u001b[0;34m,\u001b[0m \u001b[0mint\u001b[0m\u001b[0;34m)\u001b[0m\u001b[0;34m,\u001b[0m \u001b[0;34mf\"This function only works on integers but cost={kwargs['cost']}.\"\u001b[0m\u001b[0;34m\u001b[0m\u001b[0;34m\u001b[0m\u001b[0m\n\u001b[0m\u001b[1;32m      4\u001b[0m     \u001b[0;32massert\u001b[0m \u001b[0mkwargs\u001b[0m\u001b[0;34m[\u001b[0m\u001b[0;34m'cost'\u001b[0m\u001b[0;34m]\u001b[0m \u001b[0;34m>=\u001b[0m \u001b[0;36m0\u001b[0m\u001b[0;34m,\u001b[0m \u001b[0;34m\"Cost per person must be a non-negative integer.\"\u001b[0m\u001b[0;34m\u001b[0m\u001b[0;34m\u001b[0m\u001b[0m\n\u001b[1;32m      5\u001b[0m     \u001b[0;32massert\u001b[0m \u001b[0mkwargs\u001b[0m\u001b[0;34m[\u001b[0m\u001b[0;34m'type'\u001b[0m\u001b[0;34m]\u001b[0m \u001b[0;32min\u001b[0m \u001b[0mtuple_event_types\u001b[0m\u001b[0;34m,\u001b[0m \u001b[0;34m\"Type of event must be wedding, corporate, or private.\"\u001b[0m\u001b[0;34m\u001b[0m\u001b[0;34m\u001b[0m\u001b[0m\n",
      "\u001b[0;31mAssertionError\u001b[0m: This function only works on integers but cost=free."
     ]
    }
   ],
   "source": [
    "event_calculator_eh(20, cost = 'free')"
   ]
  },
  {
   "cell_type": "code",
   "execution_count": 12,
   "metadata": {},
   "outputs": [
    {
     "ename": "AssertionError",
     "evalue": "Type of event must be wedding, corporate, or private.",
     "output_type": "error",
     "traceback": [
      "\u001b[0;31m---------------------------------------------------------------------------\u001b[0m",
      "\u001b[0;31mAssertionError\u001b[0m                            Traceback (most recent call last)",
      "\u001b[0;32m<ipython-input-12-c47d7d98bffb>\u001b[0m in \u001b[0;36m<module>\u001b[0;34m\u001b[0m\n\u001b[0;32m----> 1\u001b[0;31m \u001b[0mevent_calculator_eh\u001b[0m\u001b[0;34m(\u001b[0m\u001b[0;36m20\u001b[0m\u001b[0;34m,\u001b[0m \u001b[0mcost\u001b[0m \u001b[0;34m=\u001b[0m \u001b[0;36m20\u001b[0m\u001b[0;34m,\u001b[0m \u001b[0mtype\u001b[0m \u001b[0;34m=\u001b[0m \u001b[0;34m'bachelor_party'\u001b[0m\u001b[0;34m)\u001b[0m\u001b[0;34m\u001b[0m\u001b[0;34m\u001b[0m\u001b[0m\n\u001b[0m",
      "\u001b[0;32m<ipython-input-10-19d3eff4c8d2>\u001b[0m in \u001b[0;36mevent_calculator_eh\u001b[0;34m(num_of_people, **kwargs)\u001b[0m\n\u001b[1;32m      3\u001b[0m     \u001b[0;32massert\u001b[0m \u001b[0misinstance\u001b[0m\u001b[0;34m(\u001b[0m\u001b[0mkwargs\u001b[0m\u001b[0;34m[\u001b[0m\u001b[0;34m'cost'\u001b[0m\u001b[0;34m]\u001b[0m\u001b[0;34m,\u001b[0m \u001b[0mint\u001b[0m\u001b[0;34m)\u001b[0m\u001b[0;34m,\u001b[0m \u001b[0;34mf\"This function only works on integers but cost={kwargs['cost']}.\"\u001b[0m\u001b[0;34m\u001b[0m\u001b[0;34m\u001b[0m\u001b[0m\n\u001b[1;32m      4\u001b[0m     \u001b[0;32massert\u001b[0m \u001b[0mkwargs\u001b[0m\u001b[0;34m[\u001b[0m\u001b[0;34m'cost'\u001b[0m\u001b[0;34m]\u001b[0m \u001b[0;34m>=\u001b[0m \u001b[0;36m0\u001b[0m\u001b[0;34m,\u001b[0m \u001b[0;34m\"Cost per person must be a non-negative integer.\"\u001b[0m\u001b[0;34m\u001b[0m\u001b[0;34m\u001b[0m\u001b[0m\n\u001b[0;32m----> 5\u001b[0;31m     \u001b[0;32massert\u001b[0m \u001b[0mkwargs\u001b[0m\u001b[0;34m[\u001b[0m\u001b[0;34m'type'\u001b[0m\u001b[0;34m]\u001b[0m \u001b[0;32min\u001b[0m \u001b[0mtuple_event_types\u001b[0m\u001b[0;34m,\u001b[0m \u001b[0;34m\"Type of event must be wedding, corporate, or private.\"\u001b[0m\u001b[0;34m\u001b[0m\u001b[0;34m\u001b[0m\u001b[0m\n\u001b[0m\u001b[1;32m      6\u001b[0m     \u001b[0mprint\u001b[0m\u001b[0;34m(\u001b[0m\u001b[0;34mf\"Total number of guests: {num_of_people}\"\u001b[0m\u001b[0;34m)\u001b[0m\u001b[0;34m\u001b[0m\u001b[0;34m\u001b[0m\u001b[0m\n\u001b[1;32m      7\u001b[0m     \u001b[0mprint\u001b[0m\u001b[0;34m(\u001b[0m\u001b[0;34mf\"Type of event: {kwargs['type']}\"\u001b[0m\u001b[0;34m)\u001b[0m\u001b[0;34m\u001b[0m\u001b[0;34m\u001b[0m\u001b[0m\n",
      "\u001b[0;31mAssertionError\u001b[0m: Type of event must be wedding, corporate, or private."
     ]
    }
   ],
   "source": [
    "event_calculator_eh(20, cost = 20, type = 'bachelor_party')"
   ]
  },
  {
   "cell_type": "markdown",
   "metadata": {},
   "source": [
    "b) Your friend does like that no erroneous values come through anymore but her customers don't really understand your Python generated warnings. Remove the assertions from (2a) and use a `try`-`except` setup to catch all errors that arise and simply ask the user (via a printed message) to `Please check your input values.`\n",
    "\n",
    "Print the result of the function for an event with a negative sales tax rate as the input."
   ]
  },
  {
   "cell_type": "code",
   "execution_count": 13,
   "metadata": {},
   "outputs": [],
   "source": [
    "def event_calculator_eh2(num_of_people, **kwargs):\n",
    "    tuple_event_types = (\"wedding\", \"private\", \"corporate\")\n",
    "    before_tax = cost_of_event(num_of_people, kwargs['cost'], kwargs['type'])\n",
    "    with_tax = sales_tax(before_tax, kwargs['tax_rate'])\n",
    "    try: \n",
    "        print(f\"Total number of guests: {num_of_people}\")\n",
    "        if kwargs['type'] not in tuple_event_types:\n",
    "            raise Exception\n",
    "        else: \n",
    "            print(f\"Type of event: {kwargs['type']}\")\n",
    "        if kwargs['cost'] < 0:\n",
    "            raise Exception\n",
    "        else: \n",
    "            print(f\"Cost per person: {kwargs['cost']}\")\n",
    "            print(f'---------------------------')\n",
    "            print(f\"Cost of event: {before_tax}\")\n",
    "        if kwargs['tax_rate'] < 0:\n",
    "            raise Exception\n",
    "        else: \n",
    "            print(f\"Sales tax: {with_tax}\")\n",
    "            print(f'---------------------------')\n",
    "            print(f\"Total cost: {before_tax + with_tax}\")\n",
    "    except: \n",
    "        print(\"Please check your input values.\")    "
   ]
  },
  {
   "cell_type": "code",
   "execution_count": 14,
   "metadata": {},
   "outputs": [
    {
     "name": "stdout",
     "output_type": "stream",
     "text": [
      "Total number of guests: 20\n",
      "Type of event: wedding\n",
      "Cost per person: 20\n",
      "---------------------------\n",
      "Cost of event: 600.0\n",
      "Please check your input values.\n"
     ]
    }
   ],
   "source": [
    "event_calculator_eh2(20, cost = 20, type = 'wedding', tax_rate = -0.5)"
   ]
  },
  {
   "cell_type": "markdown",
   "metadata": {},
   "source": [
    "# Question 3: Multiple events"
   ]
  },
  {
   "cell_type": "markdown",
   "metadata": {},
   "source": [
    "Your friend really likes your calculator and would like to apply it retroactively to her database of events to check whether her past event quotes were correct. Alter your `event_calculator` from (2b) to now provide a total event cost (including tax) as a return value. Using the following data frame, show how you can check whether her previous estimates were correct. The solution should not simply copy-and-paste these values into your function but be programmatic so it could be applied to a much larger data frame:\n",
    "\n",
    "```\n",
    "data = [(200, 'private', 55, 10, 12100), \n",
    "        (150, 'wedding', 280, 10, 69300), \n",
    "        (20, 'corporate', 80, 15, 1840), \n",
    "        (8, 'private', 100, 10, 880)]\n",
    "pd.DataFrame.from_records(data, columns=['num_of_people', 'type', 'cost', 'sales_tax_rate', 'total_cost'])\n",
    "```"
   ]
  },
  {
   "cell_type": "code",
   "execution_count": 89,
   "metadata": {},
   "outputs": [],
   "source": [
    "def event_calculator_me(num_of_people, **kwargs):\n",
    "    tuple_event_types = (\"wedding\", \"private\", \"corporate\")\n",
    "    before_tax = cost_of_event(num_of_people, kwargs['cost'], kwargs['type'])\n",
    "    with_tax = sales_tax(before_tax, kwargs['tax_rate'])\n",
    "    total_cost = before_tax + with_tax\n",
    "    try: \n",
    "        if kwargs['type'] not in tuple_event_types:\n",
    "            raise Exception\n",
    "        if kwargs['cost'] < 0:\n",
    "            raise Exception\n",
    "        if kwargs['tax_rate'] < 0:\n",
    "            raise Exception\n",
    "        return total_cost\n",
    "    except: \n",
    "        print(\"Please check your input values.\")  "
   ]
  },
  {
   "cell_type": "code",
   "execution_count": 90,
   "metadata": {},
   "outputs": [
    {
     "data": {
      "text/html": [
       "<div>\n",
       "<style scoped>\n",
       "    .dataframe tbody tr th:only-of-type {\n",
       "        vertical-align: middle;\n",
       "    }\n",
       "\n",
       "    .dataframe tbody tr th {\n",
       "        vertical-align: top;\n",
       "    }\n",
       "\n",
       "    .dataframe thead th {\n",
       "        text-align: right;\n",
       "    }\n",
       "</style>\n",
       "<table border=\"1\" class=\"dataframe\">\n",
       "  <thead>\n",
       "    <tr style=\"text-align: right;\">\n",
       "      <th></th>\n",
       "      <th>num_of_people</th>\n",
       "      <th>type</th>\n",
       "      <th>cost</th>\n",
       "      <th>sales_tax_rate</th>\n",
       "      <th>total_cost</th>\n",
       "      <th>tax_rate</th>\n",
       "    </tr>\n",
       "  </thead>\n",
       "  <tbody>\n",
       "    <tr>\n",
       "      <th>0</th>\n",
       "      <td>200</td>\n",
       "      <td>private</td>\n",
       "      <td>55</td>\n",
       "      <td>10</td>\n",
       "      <td>12100</td>\n",
       "      <td>0.10</td>\n",
       "    </tr>\n",
       "    <tr>\n",
       "      <th>1</th>\n",
       "      <td>150</td>\n",
       "      <td>wedding</td>\n",
       "      <td>280</td>\n",
       "      <td>10</td>\n",
       "      <td>69300</td>\n",
       "      <td>0.10</td>\n",
       "    </tr>\n",
       "    <tr>\n",
       "      <th>2</th>\n",
       "      <td>20</td>\n",
       "      <td>corporate</td>\n",
       "      <td>80</td>\n",
       "      <td>15</td>\n",
       "      <td>1840</td>\n",
       "      <td>0.15</td>\n",
       "    </tr>\n",
       "    <tr>\n",
       "      <th>3</th>\n",
       "      <td>8</td>\n",
       "      <td>private</td>\n",
       "      <td>100</td>\n",
       "      <td>10</td>\n",
       "      <td>880</td>\n",
       "      <td>0.10</td>\n",
       "    </tr>\n",
       "  </tbody>\n",
       "</table>\n",
       "</div>"
      ],
      "text/plain": [
       "   num_of_people       type  cost  sales_tax_rate  total_cost  tax_rate\n",
       "0            200    private    55              10       12100      0.10\n",
       "1            150    wedding   280              10       69300      0.10\n",
       "2             20  corporate    80              15        1840      0.15\n",
       "3              8    private   100              10         880      0.10"
      ]
     },
     "execution_count": 90,
     "metadata": {},
     "output_type": "execute_result"
    }
   ],
   "source": [
    "import pandas as pd\n",
    "data = [(200, 'private', 55, 10, 12100), \n",
    "        (150, 'wedding', 280, 10, 69300), \n",
    "        (20, 'corporate', 80, 15, 1840), \n",
    "        (8, 'private', 100, 10, 880)]\n",
    "estimates = pd.DataFrame.from_records(data, columns=['num_of_people', 'type', 'cost', 'sales_tax_rate', 'total_cost'])\n",
    "estimates['tax_rate'] = estimates['sales_tax_rate'] / 100 \n",
    "estimates"
   ]
  },
  {
   "cell_type": "code",
   "execution_count": 93,
   "metadata": {},
   "outputs": [
    {
     "name": "stdout",
     "output_type": "stream",
     "text": [
      "12100.0\n",
      "69300.0\n",
      "1840.0\n",
      "880.0\n"
     ]
    }
   ],
   "source": [
    "for ind in estimates.index: \n",
    "    print(event_calculator_me(estimates.loc[ind, 'num_of_people'], cost = estimates.loc[ind, 'cost'], type = estimates.loc[ind, 'type'], tax_rate = estimates.loc[ind, 'tax_rate']))"
   ]
  },
  {
   "cell_type": "code",
   "execution_count": null,
   "metadata": {},
   "outputs": [],
   "source": []
  }
 ],
 "metadata": {
  "kernelspec": {
   "display_name": "Python 3",
   "language": "python",
   "name": "python3"
  },
  "language_info": {
   "codemirror_mode": {
    "name": "ipython",
    "version": 3
   },
   "file_extension": ".py",
   "mimetype": "text/x-python",
   "name": "python",
   "nbconvert_exporter": "python",
   "pygments_lexer": "ipython3",
   "version": "3.7.6"
  }
 },
 "nbformat": 4,
 "nbformat_minor": 4
}
