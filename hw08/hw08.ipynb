{
 "cells": [
  {
   "cell_type": "markdown",
   "metadata": {},
   "source": [
    "Name: Kagen Lim\n",
    "\n",
    "Completed as HW08 of QMSS-G5072, Modern Data Structures, Fall 2020.\n",
    "\n",
    "Contact: [kagen.lim@columbia.edu](mailto:kagen.lim@columbia.edu)"
   ]
  },
  {
   "cell_type": "markdown",
   "metadata": {},
   "source": [
    "## 1. Choose your API"
   ]
  },
  {
   "cell_type": "code",
   "execution_count": 1,
   "metadata": {},
   "outputs": [],
   "source": [
    "import requests\n",
    "import json\n",
    "import os\n",
    "import pandas as pd"
   ]
  },
  {
   "cell_type": "markdown",
   "metadata": {},
   "source": [
    "#### a) Choose an API and briefly describe the type of data you can obtain from it. Note: Please do not use any of the APIs we covered in lecture (e.g. NYTimes, Github etc.)."
   ]
  },
  {
   "cell_type": "markdown",
   "metadata": {},
   "source": [
    "The Guardian is a United Kingdom-based newspaper. Thier homepage can be found [here](https://www.theguardian.com/international). This API is maintained in-house by them, as a open and publically accessible service for developers to access all of their web content. \n",
    "\n",
    "This API provides article information under by a few categories, for instance, `sectionName` (i.e., what section of The Guardian that the article is classified under) and `webTitle` (i.e., the title of the article.\n",
    "\n",
    "The API allows for the user to enter search terms, to uncover relevant articles of interest. "
   ]
  },
  {
   "cell_type": "markdown",
   "metadata": {},
   "source": [
    "#### b) Provide a link to the API documentation and"
   ]
  },
  {
   "cell_type": "markdown",
   "metadata": {},
   "source": [
    "**Link to API Documentation**: https://open-platform.theguardian.com/documentation/"
   ]
  },
  {
   "cell_type": "markdown",
   "metadata": {},
   "source": [
    "#### c) the base URL of the API you intend to use."
   ]
  },
  {
   "cell_type": "markdown",
   "metadata": {},
   "source": [
    "**Base URL of the API**: https://content.guardianapis.com"
   ]
  },
  {
   "cell_type": "markdown",
   "metadata": {},
   "source": [
    "## 2. Authentication"
   ]
  },
  {
   "cell_type": "markdown",
   "metadata": {},
   "source": [
    "#### a) Briefly explain how the API authenticates the user. "
   ]
  },
  {
   "cell_type": "markdown",
   "metadata": {},
   "source": [
    "The Guardian API authenticates users using the API Key that they key in, as part of the `get` request. API Keys are unique values, that are given to each user upon registration. This enables the developers on their end to keep track of *exactly who* accesses what information. "
   ]
  },
  {
   "cell_type": "markdown",
   "metadata": {},
   "source": [
    "#### b) Apply for an API key if necessary and provide the information (with relevant URL) how that can be done. Do not include the API key in the assignment submission."
   ]
  },
  {
   "cell_type": "markdown",
   "metadata": {},
   "source": [
    "**Apply for an API Key at this link**: https://open-platform.theguardian.com/access/ "
   ]
  },
  {
   "cell_type": "markdown",
   "metadata": {},
   "source": [
    "There are very few barriers to entry, to get an API key for The Guardian's API. One simply needs to key in their particulars, email contact, and product name/reason for key, in order to get an API key. "
   ]
  },
  {
   "cell_type": "markdown",
   "metadata": {},
   "source": [
    "## 3. Send a Simple GET request"
   ]
  },
  {
   "cell_type": "markdown",
   "metadata": {},
   "source": [
    "#### a) Execute a simple GET request to obtain a small amount of data from the API. Describe a few query parameters and add them to the query. If you have a choice of the output the API returns (e.g. XML or JSON), I suggest to choose JSON because it easier to work with. Your output here should include the code for the GET request, including the query parameters, as well as a snippet of the output."
   ]
  },
  {
   "cell_type": "code",
   "execution_count": 3,
   "metadata": {},
   "outputs": [],
   "source": [
    "guardian_api = os.getenv('guardian_api')"
   ]
  },
  {
   "cell_type": "markdown",
   "metadata": {},
   "source": [
    "#### Query Parameters: \n",
    "- Search: This should be string input, a single word or phrase, that reflects what you would like to search for.\n",
    "- Page-Size: This should be an integer inpiut that reflects the number of results you'd like to have in the output.\n",
    "- API Key: This should be the API Key that was requested for, through the link in 2b). "
   ]
  },
  {
   "cell_type": "code",
   "execution_count": 4,
   "metadata": {},
   "outputs": [],
   "source": [
    "r1 = requests.get('https://content.guardianapis.com/search?q=coronavirus&page-size=2&api-key={}'.format(guardian_api))\n",
    "\n",
    "#I want articles related to coronaviruses, therefore `/search?q=coronavirus`\n",
    "#I want a sample size of 2, therefore `&page-size=2`\n",
    "#I insert my API Key in `&api-key={}` "
   ]
  },
  {
   "cell_type": "code",
   "execution_count": 7,
   "metadata": {},
   "outputs": [
    {
     "name": "stdout",
     "output_type": "stream",
     "text": [
      "{\n",
      "  \"response\": {\n",
      "    \"status\": \"ok\",\n",
      "    \"userTier\": \"developer\",\n",
      "    \"total\": 26205,\n",
      "    \"startIndex\": 1,\n",
      "    \"pageSize\": 2,\n",
      "    \"currentPage\": 1,\n",
      "    \"pages\": 13103,\n",
      "    \"orderBy\": \"relevance\",\n",
      "    \"results\": [\n",
      "      {\n",
      "        \"id\": \"world/2020/nov/18/us-passes-250000-deaths-from-coronavirus\",\n",
      "        \"type\": \"article\",\n",
      "        \"sectionId\": \"world\",\n",
      "        \"sectionName\": \"World news\",\n",
      "        \"webPublicationDate\": \"2020-11-18T22:49:04Z\",\n",
      "        \"webTitle\": \"US passes 250,000 deaths from coronavirus\",\n",
      "        \"webUrl\": \"https://www.theguardian.com/world/2020/nov/18/us-passes-250000-deaths-from-coronavirus\",\n",
      "        \"apiUrl\": \"https://content.guardianapis.com/world/2020/nov/18/us-passes-250000-deaths-from-coronavirus\",\n",
      "        \"isHosted\": false,\n",
      "        \"pillarId\": \"pillar/news\",\n",
      "        \"pillarName\": \"News\"\n",
      "      },\n",
      "      {\n",
      "        \"id\": \"world/2020/sep/28/england-new-coronavirus-restrictions-explained\",\n",
      "        \"type\": \"article\",\n",
      "        \"sectionId\": \"world\",\n",
      "        \"sectionName\": \"World news\",\n",
      "        \"webPublicationDate\": \"2020-09-28T18:36:34Z\",\n",
      "        \"webTitle\": \"England\\u2019s new coronavirus restrictions explained\",\n",
      "        \"webUrl\": \"https://www.theguardian.com/world/2020/sep/28/england-new-coronavirus-restrictions-explained\",\n",
      "        \"apiUrl\": \"https://content.guardianapis.com/world/2020/sep/28/england-new-coronavirus-restrictions-explained\",\n",
      "        \"isHosted\": false,\n",
      "        \"pillarId\": \"pillar/news\",\n",
      "        \"pillarName\": \"News\"\n",
      "      }\n",
      "    ]\n",
      "  }\n",
      "}\n"
     ]
    }
   ],
   "source": [
    "print(json.dumps(r1.json(), indent=2))"
   ]
  },
  {
   "cell_type": "markdown",
   "metadata": {},
   "source": [
    "#### b) Check (and show) the status of the request."
   ]
  },
  {
   "cell_type": "code",
   "execution_count": 5,
   "metadata": {},
   "outputs": [
    {
     "data": {
      "text/plain": [
       "200"
      ]
     },
     "execution_count": 5,
     "metadata": {},
     "output_type": "execute_result"
    }
   ],
   "source": [
    "r1.status_code\n",
    "\n",
    "#Status code of 200 shows this is working."
   ]
  },
  {
   "cell_type": "markdown",
   "metadata": {},
   "source": [
    "#### c) Check (and show) the type of the response (e.g. XML, JSON, csv)."
   ]
  },
  {
   "cell_type": "code",
   "execution_count": 6,
   "metadata": {},
   "outputs": [
    {
     "data": {
      "text/plain": [
       "'application/json'"
      ]
     },
     "execution_count": 6,
     "metadata": {},
     "output_type": "execute_result"
    }
   ],
   "source": [
    "r1.headers['content-type']\n",
    "\n",
    "#This is a JSON file. "
   ]
  },
  {
   "cell_type": "markdown",
   "metadata": {},
   "source": [
    "## 4. Parse the response and Create a dataset"
   ]
  },
  {
   "cell_type": "markdown",
   "metadata": {},
   "source": [
    "#### a) Take the response returned by the API and turn it into a useful Python object (e.g. a list, vector, or pandas data frame). Show the code how this is done."
   ]
  },
  {
   "cell_type": "code",
   "execution_count": 8,
   "metadata": {},
   "outputs": [],
   "source": [
    "guardian_json = r1.json()"
   ]
  },
  {
   "cell_type": "code",
   "execution_count": 9,
   "metadata": {},
   "outputs": [
    {
     "data": {
      "text/html": [
       "<div>\n",
       "<style scoped>\n",
       "    .dataframe tbody tr th:only-of-type {\n",
       "        vertical-align: middle;\n",
       "    }\n",
       "\n",
       "    .dataframe tbody tr th {\n",
       "        vertical-align: top;\n",
       "    }\n",
       "\n",
       "    .dataframe thead th {\n",
       "        text-align: right;\n",
       "    }\n",
       "</style>\n",
       "<table border=\"1\" class=\"dataframe\">\n",
       "  <thead>\n",
       "    <tr style=\"text-align: right;\">\n",
       "      <th></th>\n",
       "      <th>id</th>\n",
       "      <th>type</th>\n",
       "      <th>sectionId</th>\n",
       "      <th>sectionName</th>\n",
       "      <th>webPublicationDate</th>\n",
       "      <th>webTitle</th>\n",
       "      <th>webUrl</th>\n",
       "      <th>apiUrl</th>\n",
       "      <th>isHosted</th>\n",
       "      <th>pillarId</th>\n",
       "      <th>pillarName</th>\n",
       "    </tr>\n",
       "  </thead>\n",
       "  <tbody>\n",
       "    <tr>\n",
       "      <th>0</th>\n",
       "      <td>world/2020/nov/18/us-passes-250000-deaths-from...</td>\n",
       "      <td>article</td>\n",
       "      <td>world</td>\n",
       "      <td>World news</td>\n",
       "      <td>2020-11-18T22:49:04Z</td>\n",
       "      <td>US passes 250,000 deaths from coronavirus</td>\n",
       "      <td>https://www.theguardian.com/world/2020/nov/18/...</td>\n",
       "      <td>https://content.guardianapis.com/world/2020/no...</td>\n",
       "      <td>False</td>\n",
       "      <td>pillar/news</td>\n",
       "      <td>News</td>\n",
       "    </tr>\n",
       "    <tr>\n",
       "      <th>1</th>\n",
       "      <td>world/2020/sep/28/england-new-coronavirus-rest...</td>\n",
       "      <td>article</td>\n",
       "      <td>world</td>\n",
       "      <td>World news</td>\n",
       "      <td>2020-09-28T18:36:34Z</td>\n",
       "      <td>England’s new coronavirus restrictions explained</td>\n",
       "      <td>https://www.theguardian.com/world/2020/sep/28/...</td>\n",
       "      <td>https://content.guardianapis.com/world/2020/se...</td>\n",
       "      <td>False</td>\n",
       "      <td>pillar/news</td>\n",
       "      <td>News</td>\n",
       "    </tr>\n",
       "  </tbody>\n",
       "</table>\n",
       "</div>"
      ],
      "text/plain": [
       "                                                  id     type sectionId  \\\n",
       "0  world/2020/nov/18/us-passes-250000-deaths-from...  article     world   \n",
       "1  world/2020/sep/28/england-new-coronavirus-rest...  article     world   \n",
       "\n",
       "  sectionName    webPublicationDate  \\\n",
       "0  World news  2020-11-18T22:49:04Z   \n",
       "1  World news  2020-09-28T18:36:34Z   \n",
       "\n",
       "                                           webTitle  \\\n",
       "0         US passes 250,000 deaths from coronavirus   \n",
       "1  England’s new coronavirus restrictions explained   \n",
       "\n",
       "                                              webUrl  \\\n",
       "0  https://www.theguardian.com/world/2020/nov/18/...   \n",
       "1  https://www.theguardian.com/world/2020/sep/28/...   \n",
       "\n",
       "                                              apiUrl  isHosted     pillarId  \\\n",
       "0  https://content.guardianapis.com/world/2020/no...     False  pillar/news   \n",
       "1  https://content.guardianapis.com/world/2020/se...     False  pillar/news   \n",
       "\n",
       "  pillarName  \n",
       "0       News  \n",
       "1       News  "
      ]
     },
     "execution_count": 9,
     "metadata": {},
     "output_type": "execute_result"
    }
   ],
   "source": [
    "guardian_json_df = pd.DataFrame(guardian_json['response']['results'])\n",
    "guardian_json_df\n",
    "\n",
    "#Pandas DataFrame"
   ]
  },
  {
   "cell_type": "markdown",
   "metadata": {},
   "source": [
    "#### b) Using the API, create a dataset (in data frame format) for multiple records. I'd say a sample size greater than 100 is sufficient for the example but feel free to get more data if you feel ambitious and the API allows you to do that fairly easily. The dataset can include only a small subset of the returned data. Just choose some interesting features. There is no need to be inclusive here. "
   ]
  },
  {
   "cell_type": "code",
   "execution_count": 10,
   "metadata": {},
   "outputs": [],
   "source": [
    "r2 = requests.get('https://content.guardianapis.com/search?q=coronavirus&page-size=200&api-key={}'.format(guardian_api))\n",
    "\n",
    "#I want articles related to coronaviruses, therefore `/search?q=coronavirus`\n",
    "#I now want a sample size of 200, therefore `&page-size=200`\n",
    "#I insert my API Key in `&api-key={}` "
   ]
  },
  {
   "cell_type": "code",
   "execution_count": 11,
   "metadata": {},
   "outputs": [
    {
     "data": {
      "text/plain": [
       "200"
      ]
     },
     "execution_count": 11,
     "metadata": {},
     "output_type": "execute_result"
    }
   ],
   "source": [
    "r2.status_code"
   ]
  },
  {
   "cell_type": "code",
   "execution_count": 12,
   "metadata": {},
   "outputs": [],
   "source": [
    "guardian_json2 = r2.json()"
   ]
  },
  {
   "cell_type": "code",
   "execution_count": 13,
   "metadata": {},
   "outputs": [
    {
     "data": {
      "text/html": [
       "<div>\n",
       "<style scoped>\n",
       "    .dataframe tbody tr th:only-of-type {\n",
       "        vertical-align: middle;\n",
       "    }\n",
       "\n",
       "    .dataframe tbody tr th {\n",
       "        vertical-align: top;\n",
       "    }\n",
       "\n",
       "    .dataframe thead th {\n",
       "        text-align: right;\n",
       "    }\n",
       "</style>\n",
       "<table border=\"1\" class=\"dataframe\">\n",
       "  <thead>\n",
       "    <tr style=\"text-align: right;\">\n",
       "      <th></th>\n",
       "      <th>id</th>\n",
       "      <th>type</th>\n",
       "      <th>sectionId</th>\n",
       "      <th>sectionName</th>\n",
       "      <th>webPublicationDate</th>\n",
       "      <th>webTitle</th>\n",
       "      <th>webUrl</th>\n",
       "      <th>apiUrl</th>\n",
       "      <th>isHosted</th>\n",
       "      <th>pillarId</th>\n",
       "      <th>pillarName</th>\n",
       "    </tr>\n",
       "  </thead>\n",
       "  <tbody>\n",
       "    <tr>\n",
       "      <th>0</th>\n",
       "      <td>world/2020/nov/18/us-passes-250000-deaths-from...</td>\n",
       "      <td>article</td>\n",
       "      <td>world</td>\n",
       "      <td>World news</td>\n",
       "      <td>2020-11-18T22:49:04Z</td>\n",
       "      <td>US passes 250,000 deaths from coronavirus</td>\n",
       "      <td>https://www.theguardian.com/world/2020/nov/18/...</td>\n",
       "      <td>https://content.guardianapis.com/world/2020/no...</td>\n",
       "      <td>False</td>\n",
       "      <td>pillar/news</td>\n",
       "      <td>News</td>\n",
       "    </tr>\n",
       "    <tr>\n",
       "      <th>1</th>\n",
       "      <td>world/2020/sep/28/england-new-coronavirus-rest...</td>\n",
       "      <td>article</td>\n",
       "      <td>world</td>\n",
       "      <td>World news</td>\n",
       "      <td>2020-09-28T18:36:34Z</td>\n",
       "      <td>England’s new coronavirus restrictions explained</td>\n",
       "      <td>https://www.theguardian.com/world/2020/sep/28/...</td>\n",
       "      <td>https://content.guardianapis.com/world/2020/se...</td>\n",
       "      <td>False</td>\n",
       "      <td>pillar/news</td>\n",
       "      <td>News</td>\n",
       "    </tr>\n",
       "    <tr>\n",
       "      <th>2</th>\n",
       "      <td>us-news/2020/nov/20/donald-trump-jr-tests-posi...</td>\n",
       "      <td>article</td>\n",
       "      <td>us-news</td>\n",
       "      <td>US news</td>\n",
       "      <td>2020-11-21T00:23:04Z</td>\n",
       "      <td>Donald Trump Jr tests positive for coronavirus</td>\n",
       "      <td>https://www.theguardian.com/us-news/2020/nov/2...</td>\n",
       "      <td>https://content.guardianapis.com/us-news/2020/...</td>\n",
       "      <td>False</td>\n",
       "      <td>pillar/news</td>\n",
       "      <td>News</td>\n",
       "    </tr>\n",
       "    <tr>\n",
       "      <th>3</th>\n",
       "      <td>world/2020/nov/20/coronavirus-australia-the-we...</td>\n",
       "      <td>article</td>\n",
       "      <td>world</td>\n",
       "      <td>World news</td>\n",
       "      <td>2020-11-20T08:21:13Z</td>\n",
       "      <td>Coronavirus Australia: the week at a glance</td>\n",
       "      <td>https://www.theguardian.com/world/2020/nov/20/...</td>\n",
       "      <td>https://content.guardianapis.com/world/2020/no...</td>\n",
       "      <td>False</td>\n",
       "      <td>pillar/news</td>\n",
       "      <td>News</td>\n",
       "    </tr>\n",
       "    <tr>\n",
       "      <th>4</th>\n",
       "      <td>australia-news/2020/nov/13/coronavirus-austral...</td>\n",
       "      <td>article</td>\n",
       "      <td>australia-news</td>\n",
       "      <td>Australia news</td>\n",
       "      <td>2020-11-13T08:01:05Z</td>\n",
       "      <td>Coronavirus Australia: the week at a glance</td>\n",
       "      <td>https://www.theguardian.com/australia-news/202...</td>\n",
       "      <td>https://content.guardianapis.com/australia-new...</td>\n",
       "      <td>False</td>\n",
       "      <td>pillar/news</td>\n",
       "      <td>News</td>\n",
       "    </tr>\n",
       "    <tr>\n",
       "      <th>5</th>\n",
       "      <td>world/2020/nov/02/latest-coronavirus-lockdowns...</td>\n",
       "      <td>article</td>\n",
       "      <td>world</td>\n",
       "      <td>World news</td>\n",
       "      <td>2020-11-02T15:47:43Z</td>\n",
       "      <td>Latest coronavirus lockdowns spark protests ac...</td>\n",
       "      <td>https://www.theguardian.com/world/2020/nov/02/...</td>\n",
       "      <td>https://content.guardianapis.com/world/2020/no...</td>\n",
       "      <td>False</td>\n",
       "      <td>pillar/news</td>\n",
       "      <td>News</td>\n",
       "    </tr>\n",
       "    <tr>\n",
       "      <th>6</th>\n",
       "      <td>australia-news/2020/nov/06/coronavirus-austral...</td>\n",
       "      <td>article</td>\n",
       "      <td>australia-news</td>\n",
       "      <td>Australia news</td>\n",
       "      <td>2020-11-06T04:53:49Z</td>\n",
       "      <td>Coronavirus Australia: the week at a glance</td>\n",
       "      <td>https://www.theguardian.com/australia-news/202...</td>\n",
       "      <td>https://content.guardianapis.com/australia-new...</td>\n",
       "      <td>False</td>\n",
       "      <td>pillar/news</td>\n",
       "      <td>News</td>\n",
       "    </tr>\n",
       "    <tr>\n",
       "      <th>7</th>\n",
       "      <td>australia-news/2020/oct/30/coronavirus-austral...</td>\n",
       "      <td>article</td>\n",
       "      <td>australia-news</td>\n",
       "      <td>Australia news</td>\n",
       "      <td>2020-10-30T09:58:06Z</td>\n",
       "      <td>Coronavirus Australia: the week at a glance</td>\n",
       "      <td>https://www.theguardian.com/australia-news/202...</td>\n",
       "      <td>https://content.guardianapis.com/australia-new...</td>\n",
       "      <td>False</td>\n",
       "      <td>pillar/news</td>\n",
       "      <td>News</td>\n",
       "    </tr>\n",
       "    <tr>\n",
       "      <th>8</th>\n",
       "      <td>world/2020/oct/27/china-loses-trust-internatio...</td>\n",
       "      <td>article</td>\n",
       "      <td>world</td>\n",
       "      <td>World news</td>\n",
       "      <td>2020-10-27T14:30:00Z</td>\n",
       "      <td>China loses trust internationally over coronav...</td>\n",
       "      <td>https://www.theguardian.com/world/2020/oct/27/...</td>\n",
       "      <td>https://content.guardianapis.com/world/2020/oc...</td>\n",
       "      <td>False</td>\n",
       "      <td>pillar/news</td>\n",
       "      <td>News</td>\n",
       "    </tr>\n",
       "    <tr>\n",
       "      <th>9</th>\n",
       "      <td>world/2020/sep/27/lockdowners-v-libertarians-b...</td>\n",
       "      <td>article</td>\n",
       "      <td>world</td>\n",
       "      <td>World news</td>\n",
       "      <td>2020-09-27T07:45:39Z</td>\n",
       "      <td>Lockdowners v libertarians: Britain’s coronavi...</td>\n",
       "      <td>https://www.theguardian.com/world/2020/sep/27/...</td>\n",
       "      <td>https://content.guardianapis.com/world/2020/se...</td>\n",
       "      <td>False</td>\n",
       "      <td>pillar/news</td>\n",
       "      <td>News</td>\n",
       "    </tr>\n",
       "  </tbody>\n",
       "</table>\n",
       "</div>"
      ],
      "text/plain": [
       "                                                  id     type       sectionId  \\\n",
       "0  world/2020/nov/18/us-passes-250000-deaths-from...  article           world   \n",
       "1  world/2020/sep/28/england-new-coronavirus-rest...  article           world   \n",
       "2  us-news/2020/nov/20/donald-trump-jr-tests-posi...  article         us-news   \n",
       "3  world/2020/nov/20/coronavirus-australia-the-we...  article           world   \n",
       "4  australia-news/2020/nov/13/coronavirus-austral...  article  australia-news   \n",
       "5  world/2020/nov/02/latest-coronavirus-lockdowns...  article           world   \n",
       "6  australia-news/2020/nov/06/coronavirus-austral...  article  australia-news   \n",
       "7  australia-news/2020/oct/30/coronavirus-austral...  article  australia-news   \n",
       "8  world/2020/oct/27/china-loses-trust-internatio...  article           world   \n",
       "9  world/2020/sep/27/lockdowners-v-libertarians-b...  article           world   \n",
       "\n",
       "      sectionName    webPublicationDate  \\\n",
       "0      World news  2020-11-18T22:49:04Z   \n",
       "1      World news  2020-09-28T18:36:34Z   \n",
       "2         US news  2020-11-21T00:23:04Z   \n",
       "3      World news  2020-11-20T08:21:13Z   \n",
       "4  Australia news  2020-11-13T08:01:05Z   \n",
       "5      World news  2020-11-02T15:47:43Z   \n",
       "6  Australia news  2020-11-06T04:53:49Z   \n",
       "7  Australia news  2020-10-30T09:58:06Z   \n",
       "8      World news  2020-10-27T14:30:00Z   \n",
       "9      World news  2020-09-27T07:45:39Z   \n",
       "\n",
       "                                            webTitle  \\\n",
       "0          US passes 250,000 deaths from coronavirus   \n",
       "1   England’s new coronavirus restrictions explained   \n",
       "2     Donald Trump Jr tests positive for coronavirus   \n",
       "3        Coronavirus Australia: the week at a glance   \n",
       "4        Coronavirus Australia: the week at a glance   \n",
       "5  Latest coronavirus lockdowns spark protests ac...   \n",
       "6        Coronavirus Australia: the week at a glance   \n",
       "7        Coronavirus Australia: the week at a glance   \n",
       "8  China loses trust internationally over coronav...   \n",
       "9  Lockdowners v libertarians: Britain’s coronavi...   \n",
       "\n",
       "                                              webUrl  \\\n",
       "0  https://www.theguardian.com/world/2020/nov/18/...   \n",
       "1  https://www.theguardian.com/world/2020/sep/28/...   \n",
       "2  https://www.theguardian.com/us-news/2020/nov/2...   \n",
       "3  https://www.theguardian.com/world/2020/nov/20/...   \n",
       "4  https://www.theguardian.com/australia-news/202...   \n",
       "5  https://www.theguardian.com/world/2020/nov/02/...   \n",
       "6  https://www.theguardian.com/australia-news/202...   \n",
       "7  https://www.theguardian.com/australia-news/202...   \n",
       "8  https://www.theguardian.com/world/2020/oct/27/...   \n",
       "9  https://www.theguardian.com/world/2020/sep/27/...   \n",
       "\n",
       "                                              apiUrl  isHosted     pillarId  \\\n",
       "0  https://content.guardianapis.com/world/2020/no...     False  pillar/news   \n",
       "1  https://content.guardianapis.com/world/2020/se...     False  pillar/news   \n",
       "2  https://content.guardianapis.com/us-news/2020/...     False  pillar/news   \n",
       "3  https://content.guardianapis.com/world/2020/no...     False  pillar/news   \n",
       "4  https://content.guardianapis.com/australia-new...     False  pillar/news   \n",
       "5  https://content.guardianapis.com/world/2020/no...     False  pillar/news   \n",
       "6  https://content.guardianapis.com/australia-new...     False  pillar/news   \n",
       "7  https://content.guardianapis.com/australia-new...     False  pillar/news   \n",
       "8  https://content.guardianapis.com/world/2020/oc...     False  pillar/news   \n",
       "9  https://content.guardianapis.com/world/2020/se...     False  pillar/news   \n",
       "\n",
       "  pillarName  \n",
       "0       News  \n",
       "1       News  \n",
       "2       News  \n",
       "3       News  \n",
       "4       News  \n",
       "5       News  \n",
       "6       News  \n",
       "7       News  \n",
       "8       News  \n",
       "9       News  "
      ]
     },
     "execution_count": 13,
     "metadata": {},
     "output_type": "execute_result"
    }
   ],
   "source": [
    "guardian_json_df2 = pd.DataFrame(guardian_json2['response']['results'])\n",
    "guardian_json_df2.head(10)"
   ]
  },
  {
   "cell_type": "code",
   "execution_count": 14,
   "metadata": {},
   "outputs": [
    {
     "name": "stdout",
     "output_type": "stream",
     "text": [
      "(200, 11)\n"
     ]
    }
   ],
   "source": [
    "print(guardian_json_df2.shape)\n",
    "\n",
    "#Sample size of 200 observations, with 11 features."
   ]
  },
  {
   "cell_type": "markdown",
   "metadata": {},
   "source": [
    "#### c) Then, provide some summary statistics of the data. Include the data frame in a .csv file called data.csv with your submission for the grader."
   ]
  },
  {
   "cell_type": "markdown",
   "metadata": {},
   "source": [
    "I choose the `sectionName`, `type` and `webTitle` variables, to provide some summary statistics for. "
   ]
  },
  {
   "cell_type": "code",
   "execution_count": 15,
   "metadata": {},
   "outputs": [
    {
     "data": {
      "text/plain": [
       "World news            108\n",
       "Australia news         22\n",
       "US news                18\n",
       "UK news                14\n",
       "Society                 7\n",
       "Opinion                 6\n",
       "Business                5\n",
       "Music                   3\n",
       "Politics                3\n",
       "Football                2\n",
       "Television & radio      2\n",
       "Sport                   2\n",
       "Education               2\n",
       "Technology              1\n",
       "Life and style          1\n",
       "Money                   1\n",
       "Film                    1\n",
       "Science                 1\n",
       "Fashion                 1\n",
       "Name: sectionName, dtype: int64"
      ]
     },
     "execution_count": 15,
     "metadata": {},
     "output_type": "execute_result"
    }
   ],
   "source": [
    "pd.value_counts(guardian_json_df2['sectionName'])"
   ]
  },
  {
   "cell_type": "markdown",
   "metadata": {},
   "source": [
    "This reflects the number of publications that fall within the relevant sections. A large number of these publications fall under 'World News'."
   ]
  },
  {
   "cell_type": "code",
   "execution_count": 16,
   "metadata": {},
   "outputs": [
    {
     "data": {
      "text/plain": [
       "article        195\n",
       "liveblog         3\n",
       "interactive      2\n",
       "Name: type, dtype: int64"
      ]
     },
     "execution_count": 16,
     "metadata": {},
     "output_type": "execute_result"
    }
   ],
   "source": [
    "pd.value_counts(guardian_json_df2['type'])"
   ]
  },
  {
   "cell_type": "markdown",
   "metadata": {},
   "source": [
    "This reflects the number of publications that fall within the each type of publications. A large number of these publications fall under 'article'. "
   ]
  },
  {
   "cell_type": "code",
   "execution_count": 17,
   "metadata": {},
   "outputs": [
    {
     "data": {
      "text/plain": [
       "0      41\n",
       "1      48\n",
       "2      46\n",
       "3      43\n",
       "4      43\n",
       "       ..\n",
       "195    58\n",
       "196    65\n",
       "197    71\n",
       "198    81\n",
       "199    83\n",
       "Name: webTitle, Length: 200, dtype: int64"
      ]
     },
     "execution_count": 17,
     "metadata": {},
     "output_type": "execute_result"
    }
   ],
   "source": [
    "guardian_json_df2['webTitle'].str.len()"
   ]
  },
  {
   "cell_type": "code",
   "execution_count": 18,
   "metadata": {},
   "outputs": [
    {
     "data": {
      "text/plain": [
       "count                                 200\n",
       "unique                                174\n",
       "top       Coronavirus latest: at a glance\n",
       "freq                                   13\n",
       "Name: webTitle, dtype: object"
      ]
     },
     "execution_count": 18,
     "metadata": {},
     "output_type": "execute_result"
    }
   ],
   "source": [
    "guardian_json_df2['webTitle'].describe()"
   ]
  },
  {
   "cell_type": "markdown",
   "metadata": {},
   "source": [
    "This reflects the length of the article titles. There are 171 unique article titles, out of 200, which indicate that some article titles are repeated (possibly routine news, for instance COVID-19 case count updates). This interpretation is bolstered by the statistic that 'Coronvirus latest: at a glance' occurs 13 times in thius dataset."
   ]
  },
  {
   "cell_type": "code",
   "execution_count": 19,
   "metadata": {},
   "outputs": [],
   "source": [
    "guardian_json_df2.to_csv('data.csv')\n",
    "\n",
    "#Save as data.csv. This is in the same directory as this ipynb. "
   ]
  },
  {
   "cell_type": "markdown",
   "metadata": {},
   "source": [
    "## 5. API Client Function"
   ]
  },
  {
   "cell_type": "markdown",
   "metadata": {},
   "source": [
    "#### For your API function, try to create a simple function that does the following things:\n",
    "\n",
    "- allows the user to specify some smallish set of query parameters (from Q.3a)\n",
    "- run a GET request with these parameters\n",
    "- check the status of the request the server returns and inform the user of any errors (from Q.3b)\n",
    "- parse the response and return a Python object to the user of the function. You can choose whether returning a list (from Q.4a) or a data frame (from Q.4b) is best.\n",
    "- Add docstrings to the API client function that explain the paramters, the output, and ideally include a quick example.\n",
    "- **Note: There is no need to make this into an Python package here. A simple function is sufficient.**\n",
    "\n",
    " - In the notebook, include your full function to access the API functionality. Set some sensible default values for the query parameters.\n",
    "\n",
    " - Run the function for the default values and show the output in the notebook."
   ]
  },
  {
   "cell_type": "code",
   "execution_count": 20,
   "metadata": {},
   "outputs": [],
   "source": [
    "def get_guardian_articles(api_key, single_search_term='breaking%20news', number_of_results=5):\n",
    "    \"\"\"\n",
    "    Generates a Pandas DataFrame of The Guardian Articles, related to a given search term, from the Guardian API.\n",
    "    By default, it will generate a list of breaking news.\n",
    "    \n",
    "    The first printed line will indicate the status code. \n",
    "\n",
    "    Parameters (Inputs)\n",
    "    ----------\n",
    "    api_key : str\n",
    "      Character input.\n",
    "      Please go to https://open-platform.theguardian.com/access/ to request for your own API Key.\n",
    "   \n",
    "    single_search_term : str\n",
    "      Character input; this should be a single word that reflects what you would like to search for.\n",
    "      It is possible to enter a phrase too, but the formatting needs to be right (i.e., correct%20formatting). \n",
    "      See examples below. \n",
    "      By default, this input will result in a list of breaking news.\n",
    "      \n",
    "    number_of_results : int\n",
    "      Integer input.\n",
    "      Enter the number of results you'd like to have in the output DataFrame.\n",
    "      By default, a list of 5 articles will be generated.\n",
    "\n",
    "\n",
    "    Returns (Output)\n",
    "    -------\n",
    "    Pandas Dataframe.\n",
    "        The output is a table of articles from The Guardian that are relevant to the single_search_term.\n",
    "\n",
    "    Examples\n",
    "    --------\n",
    "    >>> get_guardian_articles('singapore', 20, [YOUR_API]) #this is for a single word.\n",
    "    \n",
    "    >>> get_guardian_articles('journal%20article', 100, [YOUR_API]) #phrases work great too, but need to be properly formatted.\n",
    "\n",
    "    \"\"\"\n",
    "    r = requests.get(f'https://content.guardianapis.com/search?q={single_search_term}&page-size={number_of_results}&api-key={api_key}')\n",
    "    r.raise_for_status() #will raise an error if Status Code indicates there is dysfunction.\n",
    "    json = r.json()\n",
    "    df = pd.DataFrame(json['response']['results'])\n",
    "    print(f'Status Code:{r.status_code}. This is working if Status Code is 200.') #for good measure, will print out Status Code.\n",
    "    return df"
   ]
  },
  {
   "cell_type": "code",
   "execution_count": 21,
   "metadata": {},
   "outputs": [
    {
     "name": "stdout",
     "output_type": "stream",
     "text": [
      "Status Code:200. This is working if Status Code is 200.\n"
     ]
    },
    {
     "data": {
      "text/html": [
       "<div>\n",
       "<style scoped>\n",
       "    .dataframe tbody tr th:only-of-type {\n",
       "        vertical-align: middle;\n",
       "    }\n",
       "\n",
       "    .dataframe tbody tr th {\n",
       "        vertical-align: top;\n",
       "    }\n",
       "\n",
       "    .dataframe thead th {\n",
       "        text-align: right;\n",
       "    }\n",
       "</style>\n",
       "<table border=\"1\" class=\"dataframe\">\n",
       "  <thead>\n",
       "    <tr style=\"text-align: right;\">\n",
       "      <th></th>\n",
       "      <th>id</th>\n",
       "      <th>type</th>\n",
       "      <th>sectionId</th>\n",
       "      <th>sectionName</th>\n",
       "      <th>webPublicationDate</th>\n",
       "      <th>webTitle</th>\n",
       "      <th>webUrl</th>\n",
       "      <th>apiUrl</th>\n",
       "      <th>isHosted</th>\n",
       "      <th>pillarId</th>\n",
       "      <th>pillarName</th>\n",
       "    </tr>\n",
       "  </thead>\n",
       "  <tbody>\n",
       "    <tr>\n",
       "      <th>0</th>\n",
       "      <td>politics/2020/oct/05/breaking-down-labours-red...</td>\n",
       "      <td>article</td>\n",
       "      <td>politics</td>\n",
       "      <td>Politics</td>\n",
       "      <td>2020-10-05T16:37:03Z</td>\n",
       "      <td>Breaking down Labour’s ‘red wall’ | Letters</td>\n",
       "      <td>https://www.theguardian.com/politics/2020/oct/...</td>\n",
       "      <td>https://content.guardianapis.com/politics/2020...</td>\n",
       "      <td>False</td>\n",
       "      <td>pillar/news</td>\n",
       "      <td>News</td>\n",
       "    </tr>\n",
       "    <tr>\n",
       "      <th>1</th>\n",
       "      <td>uk-news/2020/nov/22/has-britains-second-larges...</td>\n",
       "      <td>article</td>\n",
       "      <td>uk-news</td>\n",
       "      <td>UK news</td>\n",
       "      <td>2020-11-22T09:15:18Z</td>\n",
       "      <td>Has Britain’s second largest city reached brea...</td>\n",
       "      <td>https://www.theguardian.com/uk-news/2020/nov/2...</td>\n",
       "      <td>https://content.guardianapis.com/uk-news/2020/...</td>\n",
       "      <td>False</td>\n",
       "      <td>pillar/news</td>\n",
       "      <td>News</td>\n",
       "    </tr>\n",
       "    <tr>\n",
       "      <th>2</th>\n",
       "      <td>commentisfree/2020/mar/29/late-breaking-news-t...</td>\n",
       "      <td>article</td>\n",
       "      <td>commentisfree</td>\n",
       "      <td>Opinion</td>\n",
       "      <td>2020-03-29T06:00:47Z</td>\n",
       "      <td>Late-breaking news: there's been a pandemic wh...</td>\n",
       "      <td>https://www.theguardian.com/commentisfree/2020...</td>\n",
       "      <td>https://content.guardianapis.com/commentisfree...</td>\n",
       "      <td>False</td>\n",
       "      <td>pillar/opinion</td>\n",
       "      <td>Opinion</td>\n",
       "    </tr>\n",
       "    <tr>\n",
       "      <th>3</th>\n",
       "      <td>tv-and-radio/2020/nov/05/cocomelon-netflix-the...</td>\n",
       "      <td>article</td>\n",
       "      <td>tv-and-radio</td>\n",
       "      <td>Television &amp; radio</td>\n",
       "      <td>2020-11-05T08:18:40Z</td>\n",
       "      <td>Cocomelon: the unsettling kids show that's bre...</td>\n",
       "      <td>https://www.theguardian.com/tv-and-radio/2020/...</td>\n",
       "      <td>https://content.guardianapis.com/tv-and-radio/...</td>\n",
       "      <td>False</td>\n",
       "      <td>pillar/arts</td>\n",
       "      <td>Arts</td>\n",
       "    </tr>\n",
       "    <tr>\n",
       "      <th>4</th>\n",
       "      <td>money/2020/nov/15/how-much-have-you-got-breaki...</td>\n",
       "      <td>article</td>\n",
       "      <td>money</td>\n",
       "      <td>Money</td>\n",
       "      <td>2020-11-15T08:00:30Z</td>\n",
       "      <td>How much have you got? Breaking the taboos on ...</td>\n",
       "      <td>https://www.theguardian.com/money/2020/nov/15/...</td>\n",
       "      <td>https://content.guardianapis.com/money/2020/no...</td>\n",
       "      <td>False</td>\n",
       "      <td>pillar/lifestyle</td>\n",
       "      <td>Lifestyle</td>\n",
       "    </tr>\n",
       "  </tbody>\n",
       "</table>\n",
       "</div>"
      ],
      "text/plain": [
       "                                                  id     type      sectionId  \\\n",
       "0  politics/2020/oct/05/breaking-down-labours-red...  article       politics   \n",
       "1  uk-news/2020/nov/22/has-britains-second-larges...  article        uk-news   \n",
       "2  commentisfree/2020/mar/29/late-breaking-news-t...  article  commentisfree   \n",
       "3  tv-and-radio/2020/nov/05/cocomelon-netflix-the...  article   tv-and-radio   \n",
       "4  money/2020/nov/15/how-much-have-you-got-breaki...  article          money   \n",
       "\n",
       "          sectionName    webPublicationDate  \\\n",
       "0            Politics  2020-10-05T16:37:03Z   \n",
       "1             UK news  2020-11-22T09:15:18Z   \n",
       "2             Opinion  2020-03-29T06:00:47Z   \n",
       "3  Television & radio  2020-11-05T08:18:40Z   \n",
       "4               Money  2020-11-15T08:00:30Z   \n",
       "\n",
       "                                            webTitle  \\\n",
       "0        Breaking down Labour’s ‘red wall’ | Letters   \n",
       "1  Has Britain’s second largest city reached brea...   \n",
       "2  Late-breaking news: there's been a pandemic wh...   \n",
       "3  Cocomelon: the unsettling kids show that's bre...   \n",
       "4  How much have you got? Breaking the taboos on ...   \n",
       "\n",
       "                                              webUrl  \\\n",
       "0  https://www.theguardian.com/politics/2020/oct/...   \n",
       "1  https://www.theguardian.com/uk-news/2020/nov/2...   \n",
       "2  https://www.theguardian.com/commentisfree/2020...   \n",
       "3  https://www.theguardian.com/tv-and-radio/2020/...   \n",
       "4  https://www.theguardian.com/money/2020/nov/15/...   \n",
       "\n",
       "                                              apiUrl  isHosted  \\\n",
       "0  https://content.guardianapis.com/politics/2020...     False   \n",
       "1  https://content.guardianapis.com/uk-news/2020/...     False   \n",
       "2  https://content.guardianapis.com/commentisfree...     False   \n",
       "3  https://content.guardianapis.com/tv-and-radio/...     False   \n",
       "4  https://content.guardianapis.com/money/2020/no...     False   \n",
       "\n",
       "           pillarId pillarName  \n",
       "0       pillar/news       News  \n",
       "1       pillar/news       News  \n",
       "2    pillar/opinion    Opinion  \n",
       "3       pillar/arts       Arts  \n",
       "4  pillar/lifestyle  Lifestyle  "
      ]
     },
     "execution_count": 21,
     "metadata": {},
     "output_type": "execute_result"
    }
   ],
   "source": [
    "get_guardian_articles(guardian_api) #default values"
   ]
  },
  {
   "cell_type": "markdown",
   "metadata": {},
   "source": [
    "Some additional use cases for `get_guardian_articles` are also available here:"
   ]
  },
  {
   "cell_type": "code",
   "execution_count": 22,
   "metadata": {},
   "outputs": [
    {
     "name": "stdout",
     "output_type": "stream",
     "text": [
      "Status Code:200. This is working if Status Code is 200.\n"
     ]
    },
    {
     "data": {
      "text/html": [
       "<div>\n",
       "<style scoped>\n",
       "    .dataframe tbody tr th:only-of-type {\n",
       "        vertical-align: middle;\n",
       "    }\n",
       "\n",
       "    .dataframe tbody tr th {\n",
       "        vertical-align: top;\n",
       "    }\n",
       "\n",
       "    .dataframe thead th {\n",
       "        text-align: right;\n",
       "    }\n",
       "</style>\n",
       "<table border=\"1\" class=\"dataframe\">\n",
       "  <thead>\n",
       "    <tr style=\"text-align: right;\">\n",
       "      <th></th>\n",
       "      <th>id</th>\n",
       "      <th>type</th>\n",
       "      <th>sectionId</th>\n",
       "      <th>sectionName</th>\n",
       "      <th>webPublicationDate</th>\n",
       "      <th>webTitle</th>\n",
       "      <th>webUrl</th>\n",
       "      <th>apiUrl</th>\n",
       "      <th>isHosted</th>\n",
       "      <th>pillarId</th>\n",
       "      <th>pillarName</th>\n",
       "    </tr>\n",
       "  </thead>\n",
       "  <tbody>\n",
       "    <tr>\n",
       "      <th>0</th>\n",
       "      <td>business/2020/oct/08/singapore-launches-covid-...</td>\n",
       "      <td>article</td>\n",
       "      <td>business</td>\n",
       "      <td>Business</td>\n",
       "      <td>2020-10-08T13:55:46Z</td>\n",
       "      <td>Singapore launches Covid-secure luxury cruises...</td>\n",
       "      <td>https://www.theguardian.com/business/2020/oct/...</td>\n",
       "      <td>https://content.guardianapis.com/business/2020...</td>\n",
       "      <td>False</td>\n",
       "      <td>pillar/news</td>\n",
       "      <td>News</td>\n",
       "    </tr>\n",
       "    <tr>\n",
       "      <th>1</th>\n",
       "      <td>tv-and-radio/2020/sep/13/tv-tonight-colonial-d...</td>\n",
       "      <td>article</td>\n",
       "      <td>tv-and-radio</td>\n",
       "      <td>Television &amp; radio</td>\n",
       "      <td>2020-09-13T05:00:52Z</td>\n",
       "      <td>TV tonight: colonial dramas in The Singapore Grip</td>\n",
       "      <td>https://www.theguardian.com/tv-and-radio/2020/...</td>\n",
       "      <td>https://content.guardianapis.com/tv-and-radio/...</td>\n",
       "      <td>False</td>\n",
       "      <td>pillar/arts</td>\n",
       "      <td>Arts</td>\n",
       "    </tr>\n",
       "    <tr>\n",
       "      <th>2</th>\n",
       "      <td>business/2020/oct/12/cabin-fever-tickets-for-m...</td>\n",
       "      <td>article</td>\n",
       "      <td>business</td>\n",
       "      <td>Business</td>\n",
       "      <td>2020-10-12T17:26:11Z</td>\n",
       "      <td>Cabin fever: tickets for meal onboard Singapor...</td>\n",
       "      <td>https://www.theguardian.com/business/2020/oct/...</td>\n",
       "      <td>https://content.guardianapis.com/business/2020...</td>\n",
       "      <td>False</td>\n",
       "      <td>pillar/news</td>\n",
       "      <td>News</td>\n",
       "    </tr>\n",
       "  </tbody>\n",
       "</table>\n",
       "</div>"
      ],
      "text/plain": [
       "                                                  id     type     sectionId  \\\n",
       "0  business/2020/oct/08/singapore-launches-covid-...  article      business   \n",
       "1  tv-and-radio/2020/sep/13/tv-tonight-colonial-d...  article  tv-and-radio   \n",
       "2  business/2020/oct/12/cabin-fever-tickets-for-m...  article      business   \n",
       "\n",
       "          sectionName    webPublicationDate  \\\n",
       "0            Business  2020-10-08T13:55:46Z   \n",
       "1  Television & radio  2020-09-13T05:00:52Z   \n",
       "2            Business  2020-10-12T17:26:11Z   \n",
       "\n",
       "                                            webTitle  \\\n",
       "0  Singapore launches Covid-secure luxury cruises...   \n",
       "1  TV tonight: colonial dramas in The Singapore Grip   \n",
       "2  Cabin fever: tickets for meal onboard Singapor...   \n",
       "\n",
       "                                              webUrl  \\\n",
       "0  https://www.theguardian.com/business/2020/oct/...   \n",
       "1  https://www.theguardian.com/tv-and-radio/2020/...   \n",
       "2  https://www.theguardian.com/business/2020/oct/...   \n",
       "\n",
       "                                              apiUrl  isHosted     pillarId  \\\n",
       "0  https://content.guardianapis.com/business/2020...     False  pillar/news   \n",
       "1  https://content.guardianapis.com/tv-and-radio/...     False  pillar/arts   \n",
       "2  https://content.guardianapis.com/business/2020...     False  pillar/news   \n",
       "\n",
       "  pillarName  \n",
       "0       News  \n",
       "1       Arts  \n",
       "2       News  "
      ]
     },
     "execution_count": 22,
     "metadata": {},
     "output_type": "execute_result"
    }
   ],
   "source": [
    "get_guardian_articles(guardian_api, 'singapore', 3) #single search term for 'singapore'"
   ]
  },
  {
   "cell_type": "code",
   "execution_count": 23,
   "metadata": {},
   "outputs": [
    {
     "name": "stdout",
     "output_type": "stream",
     "text": [
      "Status Code:200. This is working if Status Code is 200.\n"
     ]
    },
    {
     "data": {
      "text/html": [
       "<div>\n",
       "<style scoped>\n",
       "    .dataframe tbody tr th:only-of-type {\n",
       "        vertical-align: middle;\n",
       "    }\n",
       "\n",
       "    .dataframe tbody tr th {\n",
       "        vertical-align: top;\n",
       "    }\n",
       "\n",
       "    .dataframe thead th {\n",
       "        text-align: right;\n",
       "    }\n",
       "</style>\n",
       "<table border=\"1\" class=\"dataframe\">\n",
       "  <thead>\n",
       "    <tr style=\"text-align: right;\">\n",
       "      <th></th>\n",
       "      <th>id</th>\n",
       "      <th>type</th>\n",
       "      <th>sectionId</th>\n",
       "      <th>sectionName</th>\n",
       "      <th>webPublicationDate</th>\n",
       "      <th>webTitle</th>\n",
       "      <th>webUrl</th>\n",
       "      <th>apiUrl</th>\n",
       "      <th>isHosted</th>\n",
       "      <th>pillarId</th>\n",
       "      <th>pillarName</th>\n",
       "    </tr>\n",
       "  </thead>\n",
       "  <tbody>\n",
       "    <tr>\n",
       "      <th>0</th>\n",
       "      <td>environment/2020/oct/05/3000-articles-100m-rea...</td>\n",
       "      <td>article</td>\n",
       "      <td>environment</td>\n",
       "      <td>Environment</td>\n",
       "      <td>2020-10-05T08:00:15Z</td>\n",
       "      <td>3,000 articles, 100m readers: a year of our be...</td>\n",
       "      <td>https://www.theguardian.com/environment/2020/o...</td>\n",
       "      <td>https://content.guardianapis.com/environment/2...</td>\n",
       "      <td>False</td>\n",
       "      <td>pillar/news</td>\n",
       "      <td>News</td>\n",
       "    </tr>\n",
       "    <tr>\n",
       "      <th>1</th>\n",
       "      <td>us-news/2020/oct/08/new-england-journal-of-med...</td>\n",
       "      <td>article</td>\n",
       "      <td>us-news</td>\n",
       "      <td>US news</td>\n",
       "      <td>2020-10-08T16:04:25Z</td>\n",
       "      <td>‘Dangerously incompetent’: medical journal con...</td>\n",
       "      <td>https://www.theguardian.com/us-news/2020/oct/0...</td>\n",
       "      <td>https://content.guardianapis.com/us-news/2020/...</td>\n",
       "      <td>False</td>\n",
       "      <td>pillar/news</td>\n",
       "      <td>News</td>\n",
       "    </tr>\n",
       "    <tr>\n",
       "      <th>2</th>\n",
       "      <td>lifeandstyle/2020/nov/20/gratitude-journal-gre...</td>\n",
       "      <td>article</td>\n",
       "      <td>lifeandstyle</td>\n",
       "      <td>Life and style</td>\n",
       "      <td>2020-11-20T14:00:31Z</td>\n",
       "      <td>Gratitude's great – until my inner cynic kicks...</td>\n",
       "      <td>https://www.theguardian.com/lifeandstyle/2020/...</td>\n",
       "      <td>https://content.guardianapis.com/lifeandstyle/...</td>\n",
       "      <td>False</td>\n",
       "      <td>pillar/lifestyle</td>\n",
       "      <td>Lifestyle</td>\n",
       "    </tr>\n",
       "    <tr>\n",
       "      <th>3</th>\n",
       "      <td>media/2020/nov/19/philip-morris-sponsored-arti...</td>\n",
       "      <td>article</td>\n",
       "      <td>media</td>\n",
       "      <td>Media</td>\n",
       "      <td>2020-11-18T16:30:48Z</td>\n",
       "      <td>Philip Morris-sponsored articles in the Austra...</td>\n",
       "      <td>https://www.theguardian.com/media/2020/nov/19/...</td>\n",
       "      <td>https://content.guardianapis.com/media/2020/no...</td>\n",
       "      <td>False</td>\n",
       "      <td>pillar/news</td>\n",
       "      <td>News</td>\n",
       "    </tr>\n",
       "    <tr>\n",
       "      <th>4</th>\n",
       "      <td>commentisfree/2020/sep/08/elliot-dallen-reader...</td>\n",
       "      <td>article</td>\n",
       "      <td>commentisfree</td>\n",
       "      <td>Opinion</td>\n",
       "      <td>2020-09-08T16:24:05Z</td>\n",
       "      <td>'You've given me new perspective': readers on ...</td>\n",
       "      <td>https://www.theguardian.com/commentisfree/2020...</td>\n",
       "      <td>https://content.guardianapis.com/commentisfree...</td>\n",
       "      <td>False</td>\n",
       "      <td>pillar/opinion</td>\n",
       "      <td>Opinion</td>\n",
       "    </tr>\n",
       "    <tr>\n",
       "      <th>5</th>\n",
       "      <td>world/2020/jun/12/the-antidote-the-most-deeply...</td>\n",
       "      <td>article</td>\n",
       "      <td>world</td>\n",
       "      <td>World news</td>\n",
       "      <td>2020-06-12T06:46:20Z</td>\n",
       "      <td>The antidote: the most deeply read articles be...</td>\n",
       "      <td>https://www.theguardian.com/world/2020/jun/12/...</td>\n",
       "      <td>https://content.guardianapis.com/world/2020/ju...</td>\n",
       "      <td>False</td>\n",
       "      <td>pillar/news</td>\n",
       "      <td>News</td>\n",
       "    </tr>\n",
       "  </tbody>\n",
       "</table>\n",
       "</div>"
      ],
      "text/plain": [
       "                                                  id     type      sectionId  \\\n",
       "0  environment/2020/oct/05/3000-articles-100m-rea...  article    environment   \n",
       "1  us-news/2020/oct/08/new-england-journal-of-med...  article        us-news   \n",
       "2  lifeandstyle/2020/nov/20/gratitude-journal-gre...  article   lifeandstyle   \n",
       "3  media/2020/nov/19/philip-morris-sponsored-arti...  article          media   \n",
       "4  commentisfree/2020/sep/08/elliot-dallen-reader...  article  commentisfree   \n",
       "5  world/2020/jun/12/the-antidote-the-most-deeply...  article          world   \n",
       "\n",
       "      sectionName    webPublicationDate  \\\n",
       "0     Environment  2020-10-05T08:00:15Z   \n",
       "1         US news  2020-10-08T16:04:25Z   \n",
       "2  Life and style  2020-11-20T14:00:31Z   \n",
       "3           Media  2020-11-18T16:30:48Z   \n",
       "4         Opinion  2020-09-08T16:24:05Z   \n",
       "5      World news  2020-06-12T06:46:20Z   \n",
       "\n",
       "                                            webTitle  \\\n",
       "0  3,000 articles, 100m readers: a year of our be...   \n",
       "1  ‘Dangerously incompetent’: medical journal con...   \n",
       "2  Gratitude's great – until my inner cynic kicks...   \n",
       "3  Philip Morris-sponsored articles in the Austra...   \n",
       "4  'You've given me new perspective': readers on ...   \n",
       "5  The antidote: the most deeply read articles be...   \n",
       "\n",
       "                                              webUrl  \\\n",
       "0  https://www.theguardian.com/environment/2020/o...   \n",
       "1  https://www.theguardian.com/us-news/2020/oct/0...   \n",
       "2  https://www.theguardian.com/lifeandstyle/2020/...   \n",
       "3  https://www.theguardian.com/media/2020/nov/19/...   \n",
       "4  https://www.theguardian.com/commentisfree/2020...   \n",
       "5  https://www.theguardian.com/world/2020/jun/12/...   \n",
       "\n",
       "                                              apiUrl  isHosted  \\\n",
       "0  https://content.guardianapis.com/environment/2...     False   \n",
       "1  https://content.guardianapis.com/us-news/2020/...     False   \n",
       "2  https://content.guardianapis.com/lifeandstyle/...     False   \n",
       "3  https://content.guardianapis.com/media/2020/no...     False   \n",
       "4  https://content.guardianapis.com/commentisfree...     False   \n",
       "5  https://content.guardianapis.com/world/2020/ju...     False   \n",
       "\n",
       "           pillarId pillarName  \n",
       "0       pillar/news       News  \n",
       "1       pillar/news       News  \n",
       "2  pillar/lifestyle  Lifestyle  \n",
       "3       pillar/news       News  \n",
       "4    pillar/opinion    Opinion  \n",
       "5       pillar/news       News  "
      ]
     },
     "execution_count": 23,
     "metadata": {},
     "output_type": "execute_result"
    }
   ],
   "source": [
    "get_guardian_articles(guardian_api, 'journal%20articles', 6) #phrase search term for 'journal articles'"
   ]
  },
  {
   "cell_type": "code",
   "execution_count": 24,
   "metadata": {},
   "outputs": [
    {
     "ename": "HTTPError",
     "evalue": "403 Client Error: Forbidden for url: https://content.guardianapis.com/search?q=journal%20articles&page-size=6&api-key=123456",
     "output_type": "error",
     "traceback": [
      "\u001b[0;31m---------------------------------------------------------------------------\u001b[0m",
      "\u001b[0;31mHTTPError\u001b[0m                                 Traceback (most recent call last)",
      "\u001b[0;32m<ipython-input-24-3cd34d52ad76>\u001b[0m in \u001b[0;36m<module>\u001b[0;34m\u001b[0m\n\u001b[0;32m----> 1\u001b[0;31m \u001b[0mget_guardian_articles\u001b[0m\u001b[0;34m(\u001b[0m\u001b[0;36m123456\u001b[0m\u001b[0;34m,\u001b[0m \u001b[0;34m'journal%20articles'\u001b[0m\u001b[0;34m,\u001b[0m \u001b[0;36m6\u001b[0m\u001b[0;34m)\u001b[0m\u001b[0;34m\u001b[0m\u001b[0;34m\u001b[0m\u001b[0m\n\u001b[0m",
      "\u001b[0;32m<ipython-input-20-e73ec92cb218>\u001b[0m in \u001b[0;36mget_guardian_articles\u001b[0;34m(api_key, single_search_term, number_of_results)\u001b[0m\n\u001b[1;32m     37\u001b[0m     \"\"\"\n\u001b[1;32m     38\u001b[0m     \u001b[0mr\u001b[0m \u001b[0;34m=\u001b[0m \u001b[0mrequests\u001b[0m\u001b[0;34m.\u001b[0m\u001b[0mget\u001b[0m\u001b[0;34m(\u001b[0m\u001b[0;34mf'https://content.guardianapis.com/search?q={single_search_term}&page-size={number_of_results}&api-key={api_key}'\u001b[0m\u001b[0;34m)\u001b[0m\u001b[0;34m\u001b[0m\u001b[0;34m\u001b[0m\u001b[0m\n\u001b[0;32m---> 39\u001b[0;31m     \u001b[0mr\u001b[0m\u001b[0;34m.\u001b[0m\u001b[0mraise_for_status\u001b[0m\u001b[0;34m(\u001b[0m\u001b[0;34m)\u001b[0m\u001b[0;34m\u001b[0m\u001b[0;34m\u001b[0m\u001b[0m\n\u001b[0m\u001b[1;32m     40\u001b[0m     \u001b[0mjson\u001b[0m \u001b[0;34m=\u001b[0m \u001b[0mr\u001b[0m\u001b[0;34m.\u001b[0m\u001b[0mjson\u001b[0m\u001b[0;34m(\u001b[0m\u001b[0;34m)\u001b[0m\u001b[0;34m\u001b[0m\u001b[0;34m\u001b[0m\u001b[0m\n\u001b[1;32m     41\u001b[0m     \u001b[0mdf\u001b[0m \u001b[0;34m=\u001b[0m \u001b[0mpd\u001b[0m\u001b[0;34m.\u001b[0m\u001b[0mDataFrame\u001b[0m\u001b[0;34m(\u001b[0m\u001b[0mjson\u001b[0m\u001b[0;34m[\u001b[0m\u001b[0;34m'response'\u001b[0m\u001b[0;34m]\u001b[0m\u001b[0;34m[\u001b[0m\u001b[0;34m'results'\u001b[0m\u001b[0;34m]\u001b[0m\u001b[0;34m)\u001b[0m\u001b[0;34m\u001b[0m\u001b[0;34m\u001b[0m\u001b[0m\n",
      "\u001b[0;32m~/opt/anaconda3/lib/python3.7/site-packages/requests/models.py\u001b[0m in \u001b[0;36mraise_for_status\u001b[0;34m(self)\u001b[0m\n\u001b[1;32m    941\u001b[0m \u001b[0;34m\u001b[0m\u001b[0m\n\u001b[1;32m    942\u001b[0m         \u001b[0;32mif\u001b[0m \u001b[0mhttp_error_msg\u001b[0m\u001b[0;34m:\u001b[0m\u001b[0;34m\u001b[0m\u001b[0;34m\u001b[0m\u001b[0m\n\u001b[0;32m--> 943\u001b[0;31m             \u001b[0;32mraise\u001b[0m \u001b[0mHTTPError\u001b[0m\u001b[0;34m(\u001b[0m\u001b[0mhttp_error_msg\u001b[0m\u001b[0;34m,\u001b[0m \u001b[0mresponse\u001b[0m\u001b[0;34m=\u001b[0m\u001b[0mself\u001b[0m\u001b[0;34m)\u001b[0m\u001b[0;34m\u001b[0m\u001b[0;34m\u001b[0m\u001b[0m\n\u001b[0m\u001b[1;32m    944\u001b[0m \u001b[0;34m\u001b[0m\u001b[0m\n\u001b[1;32m    945\u001b[0m     \u001b[0;32mdef\u001b[0m \u001b[0mclose\u001b[0m\u001b[0;34m(\u001b[0m\u001b[0mself\u001b[0m\u001b[0;34m)\u001b[0m\u001b[0;34m:\u001b[0m\u001b[0;34m\u001b[0m\u001b[0;34m\u001b[0m\u001b[0m\n",
      "\u001b[0;31mHTTPError\u001b[0m: 403 Client Error: Forbidden for url: https://content.guardianapis.com/search?q=journal%20articles&page-size=6&api-key=123456"
     ]
    }
   ],
   "source": [
    "get_guardian_articles(123456, 'journal%20articles', 6) #checking whether function raises error for nonsense API Key"
   ]
  }
 ],
 "metadata": {
  "kernelspec": {
   "display_name": "Python 3",
   "language": "python",
   "name": "python3"
  },
  "language_info": {
   "codemirror_mode": {
    "name": "ipython",
    "version": 3
   },
   "file_extension": ".py",
   "mimetype": "text/x-python",
   "name": "python",
   "nbconvert_exporter": "python",
   "pygments_lexer": "ipython3",
   "version": "3.7.6"
  }
 },
 "nbformat": 4,
 "nbformat_minor": 4
}
