{
 "cells": [
  {
   "cell_type": "markdown",
   "metadata": {},
   "source": [
    "Name: Kagen Lim\n",
    "\n",
    "Completed as HW01 of QMSS-G5072, Modern Data Structures, Fall 2020.\n",
    "\n",
    "Contact: [kagen.lim@columbia.edu](kagen.lim@columbia.edu)"
   ]
  },
  {
   "cell_type": "markdown",
   "metadata": {},
   "source": [
    "# Question 1: Create a Jupyter Notebook"
   ]
  },
  {
   "cell_type": "markdown",
   "metadata": {},
   "source": [
    "Hi there! My favorite data science blog is Towards Data Science, published on Medium. [Here](https://towardsdatascience.com) is the link to the blog.\n",
    "\n",
    "![tdslogo](images/tdslogo.png)"
   ]
  },
  {
   "cell_type": "markdown",
   "metadata": {},
   "source": [
    "# Question 2: Markdown Quote"
   ]
  },
  {
   "cell_type": "markdown",
   "metadata": {},
   "source": [
    "> Life's most persistent and urgent question is: 'What are you doing for others?'\n",
    "\n",
    "- *Martin Luther King Jr.*, retrieved from [here](https://www.rightattitudes.com/2017/01/15/martin-luther-king-jr/)."
   ]
  },
  {
   "cell_type": "markdown",
   "metadata": {},
   "source": [
    "# Question 3: Latex Formula and Plot"
   ]
  },
  {
   "cell_type": "code",
   "execution_count": 5,
   "metadata": {},
   "outputs": [
    {
     "data": {
      "image/png": "[encoded data removed]",
      "text/plain": [
       "<Figure size 432x288 with 1 Axes>"
      ]
     },
     "metadata": {
      "needs_background": "light"
     },
     "output_type": "display_data"
    }
   ],
   "source": [
    "import pandas as pd \n",
    "import matplotlib.pyplot as plt \n",
    "\n",
    "list = range(0, 1001)\n",
    "x = pd.Series(list)\n",
    "y = x**2\n",
    "\n",
    "plt.plot(y)\n",
    "plt.title(\"Figure 1\")\n",
    "plt.show()"
   ]
  },
  {
   "cell_type": "markdown",
   "metadata": {},
   "source": [
    "### Latex formula for Figure 1 \n",
    "$ y = x^{2} $"
   ]
  },
  {
   "cell_type": "code",
   "execution_count": 6,
   "metadata": {},
   "outputs": [
    {
     "name": "stdout",
     "output_type": "stream",
     "text": [
      "count    1001.000000\n",
      "mean      500.000000\n",
      "std       289.108111\n",
      "min         0.000000\n",
      "25%       250.000000\n",
      "50%       500.000000\n",
      "75%       750.000000\n",
      "max      1000.000000\n",
      "dtype: float64\n",
      "count       1001.000000\n",
      "mean      333500.000000\n",
      "std       298608.206658\n",
      "min            0.000000\n",
      "25%        62500.000000\n",
      "50%       250000.000000\n",
      "75%       562500.000000\n",
      "max      1000000.000000\n",
      "dtype: float64\n"
     ]
    }
   ],
   "source": [
    "#Two calls of the describe function, for x and y, to check my work. \n",
    "\n",
    "print(x.describe())\n",
    "print(y.describe())"
   ]
  },
  {
   "cell_type": "markdown",
   "metadata": {},
   "source": [
    "# Question 4: Markdown Table"
   ]
  },
  {
   "cell_type": "markdown",
   "metadata": {},
   "source": [
    "| Python_Package | GitHub_Stars |\n",
    "|----------------|--------------|\n",
    "|   Matplotlib   |     12200    |\n",
    "|     Pandas     |     26700    |\n",
    "|  Scikit-learn  |     42400    |\n",
    "|     Seaborn    |     7700     |\n",
    "|      NumPy     |     15000    |"
   ]
  },
  {
   "cell_type": "markdown",
   "metadata": {},
   "source": [
    "# Question 5: Execute Shell Command"
   ]
  },
  {
   "cell_type": "code",
   "execution_count": 1,
   "metadata": {},
   "outputs": [
    {
     "data": {
      "text/plain": [
       "'/Users/kagenlim/Documents/GitHub/kagen_lim/hw01'"
      ]
     },
     "execution_count": 1,
     "metadata": {},
     "output_type": "execute_result"
    }
   ],
   "source": [
    "pwd"
   ]
  },
  {
   "cell_type": "markdown",
   "metadata": {},
   "source": [
    "# Question 6: Run some External Script"
   ]
  },
  {
   "cell_type": "code",
   "execution_count": 7,
   "metadata": {},
   "outputs": [
    {
     "name": "stdout",
     "output_type": "stream",
     "text": [
      "The answer is 42.\n"
     ]
    }
   ],
   "source": [
    "%run external_script_hw01.py"
   ]
  }
 ],
 "metadata": {
  "kernelspec": {
   "display_name": "Python 3",
   "language": "python",
   "name": "python3"
  },
  "language_info": {
   "codemirror_mode": {
    "name": "ipython",
    "version": 3
   },
   "file_extension": ".py",
   "mimetype": "text/x-python",
   "name": "python",
   "nbconvert_exporter": "python",
   "pygments_lexer": "ipython3",
   "version": "3.7.6"
  }
 },
 "nbformat": 4,
 "nbformat_minor": 4
}
