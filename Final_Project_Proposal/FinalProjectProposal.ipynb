{
 "cells": [
  {
   "cell_type": "markdown",
   "metadata": {
    "id": "WQi3PXj_ueIi"
   },
   "source": [
    "Name: Kagen Lim\n",
    "\n",
    "Completed as **Final Project Proposal** of QMSS-G5072, Modern Data Structures, Fall 2020.\n",
    "\n",
    "Contact: [kagen.lim@columbia.edu](mailto:kagen.lim@columbia.edu)"
   ]
  },
  {
   "cell_type": "markdown",
   "metadata": {
    "id": "Mf7G_yEkvIfN"
   },
   "source": [
    "### Name of Project: Education & Career Guidance (ECG) Tool for Pre-University Students"
   ]
  },
  {
   "cell_type": "markdown",
   "metadata": {
    "id": "bDBNL9NIvLfr"
   },
   "source": [
    "### Type of Project:"
   ]
  },
  {
   "cell_type": "markdown",
   "metadata": {
    "id": "M2mgPzkf5cwZ"
   },
   "source": [
    "I am proposing an idea for a functional/API project (Option A)."
   ]
  },
  {
   "cell_type": "markdown",
   "metadata": {
    "id": "ck6wZhfFvSRv"
   },
   "source": [
    "### Link to API and Brief Description of the Purpose:"
   ]
  },
  {
   "cell_type": "markdown",
   "metadata": {
    "id": "xdcv99Z29WwF"
   },
   "source": [
    "- **Base URL of the API**: https://data.gov.sg/api/action/datastore_search \n",
    " - **Graduate Employment Survey**: https://data.gov.sg/api/action/datastore_search?resource_id=9326ca53-9153-4a9c-b93f-8ae032637b70\n",
    " - **Job Vacancy Rate by Industry and Occupational Group, Quarterly**: https://data.gov.sg/api/action/datastore_search?resource_id=37e76c40-789d-422e-880e-db2689804939\n",
    "\n",
    "- **Authentication**: There is no API Key required to access the `data.gov.sg` API. \n",
    "\n",
    "- **Querying from API**: It is possible to obtain the relevant queried data in JSON format. \n"
   ]
  },
  {
   "cell_type": "markdown",
   "metadata": {
    "id": "NGBV3H5o52bi"
   },
   "source": [
    "For students who seek to pursue a college education in Singapore, only a few have access to a liberal arts education. This means that very early on -- potentially even before they apply for college -- students need to make decisions on what their college majors might be. This is a relatively consequential decision to make. This project aims to provide a package in Python for Singaporean Pre-University students (i.e., roughly 17-18 year old students) to help them make informed, data-driven decisions on their college majors. Specifically, through the `data.gov.sg` API, this package aims to provide two sets of functionality for students:\n",
    "\n",
    "1. Provide them with information on the projected starting income levels, and full-time employment rates of all possible higher education choices they could make.\n",
    "2. Enable them to have a sense of the job vacancy rates in various industries. \n",
    "\n",
    "This is done by providing using **functions**, **visualizations** and **easily accessible understandable tabular information**, based on data from two ongoing surveys that are published on the `data.gov.sg` API: the a) Annual Graduate Employment Survey (done on all six autonomous universities in Singapore - Nanyang Technological University(NTU), National University of Singapore (NUS), Singapore Management University (SMU), Singapore Institute of Technology (SIT), Singapore University of Social Sciences (SUSS), and Singapore University of Technology and Design (SUTD)) and b) the Quarterly Job Vacancy Rate by Industry and Occupational Group. \n",
    "\n",
    "This project will use some of the data fields that are publicly available, regarding these two surveys, through the `data.gov.sg` API. I will elaborate on which ones in this next section:"
   ]
  },
  {
   "cell_type": "code",
   "execution_count": 1,
   "metadata": {
    "id": "mDeYib7b_ZiW"
   },
   "outputs": [],
   "source": [
    "import requests\n",
    "import json\n",
    "\n",
    "r1 = requests.get('https://data.gov.sg/api/action/datastore_search?resource_id=9326ca53-9153-4a9c-b93f-8ae032637b70')\n",
    "\n",
    "r2 = requests.get('https://data.gov.sg/api/action/datastore_search?resource_id=37e76c40-789d-422e-880e-db2689804939')"
   ]
  },
  {
   "cell_type": "code",
   "execution_count": 2,
   "metadata": {
    "id": "FoDT4MZ1_9L-"
   },
   "outputs": [],
   "source": [
    "j1 = r1.json() #Graduate Employment Survey"
   ]
  },
  {
   "cell_type": "code",
   "execution_count": 3,
   "metadata": {
    "colab": {
     "base_uri": "https://localhost:8080/"
    },
    "id": "KsiT9j2m_S8n",
    "outputId": "2015aae7-e8fd-4f12-e196-c4a9bbacd597"
   },
   "outputs": [
    {
     "data": {
      "text/plain": [
       "[{'id': '_id', 'type': 'int4'},\n",
       " {'id': 'year', 'type': 'numeric'},\n",
       " {'id': 'university', 'type': 'text'},\n",
       " {'id': 'school', 'type': 'text'},\n",
       " {'id': 'degree', 'type': 'text'},\n",
       " {'id': 'employment_rate_overall', 'type': 'text'},\n",
       " {'id': 'employment_rate_ft_perm', 'type': 'text'},\n",
       " {'id': 'basic_monthly_mean', 'type': 'text'},\n",
       " {'id': 'basic_monthly_median', 'type': 'text'},\n",
       " {'id': 'gross_monthly_mean', 'type': 'text'},\n",
       " {'id': 'gross_monthly_median', 'type': 'text'},\n",
       " {'id': 'gross_mthly_25_percentile', 'type': 'text'},\n",
       " {'id': 'gross_mthly_75_percentile', 'type': 'text'}]"
      ]
     },
     "execution_count": 3,
     "metadata": {
      "tags": []
     },
     "output_type": "execute_result"
    }
   ],
   "source": [
    "j1['result']['fields']"
   ]
  },
  {
   "cell_type": "code",
   "execution_count": 4,
   "metadata": {
    "id": "c_PHoClc_T4z"
   },
   "outputs": [],
   "source": [
    "j2 = r2.json() #Job Vacancy Rate by Industry and Occupational Group, Quarterly:"
   ]
  },
  {
   "cell_type": "code",
   "execution_count": 5,
   "metadata": {
    "colab": {
     "base_uri": "https://localhost:8080/"
    },
    "id": "F6cx7ehWAj5T",
    "outputId": "8555b279-d4d9-4d7b-d61e-3e87d74e41e6"
   },
   "outputs": [
    {
     "data": {
      "text/plain": [
       "[{'id': '_id', 'type': 'int4'},\n",
       " {'id': 'quarter', 'type': 'text'},\n",
       " {'id': 'industry1', 'type': 'text'},\n",
       " {'id': 'industry2', 'type': 'text'},\n",
       " {'id': 'job_vacancy_rate', 'type': 'numeric'}]"
      ]
     },
     "execution_count": 5,
     "metadata": {
      "tags": []
     },
     "output_type": "execute_result"
    }
   ],
   "source": [
    "j2['result']['fields'] "
   ]
  },
  {
   "cell_type": "markdown",
   "metadata": {
    "id": "9ihlaQn_vXMz"
   },
   "source": [
    "To my knowledge, there has been no Python Package that has utilized these exact API sources. As full disclosure, I have found two data projects that have used this data source on GitHub, but a) they were **not** API projects, and will thus not be up-to-date after these datasets get updated based on future data for either surveys and b) they are **not** packages. I see these projects as providing some functionality, regarding aggregate functions/data cleaning/visualizations, but I aim to provide all of this in one package. None of these projects consider the Quarterly Job Vacancy Rate by Industry and Occupational Group survey too."
   ]
  },
  {
   "cell_type": "markdown",
   "metadata": {
    "id": "PttYR9deKcuy"
   },
   "source": [
    "| URL of Data Project                                                                                    | Gaps                                                                                                                                                                                                                                           |\n",
    "|----------------------------------------------------------------------------------------|------------------------------------------------------------------------------------------------------------------------------------------------------------------------------------------------------------------------------------------------|\n",
    "| https://github.com/Xunhao/University-Graduates-Employment-Survey/blob/master/README.md | This provides some aggregate functions, but focuses only on  business courses. |\n",
    "| https://github.com/GlennChia/data-analysis-ges                                         | This merely provides some data cleaning functionality.                                                                "
   ]
  },
  {
   "cell_type": "markdown",
   "metadata": {
    "id": "JwOsth_Nvdq_"
   },
   "source": [
    "### Outline the technical steps / challenges you plan to address and include in your submission: "
   ]
  },
  {
   "cell_type": "markdown",
   "metadata": {
    "id": "Xj31X2VRMJSN"
   },
   "source": [
    "- Query `data.gov.sg` API with the `requests` package with specified parameters.\n",
    "\n",
    "- Use Regular expressions and an iterator to provide a recode script for `degree` variable (e.g., Bachelor of Arts, Bachelor of Science) from **Graduate Employment Survey** into a new subject variable (e.g., Law, Political Science, Engineering).\n",
    "\n",
    "- Use iterators to provide a recode script for `university` into `university_shortform`, since these universities are better known by their acronyms by Singaporeans.\n",
    "\n",
    "- Provide Metadata information in the README File for the end-user (i.e., labels for potential inputs, like `university`, `school` in parameters). \n",
    "\n",
    "- Create four functions to summarize joint data from job vacancy API. For Functions 1, 2 and 4, the 'recode scripts' mentioned above will be nested in the functions, so that the function can process the inputs. In each of these functions, data will also be cleaned (e.g., removing null values:\n",
    "\n",
    "\n",
    " - Function 1: *Employment Rate Information* - get_employed(__)\n",
    "   - Inputs: `university_shortname`, `school`, `subject` and `csv`. Only `subject` will be the compulsory input; `university_shortname`, `school` and `csv` can be optional arguments. By default, `csv=False`. The input required here will be listed in metadata.\n",
    "   - Output: 1) Pandas Dataframe, containing the mean `employment_rate_overall`, and the mean `employment_rate_ft_perm` of their query. 2) Visualization of 5-year trends of both with `matplotlib`; only the top 5-10 observations will be visualized, to prevent unreadable charts. 3) If `csv=True`, `csv` file with this information will be saved to the working directory of end user.\n",
    "\n",
    "\n",
    " - Function 2: *Projected Income Information* - get_paid(__)\n",
    "   - Inputs: `university_shortname`, `school`, `subject` and `csv`. Only `subject` will be the compulsory input; `university_shortname`, `school` and `csv` can be optional arguments. By default, `csv=False`. The input required here will be listed in metadata.\n",
    "   - Output: 1) Pandas Dataframe, containing the `gross_mthly_25_percentile`,  `gross_monthly_median`, and `gross_mthly_75_percentile` of their query field. 2) Visualization of `gross_monthly_median` 5-year trend with `matplotlib`; only the top 5-10 observations will be visualized, to prevent unreadable charts. 3) If `csv=True`, `csv` file with this information will be saved to the working directory of end user.\n",
    "\n",
    "\n",
    " - Function 3: *Job Vacancies Information* - get_opening(__)\n",
    "   - Inputs: `industry_2` (i.e., administrative and support services, community, social and personal services) will be compulsory input. The input required here will be listed in metadata. List input will be acceptable, seinc end user might be considering a few industries.\n",
    "   - Output:  1) Pandas Dataframe, concerning the quarterly `job_vacancy_rate` for the past 5 years, along with some summary statistics. 2) Visualization of ten-year trend of `job_vacancy_rate` with `matplotlib`. \n",
    "\n",
    "\n",
    "  - Function 4: *Everything Together Information* - get_future_ready(__)\n",
    "    - Inputs: `university_shortname`, `school`, `subject` and `save`. `subject` and `industry_2` (i.e., administrative and support services, community, social and personal services) will be compulsory input. `university_shortname`, `school` and `save` can be optional arguments. By default, `save=False`. The input required here will be listed in metadata. \n",
    "    - Output:  1) Pandas Dataframe, containing the mean `employment_rate_overall`, mean `employment_rate_ft_perm`, `gross_mthly_25_percentile`,  `gross_monthly_median`, and `gross_mthly_75_percentile` and `job_vacancy_rate` of their query. `job_vacancy_rate` will need to be appended, possibly with a SQL query. 2) Visualization of ten-year trend of `job_vacancy_rate` with `matplotlib`. Visualization of 5-year trend of `gross_monthly_median` with `matplotlib`; only the top 5-10 observations will be visualized, to prevent unreadable charts  3) If `save=True`, `csv` file with the information and the visualization image will be saved to the working directory of end user.\n",
    "\n",
    "\n",
    "- All of this will be wrapped in a Python Package, that can be `pip install`ed from testpypi."
   ]
  },
  {
   "cell_type": "markdown",
   "metadata": {
    "id": "bp6qemshvl5d"
   },
   "source": [
    "### Are there any significant hurdles that you have doubts about? Would not solving them render the project incomplete?"
   ]
  },
  {
   "cell_type": "markdown",
   "metadata": {
    "id": "3fvUgLxMkm43"
   },
   "source": [
    "I do not forsee any major concerns for now. I would appreciate any comments at all, thank you so much for reading my Final Project Proposal!"
   ]
  }
 ],
 "metadata": {
  "colab": {
   "collapsed_sections": [],
   "name": "FinalProjectProposal.ipynb",
   "provenance": []
  },
  "kernelspec": {
   "display_name": "Python 3",
   "language": "python",
   "name": "python3"
  },
  "language_info": {
   "codemirror_mode": {
    "name": "ipython",
    "version": 3
   },
   "file_extension": ".py",
   "mimetype": "text/x-python",
   "name": "python",
   "nbconvert_exporter": "python",
   "pygments_lexer": "ipython3",
   "version": "3.7.6"
  }
 },
 "nbformat": 4,
 "nbformat_minor": 1
}
