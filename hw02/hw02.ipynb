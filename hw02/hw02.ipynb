{
 "cells": [
  {
   "cell_type": "markdown",
   "metadata": {},
   "source": [
    "Name: Kagen Lim\n",
    "\n",
    "Completed as HW02 of QMSS-G5072, Modern Data Structures, Fall 2020.\n",
    "\n",
    "Contact: [kagen.lim@columbia.edu](kagen.lim@columbia.edu)"
   ]
  },
  {
   "cell_type": "code",
   "execution_count": 1,
   "metadata": {},
   "outputs": [],
   "source": [
    "import numpy as np\n",
    "import pandas as pd\n",
    "import matplotlib.pyplot as plt\n",
    "import datetime as dt\n",
    "peaks = pd.read_csv('data/peaks.csv')\n",
    "expeditions = pd.read_csv('data/expeditions.csv')\n",
    "members = pd.read_csv('data/members.csv')"
   ]
  },
  {
   "cell_type": "markdown",
   "metadata": {},
   "source": [
    "# Question 1: Peaks"
   ]
  },
  {
   "cell_type": "markdown",
   "metadata": {},
   "source": [
    "## Answer the following questions using the `peaks` data only:"
   ]
  },
  {
   "cell_type": "markdown",
   "metadata": {},
   "source": [
    "### What proportion of peaks is still unclimbed?"
   ]
  },
  {
   "cell_type": "code",
   "execution_count": 2,
   "metadata": {},
   "outputs": [
    {
     "name": "stdout",
     "output_type": "stream",
     "text": [
      "127\n",
      "468\n",
      "0.27136752136752135\n"
     ]
    }
   ],
   "source": [
    "#number of unclimbed peaks.\n",
    "num_unclimbed_peaks = (peaks['climbing_status'] == 'Unclimbed').value_counts().loc[True]\n",
    "print(num_unclimbed_peaks)\n",
    "\n",
    "#total number of peaks.\n",
    "total_num_peaks = peaks['climbing_status'].count()\n",
    "print(total_num_peaks)\n",
    "\n",
    "#proportion of unclimbed peaks.\n",
    "print(num_unclimbed_peaks/total_num_peaks)"
   ]
  },
  {
   "cell_type": "markdown",
   "metadata": {},
   "source": [
    "### What is the average height of the climbed peaks vs. unclimbed peaks?"
   ]
  },
  {
   "cell_type": "code",
   "execution_count": 3,
   "metadata": {},
   "outputs": [
    {
     "name": "stdout",
     "output_type": "stream",
     "text": [
      "                 height_metres\n",
      "climbing_status               \n",
      "Climbed            6706.284457\n",
      "Unclimbed          6523.330709\n"
     ]
    }
   ],
   "source": [
    "#table which shows average height of climbed peaks vs unclimbed peaks.\n",
    "print(peaks[['climbing_status','height_metres']].groupby('climbing_status').agg('mean'))"
   ]
  },
  {
   "cell_type": "markdown",
   "metadata": {},
   "source": [
    "# Question 2: Sherpas"
   ]
  },
  {
   "cell_type": "markdown",
   "metadata": {},
   "source": [
    "## Using the `members` data only, select a subset of all persons who have a Nepalese `citizenship`."
   ]
  },
  {
   "cell_type": "code",
   "execution_count": 4,
   "metadata": {
    "scrolled": false
   },
   "outputs": [
    {
     "data": {
      "text/html": [
       "<div>\n",
       "<style scoped>\n",
       "    .dataframe tbody tr th:only-of-type {\n",
       "        vertical-align: middle;\n",
       "    }\n",
       "\n",
       "    .dataframe tbody tr th {\n",
       "        vertical-align: top;\n",
       "    }\n",
       "\n",
       "    .dataframe thead th {\n",
       "        text-align: right;\n",
       "    }\n",
       "</style>\n",
       "<table border=\"1\" class=\"dataframe\">\n",
       "  <thead>\n",
       "    <tr style=\"text-align: right;\">\n",
       "      <th></th>\n",
       "      <th>expedition_id</th>\n",
       "      <th>member_id</th>\n",
       "      <th>peak_id</th>\n",
       "      <th>peak_name</th>\n",
       "      <th>year</th>\n",
       "      <th>season</th>\n",
       "      <th>sex</th>\n",
       "      <th>age</th>\n",
       "      <th>citizenship</th>\n",
       "      <th>expedition_role</th>\n",
       "      <th>...</th>\n",
       "      <th>highpoint_metres</th>\n",
       "      <th>success</th>\n",
       "      <th>solo</th>\n",
       "      <th>oxygen_used</th>\n",
       "      <th>died</th>\n",
       "      <th>death_cause</th>\n",
       "      <th>death_height_metres</th>\n",
       "      <th>injured</th>\n",
       "      <th>injury_type</th>\n",
       "      <th>injury_height_metres</th>\n",
       "    </tr>\n",
       "  </thead>\n",
       "  <tbody>\n",
       "    <tr>\n",
       "      <th>24</th>\n",
       "      <td>AMAD79101</td>\n",
       "      <td>AMAD79101-18</td>\n",
       "      <td>AMAD</td>\n",
       "      <td>Ama Dablam</td>\n",
       "      <td>1979</td>\n",
       "      <td>Spring</td>\n",
       "      <td>M</td>\n",
       "      <td>23.0</td>\n",
       "      <td>Nepal</td>\n",
       "      <td>H-A Worker</td>\n",
       "      <td>...</td>\n",
       "      <td>6814.0</td>\n",
       "      <td>True</td>\n",
       "      <td>False</td>\n",
       "      <td>False</td>\n",
       "      <td>False</td>\n",
       "      <td>NaN</td>\n",
       "      <td>NaN</td>\n",
       "      <td>False</td>\n",
       "      <td>NaN</td>\n",
       "      <td>NaN</td>\n",
       "    </tr>\n",
       "    <tr>\n",
       "      <th>48</th>\n",
       "      <td>AMAD79301</td>\n",
       "      <td>AMAD79301-26</td>\n",
       "      <td>AMAD</td>\n",
       "      <td>Ama Dablam</td>\n",
       "      <td>1979</td>\n",
       "      <td>Autumn</td>\n",
       "      <td>M</td>\n",
       "      <td>NaN</td>\n",
       "      <td>Nepal</td>\n",
       "      <td>H-A Worker</td>\n",
       "      <td>...</td>\n",
       "      <td>6814.0</td>\n",
       "      <td>True</td>\n",
       "      <td>False</td>\n",
       "      <td>False</td>\n",
       "      <td>False</td>\n",
       "      <td>NaN</td>\n",
       "      <td>NaN</td>\n",
       "      <td>False</td>\n",
       "      <td>NaN</td>\n",
       "      <td>NaN</td>\n",
       "    </tr>\n",
       "    <tr>\n",
       "      <th>49</th>\n",
       "      <td>AMAD79301</td>\n",
       "      <td>AMAD79301-24</td>\n",
       "      <td>AMAD</td>\n",
       "      <td>Ama Dablam</td>\n",
       "      <td>1979</td>\n",
       "      <td>Autumn</td>\n",
       "      <td>M</td>\n",
       "      <td>NaN</td>\n",
       "      <td>Nepal</td>\n",
       "      <td>H-A Worker</td>\n",
       "      <td>...</td>\n",
       "      <td>6814.0</td>\n",
       "      <td>True</td>\n",
       "      <td>False</td>\n",
       "      <td>False</td>\n",
       "      <td>False</td>\n",
       "      <td>NaN</td>\n",
       "      <td>NaN</td>\n",
       "      <td>False</td>\n",
       "      <td>NaN</td>\n",
       "      <td>NaN</td>\n",
       "    </tr>\n",
       "    <tr>\n",
       "      <th>50</th>\n",
       "      <td>AMAD79301</td>\n",
       "      <td>AMAD79301-25</td>\n",
       "      <td>AMAD</td>\n",
       "      <td>Ama Dablam</td>\n",
       "      <td>1979</td>\n",
       "      <td>Autumn</td>\n",
       "      <td>M</td>\n",
       "      <td>NaN</td>\n",
       "      <td>Nepal</td>\n",
       "      <td>H-A Worker</td>\n",
       "      <td>...</td>\n",
       "      <td>6814.0</td>\n",
       "      <td>True</td>\n",
       "      <td>False</td>\n",
       "      <td>False</td>\n",
       "      <td>False</td>\n",
       "      <td>NaN</td>\n",
       "      <td>NaN</td>\n",
       "      <td>False</td>\n",
       "      <td>NaN</td>\n",
       "      <td>NaN</td>\n",
       "    </tr>\n",
       "    <tr>\n",
       "      <th>82</th>\n",
       "      <td>AMAD81101</td>\n",
       "      <td>AMAD81101-11</td>\n",
       "      <td>AMAD</td>\n",
       "      <td>Ama Dablam</td>\n",
       "      <td>1981</td>\n",
       "      <td>Spring</td>\n",
       "      <td>M</td>\n",
       "      <td>25.0</td>\n",
       "      <td>Nepal</td>\n",
       "      <td>H-A Worker</td>\n",
       "      <td>...</td>\n",
       "      <td>6814.0</td>\n",
       "      <td>True</td>\n",
       "      <td>False</td>\n",
       "      <td>False</td>\n",
       "      <td>False</td>\n",
       "      <td>NaN</td>\n",
       "      <td>NaN</td>\n",
       "      <td>False</td>\n",
       "      <td>NaN</td>\n",
       "      <td>NaN</td>\n",
       "    </tr>\n",
       "  </tbody>\n",
       "</table>\n",
       "<p>5 rows × 21 columns</p>\n",
       "</div>"
      ],
      "text/plain": [
       "   expedition_id     member_id peak_id   peak_name  year  season sex   age  \\\n",
       "24     AMAD79101  AMAD79101-18    AMAD  Ama Dablam  1979  Spring   M  23.0   \n",
       "48     AMAD79301  AMAD79301-26    AMAD  Ama Dablam  1979  Autumn   M   NaN   \n",
       "49     AMAD79301  AMAD79301-24    AMAD  Ama Dablam  1979  Autumn   M   NaN   \n",
       "50     AMAD79301  AMAD79301-25    AMAD  Ama Dablam  1979  Autumn   M   NaN   \n",
       "82     AMAD81101  AMAD81101-11    AMAD  Ama Dablam  1981  Spring   M  25.0   \n",
       "\n",
       "   citizenship expedition_role  ...  highpoint_metres  success   solo  \\\n",
       "24       Nepal      H-A Worker  ...            6814.0     True  False   \n",
       "48       Nepal      H-A Worker  ...            6814.0     True  False   \n",
       "49       Nepal      H-A Worker  ...            6814.0     True  False   \n",
       "50       Nepal      H-A Worker  ...            6814.0     True  False   \n",
       "82       Nepal      H-A Worker  ...            6814.0     True  False   \n",
       "\n",
       "    oxygen_used   died  death_cause death_height_metres  injured  injury_type  \\\n",
       "24        False  False          NaN                 NaN    False          NaN   \n",
       "48        False  False          NaN                 NaN    False          NaN   \n",
       "49        False  False          NaN                 NaN    False          NaN   \n",
       "50        False  False          NaN                 NaN    False          NaN   \n",
       "82        False  False          NaN                 NaN    False          NaN   \n",
       "\n",
       "   injury_height_metres  \n",
       "24                  NaN  \n",
       "48                  NaN  \n",
       "49                  NaN  \n",
       "50                  NaN  \n",
       "82                  NaN  \n",
       "\n",
       "[5 rows x 21 columns]"
      ]
     },
     "execution_count": 4,
     "metadata": {},
     "output_type": "execute_result"
    }
   ],
   "source": [
    "#selecting those with only Nepalese citizenship; not including any with dual citizenship.\n",
    "nepalese = members[members['citizenship'] == 'Nepal']\n",
    "nepalese.head()"
   ]
  },
  {
   "cell_type": "markdown",
   "metadata": {},
   "source": [
    "### a) What proportion of them was hired for the expedition? "
   ]
  },
  {
   "cell_type": "code",
   "execution_count": 5,
   "metadata": {
    "scrolled": true
   },
   "outputs": [
    {
     "name": "stdout",
     "output_type": "stream",
     "text": [
      "15071\n",
      "16135\n"
     ]
    }
   ],
   "source": [
    "#selecting only Nepalese who were hired.\n",
    "print(nepalese.loc[nepalese['hired'] == True, 'hired'].count())\n",
    "\n",
    "print(len(nepalese))"
   ]
  },
  {
   "cell_type": "markdown",
   "metadata": {},
   "source": [
    "### b) What are their minimum, maximum, and average ages?"
   ]
  },
  {
   "cell_type": "code",
   "execution_count": 6,
   "metadata": {
    "scrolled": true
   },
   "outputs": [
    {
     "data": {
      "text/html": [
       "<div>\n",
       "<style scoped>\n",
       "    .dataframe tbody tr th:only-of-type {\n",
       "        vertical-align: middle;\n",
       "    }\n",
       "\n",
       "    .dataframe tbody tr th {\n",
       "        vertical-align: top;\n",
       "    }\n",
       "\n",
       "    .dataframe thead th {\n",
       "        text-align: right;\n",
       "    }\n",
       "</style>\n",
       "<table border=\"1\" class=\"dataframe\">\n",
       "  <thead>\n",
       "    <tr style=\"text-align: right;\">\n",
       "      <th></th>\n",
       "      <th>age</th>\n",
       "    </tr>\n",
       "  </thead>\n",
       "  <tbody>\n",
       "    <tr>\n",
       "      <th>min</th>\n",
       "      <td>12.000000</td>\n",
       "    </tr>\n",
       "    <tr>\n",
       "      <th>max</th>\n",
       "      <td>85.000000</td>\n",
       "    </tr>\n",
       "    <tr>\n",
       "      <th>mean</th>\n",
       "      <td>32.885062</td>\n",
       "    </tr>\n",
       "  </tbody>\n",
       "</table>\n",
       "</div>"
      ],
      "text/plain": [
       "            age\n",
       "min   12.000000\n",
       "max   85.000000\n",
       "mean  32.885062"
      ]
     },
     "execution_count": 6,
     "metadata": {},
     "output_type": "execute_result"
    }
   ],
   "source": [
    "nepalese[['age']].agg(['min', 'max', 'mean'])"
   ]
  },
  {
   "cell_type": "markdown",
   "metadata": {},
   "source": [
    "# Question 3: Gender"
   ]
  },
  {
   "cell_type": "markdown",
   "metadata": {},
   "source": [
    "## Now use all three data sets and join them on the provided ID variables. For this question, limit yourself to the subset of non-`hired` participants."
   ]
  },
  {
   "cell_type": "code",
   "execution_count": 7,
   "metadata": {},
   "outputs": [],
   "source": [
    "#Left join, instead of inner join, for all three datasets in order to prevent unintended deletion of entries due to data quality issues. \n",
    "all_three = members.merge(peaks,how='left', on = 'peak_id').merge(expeditions, how='left', on='expedition_id')"
   ]
  },
  {
   "cell_type": "code",
   "execution_count": 8,
   "metadata": {},
   "outputs": [
    {
     "name": "stdout",
     "output_type": "stream",
     "text": [
      "['expedition_id', 'member_id', 'peak_id_x', 'peak_name_x', 'year_x', 'season_x', 'sex', 'age', 'citizenship', 'expedition_role', 'hired', 'highpoint_metres_x', 'success', 'solo', 'oxygen_used_x', 'died', 'death_cause', 'death_height_metres', 'injured', 'injury_type', 'injury_height_metres', 'peak_name_y', 'peak_alternative_name', 'height_metres', 'climbing_status', 'first_ascent_year', 'first_ascent_country', 'first_ascent_expedition_id', 'peak_id_y', 'peak_name', 'year_y', 'season_y', 'basecamp_date', 'highpoint_date', 'termination_date', 'termination_reason', 'highpoint_metres_y', 'members', 'member_deaths', 'hired_staff', 'hired_staff_deaths', 'oxygen_used_y', 'trekking_agency']\n"
     ]
    },
    {
     "data": {
      "text/html": [
       "<div>\n",
       "<style scoped>\n",
       "    .dataframe tbody tr th:only-of-type {\n",
       "        vertical-align: middle;\n",
       "    }\n",
       "\n",
       "    .dataframe tbody tr th {\n",
       "        vertical-align: top;\n",
       "    }\n",
       "\n",
       "    .dataframe thead th {\n",
       "        text-align: right;\n",
       "    }\n",
       "</style>\n",
       "<table border=\"1\" class=\"dataframe\">\n",
       "  <thead>\n",
       "    <tr style=\"text-align: right;\">\n",
       "      <th></th>\n",
       "      <th>expedition_id</th>\n",
       "      <th>member_id</th>\n",
       "      <th>peak_id_x</th>\n",
       "      <th>peak_name_x</th>\n",
       "      <th>year_x</th>\n",
       "      <th>season_x</th>\n",
       "      <th>sex</th>\n",
       "      <th>age</th>\n",
       "      <th>citizenship</th>\n",
       "      <th>expedition_role</th>\n",
       "      <th>...</th>\n",
       "      <th>highpoint_date</th>\n",
       "      <th>termination_date</th>\n",
       "      <th>termination_reason</th>\n",
       "      <th>highpoint_metres_y</th>\n",
       "      <th>members</th>\n",
       "      <th>member_deaths</th>\n",
       "      <th>hired_staff</th>\n",
       "      <th>hired_staff_deaths</th>\n",
       "      <th>oxygen_used_y</th>\n",
       "      <th>trekking_agency</th>\n",
       "    </tr>\n",
       "  </thead>\n",
       "  <tbody>\n",
       "    <tr>\n",
       "      <th>0</th>\n",
       "      <td>AMAD78301</td>\n",
       "      <td>AMAD78301-01</td>\n",
       "      <td>AMAD</td>\n",
       "      <td>Ama Dablam</td>\n",
       "      <td>1978</td>\n",
       "      <td>Autumn</td>\n",
       "      <td>M</td>\n",
       "      <td>40.0</td>\n",
       "      <td>France</td>\n",
       "      <td>Leader</td>\n",
       "      <td>...</td>\n",
       "      <td>1978-10-20</td>\n",
       "      <td>1978-10-23</td>\n",
       "      <td>Bad conditions (deep snow, avalanching, fallin...</td>\n",
       "      <td>6000.0</td>\n",
       "      <td>8</td>\n",
       "      <td>0</td>\n",
       "      <td>5</td>\n",
       "      <td>0</td>\n",
       "      <td>False</td>\n",
       "      <td>NaN</td>\n",
       "    </tr>\n",
       "    <tr>\n",
       "      <th>1</th>\n",
       "      <td>AMAD78301</td>\n",
       "      <td>AMAD78301-02</td>\n",
       "      <td>AMAD</td>\n",
       "      <td>Ama Dablam</td>\n",
       "      <td>1978</td>\n",
       "      <td>Autumn</td>\n",
       "      <td>M</td>\n",
       "      <td>41.0</td>\n",
       "      <td>France</td>\n",
       "      <td>Deputy Leader</td>\n",
       "      <td>...</td>\n",
       "      <td>1978-10-20</td>\n",
       "      <td>1978-10-23</td>\n",
       "      <td>Bad conditions (deep snow, avalanching, fallin...</td>\n",
       "      <td>6000.0</td>\n",
       "      <td>8</td>\n",
       "      <td>0</td>\n",
       "      <td>5</td>\n",
       "      <td>0</td>\n",
       "      <td>False</td>\n",
       "      <td>NaN</td>\n",
       "    </tr>\n",
       "    <tr>\n",
       "      <th>2</th>\n",
       "      <td>AMAD78301</td>\n",
       "      <td>AMAD78301-03</td>\n",
       "      <td>AMAD</td>\n",
       "      <td>Ama Dablam</td>\n",
       "      <td>1978</td>\n",
       "      <td>Autumn</td>\n",
       "      <td>M</td>\n",
       "      <td>27.0</td>\n",
       "      <td>France</td>\n",
       "      <td>Climber</td>\n",
       "      <td>...</td>\n",
       "      <td>1978-10-20</td>\n",
       "      <td>1978-10-23</td>\n",
       "      <td>Bad conditions (deep snow, avalanching, fallin...</td>\n",
       "      <td>6000.0</td>\n",
       "      <td>8</td>\n",
       "      <td>0</td>\n",
       "      <td>5</td>\n",
       "      <td>0</td>\n",
       "      <td>False</td>\n",
       "      <td>NaN</td>\n",
       "    </tr>\n",
       "    <tr>\n",
       "      <th>3</th>\n",
       "      <td>AMAD78301</td>\n",
       "      <td>AMAD78301-04</td>\n",
       "      <td>AMAD</td>\n",
       "      <td>Ama Dablam</td>\n",
       "      <td>1978</td>\n",
       "      <td>Autumn</td>\n",
       "      <td>M</td>\n",
       "      <td>40.0</td>\n",
       "      <td>France</td>\n",
       "      <td>Exp Doctor</td>\n",
       "      <td>...</td>\n",
       "      <td>1978-10-20</td>\n",
       "      <td>1978-10-23</td>\n",
       "      <td>Bad conditions (deep snow, avalanching, fallin...</td>\n",
       "      <td>6000.0</td>\n",
       "      <td>8</td>\n",
       "      <td>0</td>\n",
       "      <td>5</td>\n",
       "      <td>0</td>\n",
       "      <td>False</td>\n",
       "      <td>NaN</td>\n",
       "    </tr>\n",
       "    <tr>\n",
       "      <th>4</th>\n",
       "      <td>AMAD78301</td>\n",
       "      <td>AMAD78301-05</td>\n",
       "      <td>AMAD</td>\n",
       "      <td>Ama Dablam</td>\n",
       "      <td>1978</td>\n",
       "      <td>Autumn</td>\n",
       "      <td>M</td>\n",
       "      <td>34.0</td>\n",
       "      <td>France</td>\n",
       "      <td>Climber</td>\n",
       "      <td>...</td>\n",
       "      <td>1978-10-20</td>\n",
       "      <td>1978-10-23</td>\n",
       "      <td>Bad conditions (deep snow, avalanching, fallin...</td>\n",
       "      <td>6000.0</td>\n",
       "      <td>8</td>\n",
       "      <td>0</td>\n",
       "      <td>5</td>\n",
       "      <td>0</td>\n",
       "      <td>False</td>\n",
       "      <td>NaN</td>\n",
       "    </tr>\n",
       "  </tbody>\n",
       "</table>\n",
       "<p>5 rows × 43 columns</p>\n",
       "</div>"
      ],
      "text/plain": [
       "  expedition_id     member_id peak_id_x peak_name_x  year_x season_x sex  \\\n",
       "0     AMAD78301  AMAD78301-01      AMAD  Ama Dablam    1978   Autumn   M   \n",
       "1     AMAD78301  AMAD78301-02      AMAD  Ama Dablam    1978   Autumn   M   \n",
       "2     AMAD78301  AMAD78301-03      AMAD  Ama Dablam    1978   Autumn   M   \n",
       "3     AMAD78301  AMAD78301-04      AMAD  Ama Dablam    1978   Autumn   M   \n",
       "4     AMAD78301  AMAD78301-05      AMAD  Ama Dablam    1978   Autumn   M   \n",
       "\n",
       "    age citizenship expedition_role  ...  highpoint_date  termination_date  \\\n",
       "0  40.0      France          Leader  ...      1978-10-20        1978-10-23   \n",
       "1  41.0      France   Deputy Leader  ...      1978-10-20        1978-10-23   \n",
       "2  27.0      France         Climber  ...      1978-10-20        1978-10-23   \n",
       "3  40.0      France      Exp Doctor  ...      1978-10-20        1978-10-23   \n",
       "4  34.0      France         Climber  ...      1978-10-20        1978-10-23   \n",
       "\n",
       "                                  termination_reason  highpoint_metres_y  \\\n",
       "0  Bad conditions (deep snow, avalanching, fallin...              6000.0   \n",
       "1  Bad conditions (deep snow, avalanching, fallin...              6000.0   \n",
       "2  Bad conditions (deep snow, avalanching, fallin...              6000.0   \n",
       "3  Bad conditions (deep snow, avalanching, fallin...              6000.0   \n",
       "4  Bad conditions (deep snow, avalanching, fallin...              6000.0   \n",
       "\n",
       "   members  member_deaths hired_staff  hired_staff_deaths  oxygen_used_y  \\\n",
       "0        8              0           5                   0          False   \n",
       "1        8              0           5                   0          False   \n",
       "2        8              0           5                   0          False   \n",
       "3        8              0           5                   0          False   \n",
       "4        8              0           5                   0          False   \n",
       "\n",
       "  trekking_agency  \n",
       "0             NaN  \n",
       "1             NaN  \n",
       "2             NaN  \n",
       "3             NaN  \n",
       "4             NaN  \n",
       "\n",
       "[5 rows x 43 columns]"
      ]
     },
     "execution_count": 8,
     "metadata": {},
     "output_type": "execute_result"
    }
   ],
   "source": [
    "#limiting to subset of non-hired participants.\n",
    "non_hired_all = all_three.loc[all_three['hired'] == False, :]\n",
    "\n",
    "#colnames and .head() function, to check for dataframe generated.\n",
    "print(list(non_hired_all.columns))\n",
    "non_hired_all.head()"
   ]
  },
  {
   "cell_type": "markdown",
   "metadata": {},
   "source": [
    "### a) What is the first record of a woman summitting a peak? Which peak (name and height in meters) was that?"
   ]
  },
  {
   "cell_type": "code",
   "execution_count": 9,
   "metadata": {},
   "outputs": [
    {
     "data": {
      "text/html": [
       "<div>\n",
       "<style scoped>\n",
       "    .dataframe tbody tr th:only-of-type {\n",
       "        vertical-align: middle;\n",
       "    }\n",
       "\n",
       "    .dataframe tbody tr th {\n",
       "        vertical-align: top;\n",
       "    }\n",
       "\n",
       "    .dataframe thead th {\n",
       "        text-align: right;\n",
       "    }\n",
       "</style>\n",
       "<table border=\"1\" class=\"dataframe\">\n",
       "  <thead>\n",
       "    <tr style=\"text-align: right;\">\n",
       "      <th></th>\n",
       "      <th>expedition_id</th>\n",
       "      <th>member_id</th>\n",
       "      <th>peak_id_x</th>\n",
       "      <th>peak_name_x</th>\n",
       "      <th>year_x</th>\n",
       "      <th>season_x</th>\n",
       "      <th>sex</th>\n",
       "      <th>age</th>\n",
       "      <th>citizenship</th>\n",
       "      <th>expedition_role</th>\n",
       "      <th>...</th>\n",
       "      <th>highpoint_date</th>\n",
       "      <th>termination_date</th>\n",
       "      <th>termination_reason</th>\n",
       "      <th>highpoint_metres_y</th>\n",
       "      <th>members</th>\n",
       "      <th>member_deaths</th>\n",
       "      <th>hired_staff</th>\n",
       "      <th>hired_staff_deaths</th>\n",
       "      <th>oxygen_used_y</th>\n",
       "      <th>trekking_agency</th>\n",
       "    </tr>\n",
       "  </thead>\n",
       "  <tbody>\n",
       "    <tr>\n",
       "      <th>24740</th>\n",
       "      <td>TENG49101</td>\n",
       "      <td>TENG49101-03</td>\n",
       "      <td>TENG</td>\n",
       "      <td>Tengkoma</td>\n",
       "      <td>1949</td>\n",
       "      <td>Spring</td>\n",
       "      <td>F</td>\n",
       "      <td>NaN</td>\n",
       "      <td>Switzerland</td>\n",
       "      <td>Climber</td>\n",
       "      <td>...</td>\n",
       "      <td>1949-06-17</td>\n",
       "      <td>1949-07-18</td>\n",
       "      <td>Success (main peak)</td>\n",
       "      <td>6215.0</td>\n",
       "      <td>5</td>\n",
       "      <td>0</td>\n",
       "      <td>1</td>\n",
       "      <td>0</td>\n",
       "      <td>False</td>\n",
       "      <td>NaN</td>\n",
       "    </tr>\n",
       "  </tbody>\n",
       "</table>\n",
       "<p>1 rows × 43 columns</p>\n",
       "</div>"
      ],
      "text/plain": [
       "      expedition_id     member_id peak_id_x peak_name_x  year_x season_x sex  \\\n",
       "24740     TENG49101  TENG49101-03      TENG    Tengkoma    1949   Spring   F   \n",
       "\n",
       "       age  citizenship expedition_role  ...  highpoint_date  \\\n",
       "24740  NaN  Switzerland         Climber  ...      1949-06-17   \n",
       "\n",
       "       termination_date   termination_reason  highpoint_metres_y  members  \\\n",
       "24740        1949-07-18  Success (main peak)              6215.0        5   \n",
       "\n",
       "       member_deaths hired_staff  hired_staff_deaths  oxygen_used_y  \\\n",
       "24740              0           1                   0          False   \n",
       "\n",
       "      trekking_agency  \n",
       "24740             NaN  \n",
       "\n",
       "[1 rows x 43 columns]"
      ]
     },
     "execution_count": 9,
     "metadata": {},
     "output_type": "execute_result"
    }
   ],
   "source": [
    "#first record of woman, TENG49101-03, summitting a peak within this dataset.\n",
    "first_woman = non_hired_all.query('sex == \"F\" & success == True').sort_values(by='highpoint_date').head(1)\n",
    "first_woman"
   ]
  },
  {
   "cell_type": "code",
   "execution_count": 10,
   "metadata": {},
   "outputs": [
    {
     "data": {
      "text/html": [
       "<div>\n",
       "<style scoped>\n",
       "    .dataframe tbody tr th:only-of-type {\n",
       "        vertical-align: middle;\n",
       "    }\n",
       "\n",
       "    .dataframe tbody tr th {\n",
       "        vertical-align: top;\n",
       "    }\n",
       "\n",
       "    .dataframe thead th {\n",
       "        text-align: right;\n",
       "    }\n",
       "</style>\n",
       "<table border=\"1\" class=\"dataframe\">\n",
       "  <thead>\n",
       "    <tr style=\"text-align: right;\">\n",
       "      <th></th>\n",
       "      <th>peak_name_x</th>\n",
       "      <th>height_metres</th>\n",
       "    </tr>\n",
       "  </thead>\n",
       "  <tbody>\n",
       "    <tr>\n",
       "      <th>24740</th>\n",
       "      <td>Tengkoma</td>\n",
       "      <td>6215.0</td>\n",
       "    </tr>\n",
       "  </tbody>\n",
       "</table>\n",
       "</div>"
      ],
      "text/plain": [
       "      peak_name_x  height_metres\n",
       "24740    Tengkoma         6215.0"
      ]
     },
     "execution_count": 10,
     "metadata": {},
     "output_type": "execute_result"
    }
   ],
   "source": [
    "#peak(name) and height in metres that first woman summitted, within this dataset.\n",
    "first_woman[['peak_name_x', 'height_metres']]"
   ]
  },
  {
   "cell_type": "markdown",
   "metadata": {},
   "source": [
    "### b) Provide a single cross-tab table of the `sex` of an expedition participant and \n",
    "- the proportion of `success` in summitting a main peak or sub-peak\n",
    "- the proportion of participants using `oxygen` support \n",
    "- the proportion of participants who died."
   ]
  },
  {
   "cell_type": "code",
   "execution_count": 11,
   "metadata": {
    "scrolled": true
   },
   "outputs": [
    {
     "data": {
      "text/html": [
       "<div>\n",
       "<style scoped>\n",
       "    .dataframe tbody tr th:only-of-type {\n",
       "        vertical-align: middle;\n",
       "    }\n",
       "\n",
       "    .dataframe tbody tr th {\n",
       "        vertical-align: top;\n",
       "    }\n",
       "\n",
       "    .dataframe thead th {\n",
       "        text-align: right;\n",
       "    }\n",
       "</style>\n",
       "<table border=\"1\" class=\"dataframe\">\n",
       "  <thead>\n",
       "    <tr style=\"text-align: right;\">\n",
       "      <th></th>\n",
       "      <th>sex</th>\n",
       "      <th>success</th>\n",
       "      <th>oxygen_used_x</th>\n",
       "      <th>died</th>\n",
       "    </tr>\n",
       "  </thead>\n",
       "  <tbody>\n",
       "    <tr>\n",
       "      <th>0</th>\n",
       "      <td>M</td>\n",
       "      <td>False</td>\n",
       "      <td>False</td>\n",
       "      <td>False</td>\n",
       "    </tr>\n",
       "    <tr>\n",
       "      <th>1</th>\n",
       "      <td>M</td>\n",
       "      <td>False</td>\n",
       "      <td>False</td>\n",
       "      <td>False</td>\n",
       "    </tr>\n",
       "    <tr>\n",
       "      <th>2</th>\n",
       "      <td>M</td>\n",
       "      <td>False</td>\n",
       "      <td>False</td>\n",
       "      <td>False</td>\n",
       "    </tr>\n",
       "    <tr>\n",
       "      <th>3</th>\n",
       "      <td>M</td>\n",
       "      <td>False</td>\n",
       "      <td>False</td>\n",
       "      <td>False</td>\n",
       "    </tr>\n",
       "    <tr>\n",
       "      <th>4</th>\n",
       "      <td>M</td>\n",
       "      <td>False</td>\n",
       "      <td>False</td>\n",
       "      <td>False</td>\n",
       "    </tr>\n",
       "  </tbody>\n",
       "</table>\n",
       "</div>"
      ],
      "text/plain": [
       "  sex  success  oxygen_used_x   died\n",
       "0   M    False          False  False\n",
       "1   M    False          False  False\n",
       "2   M    False          False  False\n",
       "3   M    False          False  False\n",
       "4   M    False          False  False"
      ]
     },
     "execution_count": 11,
     "metadata": {},
     "output_type": "execute_result"
    }
   ],
   "source": [
    "#selecting relevant variables.\n",
    "forcrosstab = non_hired_all[['sex', 'success', 'oxygen_used_x', 'died']]\n",
    "forcrosstab.head()"
   ]
  },
  {
   "cell_type": "code",
   "execution_count": 12,
   "metadata": {
    "scrolled": true
   },
   "outputs": [
    {
     "data": {
      "text/html": [
       "<div>\n",
       "<style scoped>\n",
       "    .dataframe tbody tr th:only-of-type {\n",
       "        vertical-align: middle;\n",
       "    }\n",
       "\n",
       "    .dataframe tbody tr th {\n",
       "        vertical-align: top;\n",
       "    }\n",
       "\n",
       "    .dataframe thead th {\n",
       "        text-align: right;\n",
       "    }\n",
       "</style>\n",
       "<table border=\"1\" class=\"dataframe\">\n",
       "  <thead>\n",
       "    <tr style=\"text-align: right;\">\n",
       "      <th></th>\n",
       "      <th>success</th>\n",
       "      <th>oxygen_used_x</th>\n",
       "      <th>died</th>\n",
       "    </tr>\n",
       "    <tr>\n",
       "      <th>sex</th>\n",
       "      <th></th>\n",
       "      <th></th>\n",
       "      <th></th>\n",
       "    </tr>\n",
       "  </thead>\n",
       "  <tbody>\n",
       "    <tr>\n",
       "      <th>F</th>\n",
       "      <td>32.658300</td>\n",
       "      <td>21.577296</td>\n",
       "      <td>0.698802</td>\n",
       "    </tr>\n",
       "    <tr>\n",
       "      <th>M</th>\n",
       "      <td>31.274289</td>\n",
       "      <td>17.491958</td>\n",
       "      <td>1.374142</td>\n",
       "    </tr>\n",
       "  </tbody>\n",
       "</table>\n",
       "</div>"
      ],
      "text/plain": [
       "       success  oxygen_used_x      died\n",
       "sex                                    \n",
       "F    32.658300      21.577296  0.698802\n",
       "M    31.274289      17.491958  1.374142"
      ]
     },
     "execution_count": 12,
     "metadata": {},
     "output_type": "execute_result"
    }
   ],
   "source": [
    "#output table reflects percentage of successful summits ('success'), \n",
    "#percentage of participants who used oxygen support ('oxygen_used_x'), and percentage of participants who died ('died'), grouped by sex ('sex').\n",
    "\n",
    "forcrosstab[[ 'success', 'oxygen_used_x','died', 'sex']].groupby('sex').mean() * 100"
   ]
  },
  {
   "cell_type": "markdown",
   "metadata": {},
   "source": [
    "# Question 4: Accidents"
   ]
  },
  {
   "cell_type": "markdown",
   "metadata": {},
   "source": [
    "## For this question, use the `expeditions` data only."
   ]
  },
  {
   "cell_type": "code",
   "execution_count": 13,
   "metadata": {},
   "outputs": [
    {
     "name": "stdout",
     "output_type": "stream",
     "text": [
      "['expedition_id', 'peak_id', 'peak_name', 'year', 'season', 'basecamp_date', 'highpoint_date', 'termination_date', 'termination_reason', 'highpoint_metres', 'members', 'member_deaths', 'hired_staff', 'hired_staff_deaths', 'oxygen_used', 'trekking_agency']\n",
      "1905\n",
      "2019\n"
     ]
    },
    {
     "data": {
      "text/html": [
       "<div>\n",
       "<style scoped>\n",
       "    .dataframe tbody tr th:only-of-type {\n",
       "        vertical-align: middle;\n",
       "    }\n",
       "\n",
       "    .dataframe tbody tr th {\n",
       "        vertical-align: top;\n",
       "    }\n",
       "\n",
       "    .dataframe thead th {\n",
       "        text-align: right;\n",
       "    }\n",
       "</style>\n",
       "<table border=\"1\" class=\"dataframe\">\n",
       "  <thead>\n",
       "    <tr style=\"text-align: right;\">\n",
       "      <th></th>\n",
       "      <th>expedition_id</th>\n",
       "      <th>peak_id</th>\n",
       "      <th>peak_name</th>\n",
       "      <th>year</th>\n",
       "      <th>season</th>\n",
       "      <th>basecamp_date</th>\n",
       "      <th>highpoint_date</th>\n",
       "      <th>termination_date</th>\n",
       "      <th>termination_reason</th>\n",
       "      <th>highpoint_metres</th>\n",
       "      <th>members</th>\n",
       "      <th>member_deaths</th>\n",
       "      <th>hired_staff</th>\n",
       "      <th>hired_staff_deaths</th>\n",
       "      <th>oxygen_used</th>\n",
       "      <th>trekking_agency</th>\n",
       "    </tr>\n",
       "  </thead>\n",
       "  <tbody>\n",
       "    <tr>\n",
       "      <th>0</th>\n",
       "      <td>ANN260101</td>\n",
       "      <td>ANN2</td>\n",
       "      <td>Annapurna II</td>\n",
       "      <td>1960</td>\n",
       "      <td>Spring</td>\n",
       "      <td>1960-03-15</td>\n",
       "      <td>1960-05-17</td>\n",
       "      <td>NaN</td>\n",
       "      <td>Success (main peak)</td>\n",
       "      <td>7937.0</td>\n",
       "      <td>10</td>\n",
       "      <td>0</td>\n",
       "      <td>9</td>\n",
       "      <td>0</td>\n",
       "      <td>True</td>\n",
       "      <td>NaN</td>\n",
       "    </tr>\n",
       "    <tr>\n",
       "      <th>1</th>\n",
       "      <td>ANN269301</td>\n",
       "      <td>ANN2</td>\n",
       "      <td>Annapurna II</td>\n",
       "      <td>1969</td>\n",
       "      <td>Autumn</td>\n",
       "      <td>1969-09-25</td>\n",
       "      <td>1969-10-22</td>\n",
       "      <td>1969-10-26</td>\n",
       "      <td>Success (main peak)</td>\n",
       "      <td>7937.0</td>\n",
       "      <td>10</td>\n",
       "      <td>0</td>\n",
       "      <td>0</td>\n",
       "      <td>0</td>\n",
       "      <td>False</td>\n",
       "      <td>NaN</td>\n",
       "    </tr>\n",
       "    <tr>\n",
       "      <th>2</th>\n",
       "      <td>ANN273101</td>\n",
       "      <td>ANN2</td>\n",
       "      <td>Annapurna II</td>\n",
       "      <td>1973</td>\n",
       "      <td>Spring</td>\n",
       "      <td>1973-03-16</td>\n",
       "      <td>1973-05-06</td>\n",
       "      <td>NaN</td>\n",
       "      <td>Success (main peak)</td>\n",
       "      <td>7937.0</td>\n",
       "      <td>6</td>\n",
       "      <td>0</td>\n",
       "      <td>8</td>\n",
       "      <td>0</td>\n",
       "      <td>False</td>\n",
       "      <td>NaN</td>\n",
       "    </tr>\n",
       "    <tr>\n",
       "      <th>3</th>\n",
       "      <td>ANN278301</td>\n",
       "      <td>ANN2</td>\n",
       "      <td>Annapurna II</td>\n",
       "      <td>1978</td>\n",
       "      <td>Autumn</td>\n",
       "      <td>1978-09-08</td>\n",
       "      <td>1978-10-02</td>\n",
       "      <td>1978-10-05</td>\n",
       "      <td>Bad weather (storms, high winds)</td>\n",
       "      <td>7000.0</td>\n",
       "      <td>2</td>\n",
       "      <td>0</td>\n",
       "      <td>0</td>\n",
       "      <td>0</td>\n",
       "      <td>False</td>\n",
       "      <td>NaN</td>\n",
       "    </tr>\n",
       "    <tr>\n",
       "      <th>4</th>\n",
       "      <td>ANN279301</td>\n",
       "      <td>ANN2</td>\n",
       "      <td>Annapurna II</td>\n",
       "      <td>1979</td>\n",
       "      <td>Autumn</td>\n",
       "      <td>NaN</td>\n",
       "      <td>1979-10-18</td>\n",
       "      <td>1979-10-20</td>\n",
       "      <td>Bad weather (storms, high winds)</td>\n",
       "      <td>7160.0</td>\n",
       "      <td>3</td>\n",
       "      <td>0</td>\n",
       "      <td>0</td>\n",
       "      <td>0</td>\n",
       "      <td>False</td>\n",
       "      <td>NaN</td>\n",
       "    </tr>\n",
       "  </tbody>\n",
       "</table>\n",
       "</div>"
      ],
      "text/plain": [
       "  expedition_id peak_id     peak_name  year  season basecamp_date  \\\n",
       "0     ANN260101    ANN2  Annapurna II  1960  Spring    1960-03-15   \n",
       "1     ANN269301    ANN2  Annapurna II  1969  Autumn    1969-09-25   \n",
       "2     ANN273101    ANN2  Annapurna II  1973  Spring    1973-03-16   \n",
       "3     ANN278301    ANN2  Annapurna II  1978  Autumn    1978-09-08   \n",
       "4     ANN279301    ANN2  Annapurna II  1979  Autumn           NaN   \n",
       "\n",
       "  highpoint_date termination_date                termination_reason  \\\n",
       "0     1960-05-17              NaN               Success (main peak)   \n",
       "1     1969-10-22       1969-10-26               Success (main peak)   \n",
       "2     1973-05-06              NaN               Success (main peak)   \n",
       "3     1978-10-02       1978-10-05  Bad weather (storms, high winds)   \n",
       "4     1979-10-18       1979-10-20  Bad weather (storms, high winds)   \n",
       "\n",
       "   highpoint_metres  members  member_deaths  hired_staff  hired_staff_deaths  \\\n",
       "0            7937.0       10              0            9                   0   \n",
       "1            7937.0       10              0            0                   0   \n",
       "2            7937.0        6              0            8                   0   \n",
       "3            7000.0        2              0            0                   0   \n",
       "4            7160.0        3              0            0                   0   \n",
       "\n",
       "   oxygen_used trekking_agency  \n",
       "0         True             NaN  \n",
       "1        False             NaN  \n",
       "2        False             NaN  \n",
       "3        False             NaN  \n",
       "4        False             NaN  "
      ]
     },
     "execution_count": 13,
     "metadata": {},
     "output_type": "execute_result"
    }
   ],
   "source": [
    "#col_names, descriptive stats to check subsequent by decade calculation, and a .head() command to check dataframe generated.\n",
    "print(list(expeditions.columns))\n",
    "print(expeditions.year.min())\n",
    "print(expeditions.year.max())\n",
    "expeditions.head()"
   ]
  },
  {
   "cell_type": "markdown",
   "metadata": {},
   "source": [
    "### a) Aggregate the data by decade and count the number of expeditions, the total number of expedition members, and the average rates of death for members and hired staff. Briefly describe what you found."
   ]
  },
  {
   "cell_type": "code",
   "execution_count": 14,
   "metadata": {},
   "outputs": [
    {
     "data": {
      "text/html": [
       "<div>\n",
       "<style scoped>\n",
       "    .dataframe tbody tr th:only-of-type {\n",
       "        vertical-align: middle;\n",
       "    }\n",
       "\n",
       "    .dataframe tbody tr th {\n",
       "        vertical-align: top;\n",
       "    }\n",
       "\n",
       "    .dataframe thead th {\n",
       "        text-align: right;\n",
       "    }\n",
       "</style>\n",
       "<table border=\"1\" class=\"dataframe\">\n",
       "  <thead>\n",
       "    <tr style=\"text-align: right;\">\n",
       "      <th></th>\n",
       "      <th>expedition_id</th>\n",
       "    </tr>\n",
       "    <tr>\n",
       "      <th>year</th>\n",
       "      <th></th>\n",
       "    </tr>\n",
       "  </thead>\n",
       "  <tbody>\n",
       "    <tr>\n",
       "      <th>1900</th>\n",
       "      <td>4</td>\n",
       "    </tr>\n",
       "    <tr>\n",
       "      <th>1910</th>\n",
       "      <td>3</td>\n",
       "    </tr>\n",
       "    <tr>\n",
       "      <th>1920</th>\n",
       "      <td>10</td>\n",
       "    </tr>\n",
       "    <tr>\n",
       "      <th>1930</th>\n",
       "      <td>34</td>\n",
       "    </tr>\n",
       "    <tr>\n",
       "      <th>1940</th>\n",
       "      <td>15</td>\n",
       "    </tr>\n",
       "    <tr>\n",
       "      <th>1950</th>\n",
       "      <td>168</td>\n",
       "    </tr>\n",
       "    <tr>\n",
       "      <th>1960</th>\n",
       "      <td>161</td>\n",
       "    </tr>\n",
       "    <tr>\n",
       "      <th>1970</th>\n",
       "      <td>361</td>\n",
       "    </tr>\n",
       "    <tr>\n",
       "      <th>1980</th>\n",
       "      <td>1187</td>\n",
       "    </tr>\n",
       "    <tr>\n",
       "      <th>1990</th>\n",
       "      <td>1703</td>\n",
       "    </tr>\n",
       "    <tr>\n",
       "      <th>2000</th>\n",
       "      <td>3213</td>\n",
       "    </tr>\n",
       "    <tr>\n",
       "      <th>2010</th>\n",
       "      <td>3505</td>\n",
       "    </tr>\n",
       "  </tbody>\n",
       "</table>\n",
       "</div>"
      ],
      "text/plain": [
       "      expedition_id\n",
       "year               \n",
       "1900              4\n",
       "1910              3\n",
       "1920             10\n",
       "1930             34\n",
       "1940             15\n",
       "1950            168\n",
       "1960            161\n",
       "1970            361\n",
       "1980           1187\n",
       "1990           1703\n",
       "2000           3213\n",
       "2010           3505"
      ]
     },
     "execution_count": 14,
     "metadata": {},
     "output_type": "execute_result"
    }
   ],
   "source": [
    "#Number of expeditions, aggregated by decade.\n",
    "expeditions[['expedition_id']].groupby((expeditions.year//10)*10).count()"
   ]
  },
  {
   "cell_type": "code",
   "execution_count": 15,
   "metadata": {
    "scrolled": false
   },
   "outputs": [
    {
     "data": {
      "text/html": [
       "<div>\n",
       "<style scoped>\n",
       "    .dataframe tbody tr th:only-of-type {\n",
       "        vertical-align: middle;\n",
       "    }\n",
       "\n",
       "    .dataframe tbody tr th {\n",
       "        vertical-align: top;\n",
       "    }\n",
       "\n",
       "    .dataframe thead th {\n",
       "        text-align: right;\n",
       "    }\n",
       "</style>\n",
       "<table border=\"1\" class=\"dataframe\">\n",
       "  <thead>\n",
       "    <tr style=\"text-align: right;\">\n",
       "      <th></th>\n",
       "      <th>members</th>\n",
       "    </tr>\n",
       "    <tr>\n",
       "      <th>year</th>\n",
       "      <th></th>\n",
       "    </tr>\n",
       "  </thead>\n",
       "  <tbody>\n",
       "    <tr>\n",
       "      <th>1900</th>\n",
       "      <td>9</td>\n",
       "    </tr>\n",
       "    <tr>\n",
       "      <th>1910</th>\n",
       "      <td>3</td>\n",
       "    </tr>\n",
       "    <tr>\n",
       "      <th>1920</th>\n",
       "      <td>51</td>\n",
       "    </tr>\n",
       "    <tr>\n",
       "      <th>1930</th>\n",
       "      <td>152</td>\n",
       "    </tr>\n",
       "    <tr>\n",
       "      <th>1940</th>\n",
       "      <td>53</td>\n",
       "    </tr>\n",
       "    <tr>\n",
       "      <th>1950</th>\n",
       "      <td>856</td>\n",
       "    </tr>\n",
       "    <tr>\n",
       "      <th>1960</th>\n",
       "      <td>989</td>\n",
       "    </tr>\n",
       "    <tr>\n",
       "      <th>1970</th>\n",
       "      <td>3506</td>\n",
       "    </tr>\n",
       "    <tr>\n",
       "      <th>1980</th>\n",
       "      <td>10023</td>\n",
       "    </tr>\n",
       "    <tr>\n",
       "      <th>1990</th>\n",
       "      <td>12512</td>\n",
       "    </tr>\n",
       "    <tr>\n",
       "      <th>2000</th>\n",
       "      <td>16867</td>\n",
       "    </tr>\n",
       "    <tr>\n",
       "      <th>2010</th>\n",
       "      <td>16679</td>\n",
       "    </tr>\n",
       "  </tbody>\n",
       "</table>\n",
       "</div>"
      ],
      "text/plain": [
       "      members\n",
       "year         \n",
       "1900        9\n",
       "1910        3\n",
       "1920       51\n",
       "1930      152\n",
       "1940       53\n",
       "1950      856\n",
       "1960      989\n",
       "1970     3506\n",
       "1980    10023\n",
       "1990    12512\n",
       "2000    16867\n",
       "2010    16679"
      ]
     },
     "execution_count": 15,
     "metadata": {},
     "output_type": "execute_result"
    }
   ],
   "source": [
    "#Total number of expedition members by decade.\n",
    "expeditions[['members']].groupby((expeditions.year//10)*10).sum()"
   ]
  },
  {
   "cell_type": "code",
   "execution_count": 16,
   "metadata": {},
   "outputs": [
    {
     "name": "stdout",
     "output_type": "stream",
     "text": [
      "      expedition_id\n",
      "year               \n",
      "1900              4\n",
      "1910              3\n",
      "1920             10\n",
      "1930             34\n",
      "1940             15\n",
      "1950            168\n",
      "1960            161\n",
      "1970            361\n",
      "1980           1187\n",
      "1990           1703\n",
      "2000           3213\n",
      "2010           3505\n",
      "      member_deaths  hired_staff_deaths\n",
      "year                                   \n",
      "1900              1                   4\n",
      "1910              0                   0\n",
      "1920              4                  10\n",
      "1930              2                   4\n",
      "1940              0                   0\n",
      "1950             16                   9\n",
      "1960             22                  10\n",
      "1970             97                  58\n",
      "1980            200                  47\n",
      "1990            163                  47\n",
      "2000            138                  55\n",
      "2010            145                  74\n"
     ]
    },
    {
     "data": {
      "text/html": [
       "<div>\n",
       "<style scoped>\n",
       "    .dataframe tbody tr th:only-of-type {\n",
       "        vertical-align: middle;\n",
       "    }\n",
       "\n",
       "    .dataframe tbody tr th {\n",
       "        vertical-align: top;\n",
       "    }\n",
       "\n",
       "    .dataframe thead th {\n",
       "        text-align: right;\n",
       "    }\n",
       "</style>\n",
       "<table border=\"1\" class=\"dataframe\">\n",
       "  <thead>\n",
       "    <tr style=\"text-align: right;\">\n",
       "      <th></th>\n",
       "      <th>member_deaths</th>\n",
       "      <th>hired_staff_deaths</th>\n",
       "    </tr>\n",
       "    <tr>\n",
       "      <th>year</th>\n",
       "      <th></th>\n",
       "      <th></th>\n",
       "    </tr>\n",
       "  </thead>\n",
       "  <tbody>\n",
       "    <tr>\n",
       "      <th>1900</th>\n",
       "      <td>25.000000</td>\n",
       "      <td>100.000000</td>\n",
       "    </tr>\n",
       "    <tr>\n",
       "      <th>1910</th>\n",
       "      <td>0.000000</td>\n",
       "      <td>0.000000</td>\n",
       "    </tr>\n",
       "    <tr>\n",
       "      <th>1920</th>\n",
       "      <td>40.000000</td>\n",
       "      <td>100.000000</td>\n",
       "    </tr>\n",
       "    <tr>\n",
       "      <th>1930</th>\n",
       "      <td>5.882353</td>\n",
       "      <td>11.764706</td>\n",
       "    </tr>\n",
       "    <tr>\n",
       "      <th>1940</th>\n",
       "      <td>0.000000</td>\n",
       "      <td>0.000000</td>\n",
       "    </tr>\n",
       "    <tr>\n",
       "      <th>1950</th>\n",
       "      <td>9.523810</td>\n",
       "      <td>5.357143</td>\n",
       "    </tr>\n",
       "    <tr>\n",
       "      <th>1960</th>\n",
       "      <td>13.664596</td>\n",
       "      <td>6.211180</td>\n",
       "    </tr>\n",
       "    <tr>\n",
       "      <th>1970</th>\n",
       "      <td>26.869806</td>\n",
       "      <td>16.066482</td>\n",
       "    </tr>\n",
       "    <tr>\n",
       "      <th>1980</th>\n",
       "      <td>16.849200</td>\n",
       "      <td>3.959562</td>\n",
       "    </tr>\n",
       "    <tr>\n",
       "      <th>1990</th>\n",
       "      <td>9.571345</td>\n",
       "      <td>2.759836</td>\n",
       "    </tr>\n",
       "    <tr>\n",
       "      <th>2000</th>\n",
       "      <td>4.295051</td>\n",
       "      <td>1.711796</td>\n",
       "    </tr>\n",
       "    <tr>\n",
       "      <th>2010</th>\n",
       "      <td>4.136947</td>\n",
       "      <td>2.111270</td>\n",
       "    </tr>\n",
       "  </tbody>\n",
       "</table>\n",
       "</div>"
      ],
      "text/plain": [
       "      member_deaths  hired_staff_deaths\n",
       "year                                   \n",
       "1900      25.000000          100.000000\n",
       "1910       0.000000            0.000000\n",
       "1920      40.000000          100.000000\n",
       "1930       5.882353           11.764706\n",
       "1940       0.000000            0.000000\n",
       "1950       9.523810            5.357143\n",
       "1960      13.664596            6.211180\n",
       "1970      26.869806           16.066482\n",
       "1980      16.849200            3.959562\n",
       "1990       9.571345            2.759836\n",
       "2000       4.295051            1.711796\n",
       "2010       4.136947            2.111270"
      ]
     },
     "execution_count": 16,
     "metadata": {},
     "output_type": "execute_result"
    }
   ],
   "source": [
    "#Number of expeditions by decade, as a check.\n",
    "print(expeditions[['expedition_id']].groupby((expeditions.year//10)*10).count())\n",
    "#Number of deaths by decade, as a check\n",
    "print(expeditions[['member_deaths', 'hired_staff_deaths']].groupby((expeditions.year//10)*10).sum())\n",
    "\n",
    "#Average percentage of death for members and hired staff by decade.\n",
    "expeditions[['member_deaths', 'hired_staff_deaths']].groupby((expeditions.year//10)*10).mean() * 100"
   ]
  },
  {
   "cell_type": "markdown",
   "metadata": {},
   "source": [
    "From [14], we can tell that the **total number of expeditions have been increasing decade-on-decade, across the decades** from 1900-1910 to the present day. This exact same pattern is mirrored in the tabulation of [15], which shows that the **number of members who embark on expeditions have also been increasing decade-on-decade, across the decades** from 1900-1910 to the present day. It is expected that these two metrics would follow a similar pattern, since expedition trips are attended by expedition members. The **most significant jump in both total expeditions and total members seems to happen in the 1970-1980 segment**, with a less steep but steady increase in both expeditions and members thereafter. \n",
    "\n",
    "In [16], we can see the longitudinal trend of the member deaths and hired staff deaths, across decades from 1900-1910 to the present. Overall, we see that it has become safer for members (i.e., from 25% of members dying in 1900-1910 to around 4% today); it has become far safer for hired staff (i.e., from 100% of hired staff dying in 1900-1910 and in 1920-1930 to around 2% today). In the 1930s-1940s, the hired staff fatality rate (i.e., around 12%) was higher than the expedition members fatality rate (i.e., around 6%), but since from the 1940-1950 onwards, the fatality rate of hired staff is consistently lower than the fatality rate of expedition members, possibly due to established protocols, safety procedures, and accrued wisdom from older hired staff. \n",
    "\n",
    "The two longitudinal trends captured in [14] and [15], also help to shed some light on the phenomena shown in [16], especially since there is an unaccounted inconsistency in 1970-1980. **We see that for the jump in expedition members and expeditions in 1970-1980, there is a corresponding huge spike in both member and hired staff fatality rate, around 27% and 16% respectively.** Since 1970-1980, fatality rates have fallen greatly despite the continued increase in expedition members and expeditions, as shown in [14] and [15]. This suggests that it took some time for systems and procedures to cope with the increased load of expedition members and expeditions."
   ]
  },
  {
   "cell_type": "markdown",
   "metadata": {},
   "source": [
    "### b) Calculate the length_of_expedition as the time between the basecamp_date and the termination_date in days. Now, standardize these length_of_expedition values to z-values grouped by each peak (that is you need to standardize with the mean and standard deviation of expeditions for the same peak only). Are longer expeditions more or less likely to be associated with death? (no statistical test necessary)"
   ]
  },
  {
   "cell_type": "code",
   "execution_count": 17,
   "metadata": {},
   "outputs": [],
   "source": [
    "#using pandas library to calculate convert datetime format to numeric values.\n",
    "expeditions['termination_date'] =  pd.to_datetime(expeditions['termination_date'], format='%Y-%m-%d')\n",
    "\n",
    "expeditions['basecamp_date'] =  pd.to_datetime(expeditions['basecamp_date'], format='%Y-%m-%d')"
   ]
  },
  {
   "cell_type": "code",
   "execution_count": 18,
   "metadata": {
    "scrolled": false
   },
   "outputs": [
    {
     "name": "stdout",
     "output_type": "stream",
     "text": [
      "0         NaN\n",
      "1        31.0\n",
      "2         NaN\n",
      "3        27.0\n",
      "4         NaN\n",
      "         ... \n",
      "10359    53.0\n",
      "10360    41.0\n",
      "10361     8.0\n",
      "10362    22.0\n",
      "10363    24.0\n",
      "Name: length_of_expedition, Length: 10364, dtype: float64\n"
     ]
    }
   ],
   "source": [
    "#calculating length of expedition\n",
    "expeditions['length_of_expedition'] = (expeditions['termination_date'] - expeditions['basecamp_date']).dt.days\n",
    "\n",
    "print(expeditions['length_of_expedition'])"
   ]
  },
  {
   "cell_type": "code",
   "execution_count": 19,
   "metadata": {},
   "outputs": [
    {
     "name": "stdout",
     "output_type": "stream",
     "text": [
      "0             NaN\n",
      "1       -0.074159\n",
      "2             NaN\n",
      "3       -0.400456\n",
      "4             NaN\n",
      "           ...   \n",
      "10359    4.141132\n",
      "10360    2.813516\n",
      "10361   -0.925485\n",
      "10362    0.653566\n",
      "10363         NaN\n",
      "Name: loe_zscore, Length: 10364, dtype: float64\n"
     ]
    }
   ],
   "source": [
    "#standardising length_of_expedition values to z_values, by peak.\n",
    "expeditions['loe_zscore'] = expeditions[['length_of_expedition', 'peak_id']].groupby('peak_id').transform(lambda x: (x - x.mean()) / x.std())\n",
    "print(expeditions['loe_zscore'])"
   ]
  },
  {
   "cell_type": "code",
   "execution_count": 20,
   "metadata": {
    "scrolled": false
   },
   "outputs": [
    {
     "data": {
      "image/png": "[encoded data removed]",
      "text/plain": [
       "<Figure size 432x288 with 1 Axes>"
      ]
     },
     "metadata": {
      "needs_background": "light"
     },
     "output_type": "display_data"
    }
   ],
   "source": [
    "#scatter plot of member_deaths on loe_zscore.\n",
    "plt.scatter(expeditions.loe_zscore, expeditions.member_deaths)\n",
    "plt.xlabel('loe_zscore')\n",
    "plt.ylabel('member_deaths')\n",
    "plt.show()"
   ]
  },
  {
   "cell_type": "code",
   "execution_count": 21,
   "metadata": {
    "scrolled": true
   },
   "outputs": [
    {
     "data": {
      "image/png": "[encoded data removed]",
      "text/plain": [
       "<Figure size 432x288 with 1 Axes>"
      ]
     },
     "metadata": {
      "needs_background": "light"
     },
     "output_type": "display_data"
    }
   ],
   "source": [
    "#scatter plot of hired_staff_deaths on loe_zscore.\n",
    "plt.scatter(expeditions.loe_zscore, expeditions.hired_staff_deaths)\n",
    "plt.xlabel('loe_zscore')\n",
    "plt.ylabel('hired_staff_deaths')\n",
    "plt.show()"
   ]
  },
  {
   "cell_type": "markdown",
   "metadata": {},
   "source": [
    "Calculating `length_of_expedition` values to `loe_zscore` values, grouped by peak, is helpful for understanding the relaionship between `length_of_expedition` and `member_deaths` or `length_of_expedition` and `hired_staff_deaths`, as we can compare these trends across all peaks regardless of their height. \n",
    "\n",
    "[20] and [21] also show that a higher `loe_zscore` can lead to more `member_deaths` and `hired_staff_deaths`. Both [20] and [21] clearly exhibit that there are a substantial number of `member_deaths` and `hired_staff_deaths` happen during expeditions with `loe_zscore` between 0 and 5 (i.e., expeditions with `length_of_expedition` between the mean duration and up to 5 standard deviations added to the mean duration). \n",
    "\n",
    "However,  from the scatter plots in [20] and [21], we can see that a higher `loe_zscore` does not necessarily relate to more `member_deaths` and `hired_staff_deaths`. In fact, we can see that expeditions with zero `member_deaths` or `hired_staff_deaths` can also have a very high `loe-zscore`, which does suggest that the given expedition took far longer than than the mean `length_of_expedition`. In fact, it is possible for expeditions which end faster than the mean `length_of_expedition` (i.e., with a `loe-zscore` of less than zero) to result in multiple `member_deaths` and `hired_staff_deaths` too."
   ]
  },
  {
   "cell_type": "markdown",
   "metadata": {},
   "source": [
    "# Question 5: Everest - A trophy?"
   ]
  },
  {
   "cell_type": "markdown",
   "metadata": {},
   "source": [
    "### Provide three separate pieces of evidence that address the question of whether climbing Mount Everest is a \"trophy\" accomplishment. Please show either tabular data or plots and briefly describe what you found."
   ]
  },
  {
   "cell_type": "markdown",
   "metadata": {},
   "source": [
    "My overall argument is that Mount Everest **is not a 'trophy' accomplishment**, because it is becoming more people are doing it, and it appears to be getting easier to do so. Accordingly, the distinction of having climbed Mount Everest also has diluted prestige. \n",
    "\n",
    "I support this with three separate pieces of evidence: \n",
    "\n",
    "1. Number of people who have climbed Mount Everest, by decade\n",
    "2. Number of hired staff who have been hired to help people scale Everest, by decade\n",
    "3. Average length of Everest expeditions, by decade"
   ]
  },
  {
   "cell_type": "code",
   "execution_count": 22,
   "metadata": {
    "scrolled": false
   },
   "outputs": [
    {
     "name": "stdout",
     "output_type": "stream",
     "text": [
      "Index(['expedition_id', 'member_id', 'peak_id_x', 'peak_name_x', 'year_x',\n",
      "       'season_x', 'sex', 'age', 'citizenship', 'expedition_role', 'hired',\n",
      "       'highpoint_metres_x', 'success', 'solo', 'oxygen_used_x', 'died',\n",
      "       'death_cause', 'death_height_metres', 'injured', 'injury_type',\n",
      "       'injury_height_metres', 'peak_name_y', 'peak_alternative_name',\n",
      "       'height_metres', 'climbing_status', 'first_ascent_year',\n",
      "       'first_ascent_country', 'first_ascent_expedition_id', 'peak_id_y',\n",
      "       'peak_name', 'year_y', 'season_y', 'basecamp_date', 'highpoint_date',\n",
      "       'termination_date', 'termination_reason', 'highpoint_metres_y',\n",
      "       'members', 'member_deaths', 'hired_staff', 'hired_staff_deaths',\n",
      "       'oxygen_used_y', 'trekking_agency'],\n",
      "      dtype='object')\n"
     ]
    },
    {
     "data": {
      "text/html": [
       "<div>\n",
       "<style scoped>\n",
       "    .dataframe tbody tr th:only-of-type {\n",
       "        vertical-align: middle;\n",
       "    }\n",
       "\n",
       "    .dataframe tbody tr th {\n",
       "        vertical-align: top;\n",
       "    }\n",
       "\n",
       "    .dataframe thead th {\n",
       "        text-align: right;\n",
       "    }\n",
       "</style>\n",
       "<table border=\"1\" class=\"dataframe\">\n",
       "  <thead>\n",
       "    <tr style=\"text-align: right;\">\n",
       "      <th></th>\n",
       "      <th>expedition_id</th>\n",
       "      <th>member_id</th>\n",
       "      <th>peak_id_x</th>\n",
       "      <th>peak_name_x</th>\n",
       "      <th>year_x</th>\n",
       "      <th>season_x</th>\n",
       "      <th>sex</th>\n",
       "      <th>age</th>\n",
       "      <th>citizenship</th>\n",
       "      <th>expedition_role</th>\n",
       "      <th>...</th>\n",
       "      <th>highpoint_date</th>\n",
       "      <th>termination_date</th>\n",
       "      <th>termination_reason</th>\n",
       "      <th>highpoint_metres_y</th>\n",
       "      <th>members</th>\n",
       "      <th>member_deaths</th>\n",
       "      <th>hired_staff</th>\n",
       "      <th>hired_staff_deaths</th>\n",
       "      <th>oxygen_used_y</th>\n",
       "      <th>trekking_agency</th>\n",
       "    </tr>\n",
       "  </thead>\n",
       "  <tbody>\n",
       "    <tr>\n",
       "      <th>8305</th>\n",
       "      <td>EVER63101</td>\n",
       "      <td>EVER63101-04</td>\n",
       "      <td>EVER</td>\n",
       "      <td>Everest</td>\n",
       "      <td>1963</td>\n",
       "      <td>Spring</td>\n",
       "      <td>M</td>\n",
       "      <td>31.0</td>\n",
       "      <td>USA</td>\n",
       "      <td>Climber</td>\n",
       "      <td>...</td>\n",
       "      <td>1963-05-01</td>\n",
       "      <td>1963-05-25</td>\n",
       "      <td>Success (main peak)</td>\n",
       "      <td>8850.0</td>\n",
       "      <td>20</td>\n",
       "      <td>1</td>\n",
       "      <td>40</td>\n",
       "      <td>0</td>\n",
       "      <td>True</td>\n",
       "      <td>NaN</td>\n",
       "    </tr>\n",
       "    <tr>\n",
       "      <th>8312</th>\n",
       "      <td>EVER63101</td>\n",
       "      <td>EVER63101-10</td>\n",
       "      <td>EVER</td>\n",
       "      <td>Everest</td>\n",
       "      <td>1963</td>\n",
       "      <td>Spring</td>\n",
       "      <td>M</td>\n",
       "      <td>32.0</td>\n",
       "      <td>USA</td>\n",
       "      <td>Climber</td>\n",
       "      <td>...</td>\n",
       "      <td>1963-05-01</td>\n",
       "      <td>1963-05-25</td>\n",
       "      <td>Success (main peak)</td>\n",
       "      <td>8850.0</td>\n",
       "      <td>20</td>\n",
       "      <td>1</td>\n",
       "      <td>40</td>\n",
       "      <td>0</td>\n",
       "      <td>True</td>\n",
       "      <td>NaN</td>\n",
       "    </tr>\n",
       "    <tr>\n",
       "      <th>8313</th>\n",
       "      <td>EVER63101</td>\n",
       "      <td>EVER63101-11</td>\n",
       "      <td>EVER</td>\n",
       "      <td>Everest</td>\n",
       "      <td>1963</td>\n",
       "      <td>Spring</td>\n",
       "      <td>M</td>\n",
       "      <td>26.0</td>\n",
       "      <td>USA</td>\n",
       "      <td>Climber</td>\n",
       "      <td>...</td>\n",
       "      <td>1963-05-01</td>\n",
       "      <td>1963-05-25</td>\n",
       "      <td>Success (main peak)</td>\n",
       "      <td>8850.0</td>\n",
       "      <td>20</td>\n",
       "      <td>1</td>\n",
       "      <td>40</td>\n",
       "      <td>0</td>\n",
       "      <td>True</td>\n",
       "      <td>NaN</td>\n",
       "    </tr>\n",
       "    <tr>\n",
       "      <th>8322</th>\n",
       "      <td>EVER63101</td>\n",
       "      <td>EVER63101-19</td>\n",
       "      <td>EVER</td>\n",
       "      <td>Everest</td>\n",
       "      <td>1963</td>\n",
       "      <td>Spring</td>\n",
       "      <td>M</td>\n",
       "      <td>36.0</td>\n",
       "      <td>USA</td>\n",
       "      <td>Climber</td>\n",
       "      <td>...</td>\n",
       "      <td>1963-05-01</td>\n",
       "      <td>1963-05-25</td>\n",
       "      <td>Success (main peak)</td>\n",
       "      <td>8850.0</td>\n",
       "      <td>20</td>\n",
       "      <td>1</td>\n",
       "      <td>40</td>\n",
       "      <td>0</td>\n",
       "      <td>True</td>\n",
       "      <td>NaN</td>\n",
       "    </tr>\n",
       "    <tr>\n",
       "      <th>8323</th>\n",
       "      <td>EVER63101</td>\n",
       "      <td>EVER63101-20</td>\n",
       "      <td>EVER</td>\n",
       "      <td>Everest</td>\n",
       "      <td>1963</td>\n",
       "      <td>Spring</td>\n",
       "      <td>M</td>\n",
       "      <td>34.0</td>\n",
       "      <td>USA</td>\n",
       "      <td>Climber</td>\n",
       "      <td>...</td>\n",
       "      <td>1963-05-01</td>\n",
       "      <td>1963-05-25</td>\n",
       "      <td>Success (main peak)</td>\n",
       "      <td>8850.0</td>\n",
       "      <td>20</td>\n",
       "      <td>1</td>\n",
       "      <td>40</td>\n",
       "      <td>0</td>\n",
       "      <td>True</td>\n",
       "      <td>NaN</td>\n",
       "    </tr>\n",
       "  </tbody>\n",
       "</table>\n",
       "<p>5 rows × 43 columns</p>\n",
       "</div>"
      ],
      "text/plain": [
       "     expedition_id     member_id peak_id_x peak_name_x  year_x season_x sex  \\\n",
       "8305     EVER63101  EVER63101-04      EVER     Everest    1963   Spring   M   \n",
       "8312     EVER63101  EVER63101-10      EVER     Everest    1963   Spring   M   \n",
       "8313     EVER63101  EVER63101-11      EVER     Everest    1963   Spring   M   \n",
       "8322     EVER63101  EVER63101-19      EVER     Everest    1963   Spring   M   \n",
       "8323     EVER63101  EVER63101-20      EVER     Everest    1963   Spring   M   \n",
       "\n",
       "       age citizenship expedition_role  ...  highpoint_date  termination_date  \\\n",
       "8305  31.0         USA         Climber  ...      1963-05-01        1963-05-25   \n",
       "8312  32.0         USA         Climber  ...      1963-05-01        1963-05-25   \n",
       "8313  26.0         USA         Climber  ...      1963-05-01        1963-05-25   \n",
       "8322  36.0         USA         Climber  ...      1963-05-01        1963-05-25   \n",
       "8323  34.0         USA         Climber  ...      1963-05-01        1963-05-25   \n",
       "\n",
       "       termination_reason  highpoint_metres_y  members  member_deaths  \\\n",
       "8305  Success (main peak)              8850.0       20              1   \n",
       "8312  Success (main peak)              8850.0       20              1   \n",
       "8313  Success (main peak)              8850.0       20              1   \n",
       "8322  Success (main peak)              8850.0       20              1   \n",
       "8323  Success (main peak)              8850.0       20              1   \n",
       "\n",
       "     hired_staff  hired_staff_deaths  oxygen_used_y trekking_agency  \n",
       "8305          40                   0           True             NaN  \n",
       "8312          40                   0           True             NaN  \n",
       "8313          40                   0           True             NaN  \n",
       "8322          40                   0           True             NaN  \n",
       "8323          40                   0           True             NaN  \n",
       "\n",
       "[5 rows x 43 columns]"
      ]
     },
     "execution_count": 22,
     "metadata": {},
     "output_type": "execute_result"
    }
   ],
   "source": [
    "#filtering for successful expeditions to Everest only; since 'accompolishment' connotes completion.\n",
    "everest = all_three.query('peak_id_x == \"EVER\" & success == True')\n",
    "\n",
    "#col_names, and a .head() command to check dataframe generated.\n",
    "print(everest.columns)\n",
    "everest.head()"
   ]
  },
  {
   "cell_type": "code",
   "execution_count": 23,
   "metadata": {},
   "outputs": [
    {
     "name": "stdout",
     "output_type": "stream",
     "text": [
      "1953\n",
      "2019\n"
     ]
    }
   ],
   "source": [
    "#descriptive stats to check by decade calculation.\n",
    "print(everest.year_x.min())\n",
    "print(everest.year_x.max())"
   ]
  },
  {
   "cell_type": "markdown",
   "metadata": {},
   "source": [
    "#### 1. Number of people who have climbed Mount Everest, by decade"
   ]
  },
  {
   "cell_type": "markdown",
   "metadata": {},
   "source": [
    "[24] shows that the number of members who have climbed Mount Everest has increased exponentially, decade-on-decade. In both 1980-1990 and 1990-2000, we see huge leaps in the number of people who have successfully scaled Mount Everest. \n",
    "\n",
    "The pool of people who have successfully scaled Mount Everest is **therefore increasingly dramatically, reducing the exclusivity of having scaled Mount Everest**."
   ]
  },
  {
   "cell_type": "code",
   "execution_count": 24,
   "metadata": {
    "scrolled": false
   },
   "outputs": [
    {
     "name": "stdout",
     "output_type": "stream",
     "text": [
      "        members\n",
      "year_x         \n",
      "1950         70\n",
      "1960        387\n",
      "1970       2131\n",
      "1980       4107\n",
      "1990      11596\n",
      "2000      41667\n",
      "2010      67243\n"
     ]
    },
    {
     "data": {
      "image/png": "[encoded data removed]",
      "text/plain": [
       "<Figure size 432x288 with 1 Axes>"
      ]
     },
     "metadata": {
      "needs_background": "light"
     },
     "output_type": "display_data"
    }
   ],
   "source": [
    "#number of people who have climbed Everest, by decade.\n",
    "print(everest[['members']].groupby((everest.year_x//10)*10).sum())\n",
    "\n",
    "plt.plot(everest[['members']].groupby((everest.year_x//10)*10).sum())\n",
    "plt.title('Number of Expedition Members by Decade')\n",
    "plt.xlabel('Year')\n",
    "plt.ylabel('Number of Expedition Members')\n",
    "plt.show()"
   ]
  },
  {
   "cell_type": "markdown",
   "metadata": {},
   "source": [
    "#### 2. Number of hired staff who have been hired to help people scale Everest, by decade"
   ]
  },
  {
   "cell_type": "markdown",
   "metadata": {},
   "source": [
    "[25] shows that the number of hired staff who faciliate Mount Everest climbs has also increased exponentially, decade-on-decade. We see a clear spikes in the number of hired staff from 1990-2000, 2000-2010 and 2010-present day. \n",
    "\n",
    "Together with [24], this suggests that whilst the number of people who have scaled Mount Everest are increasingly dramatically in number, the number of these people who are doing so with a lot of help ia also increasing. While more evidence might be necessary to substantiate this claim, **one might hypothesise that climbing Mount Everest is becoming an activity that is completed by wealthier individuals, who can afford to buy their way to the summit of Mount Everest through hiring additional help.**"
   ]
  },
  {
   "cell_type": "code",
   "execution_count": 25,
   "metadata": {
    "scrolled": false
   },
   "outputs": [
    {
     "name": "stdout",
     "output_type": "stream",
     "text": [
      "year_x\n",
      "1950      152\n",
      "1960      951\n",
      "1970     3168\n",
      "1980     3661\n",
      "1990     8371\n",
      "2000    35610\n",
      "2010    79685\n",
      "Name: hired_staff, dtype: int64\n"
     ]
    },
    {
     "data": {
      "image/png": "[encoded data removed]",
      "text/plain": [
       "<Figure size 432x288 with 1 Axes>"
      ]
     },
     "metadata": {
      "needs_background": "light"
     },
     "output_type": "display_data"
    }
   ],
   "source": [
    "#number of hired staff who have been hired to help people scale Everest, by decade.\n",
    "print(everest['hired_staff'].groupby((everest.year_x//10)*10).sum())\n",
    "\n",
    "plt.plot(everest['hired_staff'].groupby((everest.year_x//10)*10).sum())\n",
    "plt.title('Number of Hired Staff by Decade')\n",
    "plt.xlabel('Year')\n",
    "plt.ylabel('Number of Hired Staff')\n",
    "plt.show()"
   ]
  },
  {
   "cell_type": "markdown",
   "metadata": {},
   "source": [
    "#### 3. Average length of Everest expeditions, by decade"
   ]
  },
  {
   "cell_type": "markdown",
   "metadata": {},
   "source": [
    "[27] shows that Everest expeditions are falling in their average length of expedition, over the decades. \n",
    "\n",
    "This is a trend that runs concurrent with what has been seen in [24] and [25]. It is surprising that even though so many more people are completing Mount Everest summits, they seem to be taking less time. It could be because of the more hired staff that are present, as seen in [25], but overall, the falling length of expedition suggests that **it is getting easier to successfully complete a Mount Everest climb today, than it might have been a few decades ago.**"
   ]
  },
  {
   "cell_type": "code",
   "execution_count": 26,
   "metadata": {
    "scrolled": false
   },
   "outputs": [
    {
     "name": "stdout",
     "output_type": "stream",
     "text": [
      "8305     65.0\n",
      "8312     65.0\n",
      "8313     65.0\n",
      "8322     65.0\n",
      "8323     65.0\n",
      "         ... \n",
      "76109     NaN\n",
      "76110     NaN\n",
      "76111     NaN\n",
      "76112     NaN\n",
      "76113     NaN\n",
      "Length: 10036, dtype: float64\n"
     ]
    }
   ],
   "source": [
    "#calculating length of expedition, for expeditions on Everest.\n",
    "td =  pd.to_datetime(everest['termination_date'], format='%Y-%m-%d')\n",
    "\n",
    "bd = pd.to_datetime(everest['basecamp_date'], format='%Y-%m-%d')\n",
    "\n",
    "loe_e = (td - bd).dt.days\n",
    "\n",
    "print(loe_e)"
   ]
  },
  {
   "cell_type": "code",
   "execution_count": 27,
   "metadata": {
    "scrolled": false
   },
   "outputs": [
    {
     "name": "stdout",
     "output_type": "stream",
     "text": [
      "             mean        std\n",
      "year_x                      \n",
      "1950    53.333333   1.032796\n",
      "1960    68.600000   3.042555\n",
      "1970    53.535714   7.010480\n",
      "1980    56.650000  11.579654\n",
      "1990    47.880074   9.591008\n",
      "2000    46.330134   8.765702\n",
      "2010    39.816748   8.097372\n"
     ]
    },
    {
     "data": {
      "image/png": "[encoded data removed]",
      "text/plain": [
       "<Figure size 432x288 with 1 Axes>"
      ]
     },
     "metadata": {
      "needs_background": "light"
     },
     "output_type": "display_data"
    }
   ],
   "source": [
    "#average length of Everest expeditions, by decade. \n",
    "print(loe_e.groupby((everest.year_x//10)*10).agg(['mean', 'std']))\n",
    "\n",
    "plt.plot(loe_e.groupby((everest.year_x//10)*10).mean())\n",
    "plt.title('Length of Everest Expeditions by Decade')\n",
    "plt.xlabel('Year')\n",
    "plt.ylabel('Length of Everest Expeditions (in days)')\n",
    "plt.show()"
   ]
  },
  {
   "cell_type": "markdown",
   "metadata": {},
   "source": [
    "In conclusion, I make the claim that **climbing Everest is no longer a 'trophy' accomplishment** by taking three trends as evidence: \n",
    "\n",
    "1. the increasing number of people who are successfully completing Mount Everest climbs \n",
    "2. the exponentially increasing number of hired staff that are recruited to facilitate said Mount Everest summits \n",
    "3. the falling length of Everest expeditions\n",
    "\n",
    "The falling exclusivity and seeming increased ease of this accomplishment has diluted its overall prestige and its status as a 'trophy' accomplishment. It could have been considered one in earlier decades."
   ]
  }
 ],
 "metadata": {
  "kernelspec": {
   "display_name": "Python 3",
   "language": "python",
   "name": "python3"
  },
  "language_info": {
   "codemirror_mode": {
    "name": "ipython",
    "version": 3
   },
   "file_extension": ".py",
   "mimetype": "text/x-python",
   "name": "python",
   "nbconvert_exporter": "python",
   "pygments_lexer": "ipython3",
   "version": "3.7.6"
  }
 },
 "nbformat": 4,
 "nbformat_minor": 4
}
