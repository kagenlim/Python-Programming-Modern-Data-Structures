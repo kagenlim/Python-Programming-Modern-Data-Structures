{
 "cells": [
  {
   "cell_type": "markdown",
   "metadata": {},
   "source": [
    "Name: Kagen Lim\n",
    "\n",
    "Completed as HW04 of QMSS-G5072, Modern Data Structures, Fall 2020.\n",
    "\n",
    "Contact: [kagen.lim@columbia.edu](mailto:kagen.lim@columbia.edu)"
   ]
  },
  {
   "cell_type": "markdown",
   "metadata": {},
   "source": [
    "# Question 1: Recipe class"
   ]
  },
  {
   "cell_type": "markdown",
   "metadata": {},
   "source": [
    "a) Create Recipe class\n",
    "\n",
    "Create a class called `Recipe`. Initialize it with a\n",
    "\n",
    "- `name`: the name of the recipe\n",
    "- `ingredients`: a dictionary of ingredients contained in the recipe and their amounts (in grams)\n",
    "- `meal`: a string that indicates when this would be good to be eaten, e.g. lunch, snack etc.\n",
    "- `time`: the time it takes to prepare the recipe."
   ]
  },
  {
   "cell_type": "code",
   "execution_count": 93,
   "metadata": {},
   "outputs": [],
   "source": [
    "class Recipe: \n",
    "    def __init__(self, name=\"\", meal=\"\", time=20, ingredients={}):\n",
    "        self.n = name #string of name\n",
    "        self.m = meal #string of meal type\n",
    "        self.t = time #integer, in minutes\n",
    "        self.i = ingredients #dictionary"
   ]
  },
  {
   "cell_type": "code",
   "execution_count": 94,
   "metadata": {},
   "outputs": [
    {
     "name": "stdout",
     "output_type": "stream",
     "text": [
      "<__main__.Recipe object at 0x7fa8a41bce90>\n"
     ]
    }
   ],
   "source": [
    "#testing class Recipe\n",
    "hotdog = Recipe(\"hotdog\", \"lunch\", 20, {'hotdog': 20, 'bun': 40})\n",
    "print(hotdog)"
   ]
  },
  {
   "cell_type": "markdown",
   "metadata": {},
   "source": [
    "b) Add method and recipes\n",
    "\n",
    "Add a method to `Recipe` that prints the name of the recipe, the time it takes to prepare, and the type of meal.\n",
    "\n",
    "Initialize five recipes of your choice, two for dinner and three for dessert (these can be simple and don't need to be real recipes). Print the initialized objects."
   ]
  },
  {
   "cell_type": "code",
   "execution_count": 95,
   "metadata": {},
   "outputs": [],
   "source": [
    "class Recipe: \n",
    "    def __init__(self, name=\"\", meal=\"\", time=20, ingredients={}):\n",
    "        self.n = name #string of name\n",
    "        self.m = meal #string of meal type\n",
    "        self.t = time #integer, in minutes\n",
    "        self.i = ingredients #dictionary\n",
    "    \n",
    "    #method that prints the name of recipe, time time it takes to prepare, and the type of meal\n",
    "    def __str__(self):\n",
    "        return \"name=\" + self.n + \", \" + \"time=\" + str(self.t)+ \" minutes, \" + \"meal=\" + self.m"
   ]
  },
  {
   "cell_type": "code",
   "execution_count": 96,
   "metadata": {},
   "outputs": [],
   "source": [
    "#five recipes\n",
    "sandwich = Recipe(\"blt\", \"dinner\", 20, {'bacon': 50, 'lettuce': 20, 'tomato': 10, 'bread': 40})\n",
    "noodles = Recipe(\"maggi\", \"dinner\", 10, {'noodles': 50, 'soup': 50, 'egg': 20})\n",
    "flan = Recipe(\"flan\", \"dessert\", 30, {'custard': 50, 'caramel': 40, 'egg': 10})\n",
    "ice_cream = Recipe(\"ice cream\", \"dessert\", 30,  {'milk': 40, 'chocolate': 20, 'vanilla': 20})\n",
    "cake = Recipe(\"cake\", \"dessert\", 60, {'flour': 60, 'chocolate': 20, 'vanilla': 30})\n",
    "\n",
    "#list of five recipes\n",
    "recipes = [sandwich, noodles, flan, ice_cream, cake]"
   ]
  },
  {
   "cell_type": "code",
   "execution_count": 97,
   "metadata": {},
   "outputs": [
    {
     "name": "stdout",
     "output_type": "stream",
     "text": [
      "name=blt, time=20 minutes, meal=dinner\n",
      "name=maggi, time=10 minutes, meal=dinner\n",
      "name=flan, time=30 minutes, meal=dessert\n",
      "name=ice cream, time=30 minutes, meal=dessert\n",
      "name=cake, time=60 minutes, meal=dessert\n"
     ]
    }
   ],
   "source": [
    "for recipe in recipes:\n",
    "    print(recipe) #this is a result of __str__(self) above"
   ]
  },
  {
   "cell_type": "markdown",
   "metadata": {},
   "source": [
    "c) Total weight\n",
    "\n",
    "Add a method that provides the total weight of all ingredients combined. Call that method for one specific recipe."
   ]
  },
  {
   "cell_type": "code",
   "execution_count": 98,
   "metadata": {},
   "outputs": [],
   "source": [
    "class Recipe: \n",
    "    def __init__(self, name=\"\", meal=\"\", time=20, ingredients={}):\n",
    "        self.n = name #string of name\n",
    "        self.m = meal #string of meal type\n",
    "        self.t = time #integer, in minutes\n",
    "        self.i = ingredients #dictionary\n",
    "        \n",
    "    def __str__(self):\n",
    "        return \"name=\" + self.n + \", \" + \"time=\" + str(self.t)+ \" minutes, \" + \"meal=\" + self.m\n",
    "    \n",
    "    #method that provides the total weight of all ingredients combined\n",
    "    def total_weight(self): \n",
    "        return sum(self.i.values())"
   ]
  },
  {
   "cell_type": "code",
   "execution_count": 99,
   "metadata": {},
   "outputs": [
    {
     "data": {
      "text/plain": [
       "120"
      ]
     },
     "execution_count": 99,
     "metadata": {},
     "output_type": "execute_result"
    }
   ],
   "source": [
    "sandwich = Recipe(\"blt\", \"dinner\", 20, {'bacon': 50, 'lettuce': 20, 'tomato': 10, 'bread': 40})\n",
    "sandwich.total_weight() #calling .total_weight() method "
   ]
  },
  {
   "cell_type": "markdown",
   "metadata": {},
   "source": [
    "# 2. Organizing recipes in a Cookbook"
   ]
  },
  {
   "cell_type": "markdown",
   "metadata": {},
   "source": [
    "a) Create `Cookbook` class\n",
    "\n",
    "Now create a `Cookbook` class that will contain a list of `Recipe` objects."
   ]
  },
  {
   "cell_type": "code",
   "execution_count": 100,
   "metadata": {},
   "outputs": [],
   "source": [
    "class Cookbook: \n",
    "    def __init__(self): \n",
    "        self.sList = []\n",
    "    \n",
    "    def add(self, Recipe): \n",
    "        self.sList.append(Recipe)"
   ]
  },
  {
   "cell_type": "markdown",
   "metadata": {},
   "source": [
    "b) Meal type method\n",
    "\n",
    "Create a `get_meal_type()` method which has a `meal_type` parameter and returns a list of all recipes fitting the specified meal type."
   ]
  },
  {
   "cell_type": "code",
   "execution_count": 101,
   "metadata": {},
   "outputs": [],
   "source": [
    "class Cookbook: \n",
    "    def __init__(self): \n",
    "        self.sList = []\n",
    "    \n",
    "    def add(self, Recipe): \n",
    "        self.sList.append(Recipe) #so recipes can be added with the .add method\n",
    "        \n",
    "    def __str__(self): #so that entire recipes can be printed as strings\n",
    "        item = \"\"\n",
    "        for Recipe in self.sList:\n",
    "            item = item + str(Recipe) + \"\\n\"\n",
    "        return item \n",
    "    \n",
    "    def get_meal_type(self, meal_type=''): \n",
    "        for Recipe in self.sList:\n",
    "            \n",
    "            if meal_type == 'dinner':\n",
    "                return list(Recipe for Recipe in self.sList if Recipe.m == 'dinner')\n",
    "        \n",
    "            if meal_type == 'dessert':\n",
    "                return list(Recipe for Recipe in self.sList if Recipe.m == 'dessert')\n",
    "            \n",
    "            #same syntax can be replicated for any number of meal_types that grandma needs\n",
    "            #included lunch, snack and breakfast as examples\n",
    "            if meal_type == 'lunch':\n",
    "                return list(Recipe for Recipe in self.sList if Recipe.m == 'lunch')\n",
    "            \n",
    "            if meal_type == 'snack':\n",
    "                return list(Recipe for Recipe in self.sList if Recipe.m == 'snack')\n",
    "            \n",
    "            if meal_type == 'breakfast':\n",
    "                return list(Recipe for Recipe in self.sList if Recipe.m == 'breakfast')"
   ]
  },
  {
   "cell_type": "markdown",
   "metadata": {},
   "source": [
    "c) Make a cookbook\n",
    "\n",
    "Add the five recipes from above to the Cookbook. Using the method fom (b) print the names of all `dessert` recipes."
   ]
  },
  {
   "cell_type": "code",
   "execution_count": 102,
   "metadata": {},
   "outputs": [],
   "source": [
    "#five recipes from above, replicated here\n",
    "sandwich = Recipe(\"blt\", \"dinner\", 20, {'bacon': 50, 'lettuce': 20, 'tomato': 10, 'bread': 40})\n",
    "noodles = Recipe(\"maggi\", \"dinner\", 10, {'noodles': 50, 'soup': 50, 'egg': 20})\n",
    "flan = Recipe(\"flan\", \"dessert\", 30, {'custard': 50, 'caramel': 40, 'egg': 10})\n",
    "ice_cream = Recipe(\"ice cream\", \"dessert\", 30,  {'milk': 40, 'chocolate': 20, 'vanilla': 20})\n",
    "cake = Recipe(\"cake\", \"dessert\", 60, {'flour': 60, 'chocolate': 20, 'vanilla': 30})"
   ]
  },
  {
   "cell_type": "code",
   "execution_count": 145,
   "metadata": {},
   "outputs": [
    {
     "data": {
      "text/plain": [
       "<__main__.Cookbook at 0x7fa8a41cd910>"
      ]
     },
     "execution_count": 145,
     "metadata": {},
     "output_type": "execute_result"
    }
   ],
   "source": [
    "#forming cookbook\n",
    "mycookbook = Cookbook()\n",
    "mycookbook.add(sandwich)\n",
    "mycookbook.add(noodles)\n",
    "mycookbook.add(flan)\n",
    "mycookbook.add(ice_cream)\n",
    "mycookbook.add(cake)\n",
    "mycookbook"
   ]
  },
  {
   "cell_type": "code",
   "execution_count": 146,
   "metadata": {},
   "outputs": [
    {
     "name": "stdout",
     "output_type": "stream",
     "text": [
      "name=blt, time=20 minutes, meal=dinner\n",
      "name=maggi, time=10 minutes, meal=dinner\n",
      "name=flan, time=30 minutes, meal=dessert\n",
      "name=ice cream, time=30 minutes, meal=dessert\n",
      "name=cake, time=60 minutes, meal=dessert\n",
      "\n"
     ]
    }
   ],
   "source": [
    "print(mycookbook)\n",
    "#this is a result of __str__(self) above"
   ]
  },
  {
   "cell_type": "code",
   "execution_count": 147,
   "metadata": {},
   "outputs": [
    {
     "data": {
      "text/plain": [
       "[<__main__.Recipe at 0x7fa8a41c9c10>,\n",
       " <__main__.Recipe at 0x7fa8a419b910>,\n",
       " <__main__.Recipe at 0x7fa8a419b350>]"
      ]
     },
     "execution_count": 147,
     "metadata": {},
     "output_type": "execute_result"
    }
   ],
   "source": [
    "mycookbook.get_meal_type('dessert') #list of desserts, Recipe objects"
   ]
  },
  {
   "cell_type": "code",
   "execution_count": 148,
   "metadata": {},
   "outputs": [
    {
     "name": "stdout",
     "output_type": "stream",
     "text": [
      "flan\n",
      "ice cream\n",
      "cake\n"
     ]
    }
   ],
   "source": [
    "for recipe in mycookbook.get_meal_type('dessert'): \n",
    "    print(recipe.n) #names of desserts only"
   ]
  },
  {
   "cell_type": "markdown",
   "metadata": {},
   "source": [
    "d) Ingredient at home\n",
    "\n",
    "Add a method that takes in a list (or set) of `available_ingredients` and a boolean `match_all`. The boolean indicates whether all available ingredients (`match_all = True`) or any ingredient (`match_all = False`) need to be contained in the result list. Call the method twice to show how the boolean `match_all` affects your results."
   ]
  },
  {
   "cell_type": "code",
   "execution_count": 195,
   "metadata": {},
   "outputs": [
    {
     "name": "stdout",
     "output_type": "stream",
     "text": [
      "['bacon', 'lettuce', 'tomato', 'bread']\n",
      "['noodles', 'soup', 'egg']\n",
      "['custard', 'caramel', 'egg']\n",
      "['milk', 'chocolate', 'vanilla']\n",
      "['flour', 'chocolate', 'vanilla']\n"
     ]
    }
   ],
   "source": [
    "for Recipe in recipes:\n",
    "    print(list(Recipe.i.keys()))"
   ]
  },
  {
   "cell_type": "code",
   "execution_count": 288,
   "metadata": {},
   "outputs": [],
   "source": [
    "class Cookbook: \n",
    "    def __init__(self): \n",
    "        self.sList = []\n",
    "    \n",
    "    def add(self, Recipe): \n",
    "        self.sList.append(Recipe) #so recipes can be added with the .add method\n",
    "        \n",
    "    def __str__(self): #so that entire recipes can be printed as strings\n",
    "        item = \"\"\n",
    "        for Recipe in self.sList:\n",
    "            item = item + str(Recipe) + \"\\n\"\n",
    "        return item \n",
    "    \n",
    "    def get_meal_type(self, meal_type=''): \n",
    "        for Recipe in self.sList:\n",
    "            \n",
    "            if meal_type == 'dinner':\n",
    "                return list(Recipe for Recipe in self.sList if Recipe.m == 'dinner')\n",
    "        \n",
    "            if meal_type == 'dessert':\n",
    "                return list(Recipe for Recipe in self.sList if Recipe.m == 'dessert')\n",
    "            \n",
    "            #same syntax can be replicated for any number of meal_types that grandma needs\n",
    "            #included lunch, snack and breakfast as examples\n",
    "            if meal_type == 'lunch':\n",
    "                return list(Recipe for Recipe in self.sList if Recipe.m == 'lunch')\n",
    "            \n",
    "            if meal_type == 'snack':\n",
    "                return list(Recipe for Recipe in self.sList if Recipe.m == 'snack')\n",
    "            \n",
    "            if meal_type == 'breakfast':\n",
    "                return list(Recipe for Recipe in self.sList if Recipe.m == 'breakfast')\n",
    "            \n",
    "    def check_ingredients(self, available_ingredients=[], match_all = False):\n",
    "        \n",
    "        for Recipe in self.sList: \n",
    "            \n",
    "            if match_all == False:\n",
    "                if set(Recipe.i.keys()) <= set(available_ingredients) != False:\n",
    "                    return list(Recipe) #I have some difficulty figuring this out, apologies. \n",
    "                #I think that the bulk of my difficulty lies in how to extract/return the specific list of recipes,\n",
    "                #but also possibly with regard to how to select from `available_ingredients`\n",
    "                #I would appreciate some advice on this, please!\n",
    "            \n",
    "            if match_all == True: \n",
    "                if Recipe.i.keys() == available_ingredients:\n",
    "                    return list(Recipe)\n",
    "        \n",
    "            else:\n",
    "                print (\"Can't cook this recipe\")"
   ]
  },
  {
   "cell_type": "code",
   "execution_count": 289,
   "metadata": {},
   "outputs": [
    {
     "ename": "AttributeError",
     "evalue": "'list' object has no attribute 'intersection'",
     "output_type": "error",
     "traceback": [
      "\u001b[0;31m---------------------------------------------------------------------------\u001b[0m",
      "\u001b[0;31mAttributeError\u001b[0m                            Traceback (most recent call last)",
      "\u001b[0;32m<ipython-input-289-8e0496a604b3>\u001b[0m in \u001b[0;36m<module>\u001b[0;34m\u001b[0m\n\u001b[0;32m----> 1\u001b[0;31m \u001b[0mmycookbook\u001b[0m\u001b[0;34m.\u001b[0m\u001b[0mcheck_ingredients\u001b[0m\u001b[0;34m(\u001b[0m\u001b[0;34m[\u001b[0m\u001b[0;34m'flour'\u001b[0m\u001b[0;34m,\u001b[0m \u001b[0;34m'chocolate'\u001b[0m\u001b[0;34m]\u001b[0m\u001b[0;34m,\u001b[0m \u001b[0;32mFalse\u001b[0m\u001b[0;34m)\u001b[0m\u001b[0;34m\u001b[0m\u001b[0;34m\u001b[0m\u001b[0m\n\u001b[0m",
      "\u001b[0;32m<ipython-input-140-d6d2d44cb3f8>\u001b[0m in \u001b[0;36mcheck_ingredients\u001b[0;34m(self, available_ingredients, match_all)\u001b[0m\n\u001b[1;32m     38\u001b[0m             \u001b[0;32mif\u001b[0m \u001b[0mmatch_all\u001b[0m \u001b[0;34m==\u001b[0m \u001b[0;32mFalse\u001b[0m\u001b[0;34m:\u001b[0m\u001b[0;34m\u001b[0m\u001b[0;34m\u001b[0m\u001b[0m\n\u001b[1;32m     39\u001b[0m \u001b[0;34m\u001b[0m\u001b[0m\n\u001b[0;32m---> 40\u001b[0;31m                 \u001b[0;32mif\u001b[0m \u001b[0mavailable_ingredients\u001b[0m\u001b[0;34m.\u001b[0m\u001b[0mintersection\u001b[0m\u001b[0;34m(\u001b[0m\u001b[0mlist\u001b[0m\u001b[0;34m(\u001b[0m\u001b[0mRecipe\u001b[0m\u001b[0;34m.\u001b[0m\u001b[0mi\u001b[0m\u001b[0;34m.\u001b[0m\u001b[0mkeys\u001b[0m\u001b[0;34m(\u001b[0m\u001b[0;34m)\u001b[0m\u001b[0;34m)\u001b[0m\u001b[0;34m)\u001b[0m \u001b[0;34m!=\u001b[0m \u001b[0;32mFalse\u001b[0m \u001b[0;34m:\u001b[0m\u001b[0;34m\u001b[0m\u001b[0;34m\u001b[0m\u001b[0m\n\u001b[0m\u001b[1;32m     41\u001b[0m                     \u001b[0;32mreturn\u001b[0m \u001b[0mlist\u001b[0m\u001b[0;34m(\u001b[0m\u001b[0mRecipe\u001b[0m \u001b[0;32mfor\u001b[0m \u001b[0mRecipe\u001b[0m \u001b[0;32min\u001b[0m \u001b[0mself\u001b[0m\u001b[0;34m.\u001b[0m\u001b[0msList\u001b[0m \u001b[0;32mif\u001b[0m \u001b[0mRecipe\u001b[0m\u001b[0;34m.\u001b[0m\u001b[0mi\u001b[0m\u001b[0;34m.\u001b[0m\u001b[0missubset\u001b[0m\u001b[0;34m(\u001b[0m\u001b[0mavailable_ingredients\u001b[0m\u001b[0;34m)\u001b[0m\u001b[0;34m)\u001b[0m\u001b[0;34m\u001b[0m\u001b[0;34m\u001b[0m\u001b[0m\n\u001b[1;32m     42\u001b[0m                 \u001b[0;32mif\u001b[0m \u001b[0mavailable_ingredients\u001b[0m \u001b[0;34m!=\u001b[0m \u001b[0mlist\u001b[0m\u001b[0;34m(\u001b[0m\u001b[0mRecipe\u001b[0m\u001b[0;34m.\u001b[0m\u001b[0mi\u001b[0m\u001b[0;34m.\u001b[0m\u001b[0mkeys\u001b[0m\u001b[0;34m(\u001b[0m\u001b[0;34m)\u001b[0m\u001b[0;34m)\u001b[0m\u001b[0;34m:\u001b[0m\u001b[0;34m\u001b[0m\u001b[0;34m\u001b[0m\u001b[0m\n",
      "\u001b[0;31mAttributeError\u001b[0m: 'list' object has no attribute 'intersection'"
     ]
    }
   ],
   "source": [
    "mycookbook.check_ingredients(['flour', 'chocolate'], False)"
   ]
  }
 ],
 "metadata": {
  "kernelspec": {
   "display_name": "Python 3",
   "language": "python",
   "name": "python3"
  },
  "language_info": {
   "codemirror_mode": {
    "name": "ipython",
    "version": 3
   },
   "file_extension": ".py",
   "mimetype": "text/x-python",
   "name": "python",
   "nbconvert_exporter": "python",
   "pygments_lexer": "ipython3",
   "version": "3.7.6"
  }
 },
 "nbformat": 4,
 "nbformat_minor": 4
}
